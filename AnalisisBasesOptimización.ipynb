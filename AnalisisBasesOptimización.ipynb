{
  "nbformat": 4,
  "nbformat_minor": 0,
  "metadata": {
    "colab": {
      "provenance": [],
      "include_colab_link": true
    },
    "kernelspec": {
      "name": "python3",
      "display_name": "Python 3"
    }
  },
  "cells": [
    {
      "cell_type": "markdown",
      "metadata": {
        "id": "view-in-github",
        "colab_type": "text"
      },
      "source": [
        "<a href=\"https://colab.research.google.com/github/AntonioBorrego/Spark/blob/main/AnalisisBases.ipynb\" target=\"_parent\"><img src=\"https://colab.research.google.com/assets/colab-badge.svg\" alt=\"Open In Colab\"/></a>"
      ]
    },
    {
      "cell_type": "code",
      "metadata": {
        "id": "3lMu3uP2qC56"
      },
      "source": [
        "!apt-get install openjdk-8-jdk\n",
        "import os\n",
        "os.environ[\"JAVA_HOME\"] = \"/usr/lib/jvm/java-8-openjdk-amd64\"\n",
        "!pip install pyspark"
      ],
      "execution_count": null,
      "outputs": []
    },
    {
      "cell_type": "code",
      "metadata": {
        "id": "V7TY66HGqSlt"
      },
      "source": [
        "from pyspark import SparkContext\n",
        "sc = SparkContext()"
      ],
      "execution_count": null,
      "outputs": []
    },
    {
      "cell_type": "code",
      "metadata": {
        "id": "POxSK6UwqYHh"
      },
      "source": [
        "import pandas as pd\n",
        "import networkx as net\n",
        "from pyspark.sql import SparkSession\n",
        "spark = SparkSession.builder.getOrCreate()"
      ],
      "execution_count": null,
      "outputs": []
    },
    {
      "cell_type": "code",
      "metadata": {
        "id": "pZWg-KiMqdEE"
      },
      "source": [
        "from pyspark.sql import SparkSession \n",
        "from pyspark.sql.types import * \n",
        "from pyspark.sql.functions import *\n",
        "import plotly.graph_objects as go\n",
        "import plotly.express as px\n",
        "import numpy as np"
      ],
      "execution_count": null,
      "outputs": []
    },
    {
      "cell_type": "code",
      "metadata": {
        "id": "O0GuUHUyQ_po"
      },
      "source": [
        "# Creamos una función udf para transformar los True en \"Optimo\" y los False en \"No Optimo\".\n",
        "def rend(rendimiento):\n",
        "  if rendimiento==True:\n",
        "    return \"Optimo\"\n",
        "  if rendimiento==False:\n",
        "    return \"No Optimo\"\n",
        "\n",
        "usoUdf = udf(rend)"
      ],
      "execution_count": null,
      "outputs": []
    },
    {
      "cell_type": "markdown",
      "metadata": {
        "id": "jxTdqQmGzQT8"
      },
      "source": [
        "# JULIO"
      ]
    },
    {
      "cell_type": "code",
      "metadata": {
        "id": "1OvBjPhiuERj",
        "colab": {
          "base_uri": "https://localhost:8080/",
          "height": 459
        },
        "outputId": "0ace244d-984a-484c-88cf-495e3d5f54a7"
      },
      "source": [
        "opt_jul = spark.read.load(\"/content/optimo_julio.csv\",'com.databricks.spark.csv',header='true',inferSchema='true')\n",
        "opt_jul.show()"
      ],
      "execution_count": null,
      "outputs": [
        {
          "output_type": "stream",
          "text": [
            "+---+-----------+--------+-------+--------+-----+------------------+---------------+-----------+\n",
            "|_c0|total_bases|estacion|Salidas|Llegadas|Flujo|        Frecuencia|Demanda_Deficit|Rendimiento|\n",
            "+---+-----------+--------+-------+--------+-----+------------------+---------------+-----------+\n",
            "|  0|         24|     135|     73|      71|  144|1.8088179876899886|             -2|     Optimo|\n",
            "|  1|         27|      43|     78|      61|  139| 1.746011807561864|            -17|  No Optimo|\n",
            "|  2|         27|      90|     69|      54|  123|1.5450320311518653|            -15|  No Optimo|\n",
            "|  3|         24|     129|     60|      52|  112| 1.406858434869991|             -8|     Optimo|\n",
            "|  4|         24|      57|     58|      53|  111|1.3942971988443662|             -5|     Optimo|\n",
            "|  5|         24|     132|     54|      54|  108|1.3566134907674914|              0|     Optimo|\n",
            "|  6|         24|     163|     50|      50|  100|1.2561236025624922|              0|     Optimo|\n",
            "|  7|         24|      19|     42|      54|   96|1.2058786584599923|             12|     Optimo|\n",
            "|  8|         24|       1|     44|      52|   96|1.2058786584599923|              8|     Optimo|\n",
            "|  9|         24|     133|     45|      48|   93|1.1681949503831177|              3|     Optimo|\n",
            "| 10|         24|      83|     42|      48|   90| 1.130511242306243|              6|     Optimo|\n",
            "| 11|         21|      49|     48|      42|   90| 1.130511242306243|             -6|     Optimo|\n",
            "| 12|         21|      91|     41|      49|   90| 1.130511242306243|              8|     Optimo|\n",
            "| 13|         21|      45|     40|      46|   86|1.0802662982037434|              6|     Optimo|\n",
            "| 14|         24|      74|     49|      36|   85|1.0677050621781183|            -13|  No Optimo|\n",
            "| 15|         24|      82|     42|      43|   85|1.0677050621781183|              1|     Optimo|\n",
            "| 16|         24|     149|     37|      47|   84|1.0551438261524932|             10|     Optimo|\n",
            "| 17|         24|      26|     35|      45|   80|1.0048988820499938|             10|     Optimo|\n",
            "| 18|         27|     114|     43|      37|   80|1.0048988820499938|             -6|     Optimo|\n",
            "| 19|         24|      59|     34|      45|   79|0.9923376460243688|             11|     Optimo|\n",
            "+---+-----------+--------+-------+--------+-----+------------------+---------------+-----------+\n",
            "only showing top 20 rows\n",
            "\n"
          ],
          "name": "stdout"
        }
      ]
    },
    {
      "cell_type": "code",
      "metadata": {
        "id": "VhecqDBgzOqr"
      },
      "source": [
        "no_optimas = opt_jul.filter(opt_jul.Rendimiento == \"No Optimo\")"
      ],
      "execution_count": null,
      "outputs": []
    },
    {
      "cell_type": "code",
      "metadata": {
        "id": "P_DYnHwd36Be"
      },
      "source": [
        "no_optimas_rdd=no_optimas.rdd.map(tuple)"
      ],
      "execution_count": null,
      "outputs": []
    },
    {
      "cell_type": "code",
      "metadata": {
        "id": "_GZ6RHoy4AcX"
      },
      "source": [
        "estaciones_n_o=no_optimas_rdd.map(lambda x: x[2]).collect()"
      ],
      "execution_count": null,
      "outputs": []
    },
    {
      "cell_type": "code",
      "metadata": {
        "id": "1oMZAlrV8T3x",
        "colab": {
          "base_uri": "https://localhost:8080/",
          "height": 901
        },
        "outputId": "36fad270-e6d9-420f-adf0-f06dff0b6029"
      },
      "source": [
        "estaciones_n_o"
      ],
      "execution_count": null,
      "outputs": [
        {
          "output_type": "execute_result",
          "data": {
            "text/plain": [
              "[43,\n",
              " 90,\n",
              " 74,\n",
              " 17,\n",
              " 25,\n",
              " 12,\n",
              " 21,\n",
              " 62,\n",
              " 8,\n",
              " 145,\n",
              " 99,\n",
              " 65,\n",
              " 148,\n",
              " 119,\n",
              " 153,\n",
              " 142,\n",
              " 97,\n",
              " 130,\n",
              " 94,\n",
              " 143,\n",
              " 158,\n",
              " 146,\n",
              " 35,\n",
              " 115,\n",
              " 120,\n",
              " 100,\n",
              " 39,\n",
              " 150,\n",
              " 138,\n",
              " 69,\n",
              " 15,\n",
              " 152,\n",
              " 151,\n",
              " 144,\n",
              " 104,\n",
              " 92,\n",
              " 112,\n",
              " 101,\n",
              " 140,\n",
              " 29,\n",
              " 107,\n",
              " 105,\n",
              " 141,\n",
              " 88,\n",
              " 28,\n",
              " 173,\n",
              " 147,\n",
              " 72,\n",
              " 159,\n",
              " 32,\n",
              " 20,\n",
              " 61]"
            ]
          },
          "metadata": {
            "tags": []
          },
          "execution_count": 9
        }
      ]
    },
    {
      "cell_type": "code",
      "metadata": {
        "id": "9IaRqtAiNqp_",
        "colab": {
          "base_uri": "https://localhost:8080/",
          "height": 136
        },
        "outputId": "81a2a6de-4be1-4169-f04a-c794c162bfdc"
      },
      "source": [
        "# Recuento de estaciones optimas y no optimas de las estaciones Julio.\n",
        "opt_jul.createOrReplaceTempView(\"filtrado\")\n",
        "booleano_jul_total= spark.sql(\"select Rendimiento, count(Rendimiento) as Cantidad from filtrado group by Rendimiento\")\n",
        "booleano_panda_jul_total = booleano_jul_total.toPandas()\n",
        "booleano_jul_total.show()"
      ],
      "execution_count": null,
      "outputs": [
        {
          "output_type": "stream",
          "text": [
            "+-----------+--------+\n",
            "|Rendimiento|Cantidad|\n",
            "+-----------+--------+\n",
            "|  No Optimo|      52|\n",
            "|     Optimo|     118|\n",
            "+-----------+--------+\n",
            "\n"
          ],
          "name": "stdout"
        }
      ]
    },
    {
      "cell_type": "code",
      "metadata": {
        "id": "ZvOwFjO3z2hF",
        "colab": {
          "base_uri": "https://localhost:8080/",
          "height": 119
        },
        "outputId": "76d65295-5f52-450b-ecf2-3f0dd236034c"
      },
      "source": [
        "no_optimas.createOrReplaceTempView(\"filtrado\")\n",
        "booleano = spark.sql(\"select Rendimiento, count(rendimiento) as Cantidad from filtrado group by Rendimiento\")\n",
        "booleano_panda = booleano.toPandas()\n",
        "booleano.show()"
      ],
      "execution_count": null,
      "outputs": [
        {
          "output_type": "stream",
          "text": [
            "+-----------+--------+\n",
            "|Rendimiento|Cantidad|\n",
            "+-----------+--------+\n",
            "|  No Optimo|      52|\n",
            "+-----------+--------+\n",
            "\n"
          ],
          "name": "stdout"
        }
      ]
    },
    {
      "cell_type": "markdown",
      "metadata": {
        "id": "Fq1Zpb8CnJ0_"
      },
      "source": [
        "# AGOSTO"
      ]
    },
    {
      "cell_type": "code",
      "metadata": {
        "id": "mGzb5GwfzpdB",
        "colab": {
          "base_uri": "https://localhost:8080/",
          "height": 459
        },
        "outputId": "a364058e-2587-4aec-d158-b1a72ebcfe2c"
      },
      "source": [
        "opt_ago = spark.read.load(\"/content/optimos_Agosto.csv\",'com.databricks.spark.csv',header='true',inferSchema='true')\n",
        "opt_ago.show()"
      ],
      "execution_count": null,
      "outputs": [
        {
          "output_type": "stream",
          "text": [
            "+---+-----------+--------+-------+--------+-----+------------------+---------------+-----------+\n",
            "|_c0|total_bases|estacion|Salidas|Llegadas|Flujo|        Frecuencia|Demanda_Deficit|Rendimiento|\n",
            "+---+-----------+--------+-------+--------+-----+------------------+---------------+-----------+\n",
            "|  0|         27|      43|    541|     565| 1106|1.9915010083549411|             24|  No Optimo|\n",
            "|  1|         24|     163|    400|     401|  801|1.4423076923076923|              1|     Optimo|\n",
            "|  2|         24|     149|    383|     384|  767|1.3810861423220975|              1|     Optimo|\n",
            "|  3|         24|      57|    376|     386|  762|1.3720829732065687|             10|     Optimo|\n",
            "|  4|         24|     135|    376|     357|  733|1.3198645923365024|            -19|  No Optimo|\n",
            "|  5|         24|     129|    355|     357|  712| 1.282051282051282|              2|     Optimo|\n",
            "|  6|         27|      90|    342|     339|  681|1.2262316335350043|             -3|     Optimo|\n",
            "|  7|         24|       1|    332|     337|  669|1.2046240276577354|              5|     Optimo|\n",
            "|  8|         24|      83|    312|     310|  622| 1.119994237971766|             -2|     Optimo|\n",
            "|  9|         24|     168|    292|     301|  593|1.0677758571016998|              9|     Optimo|\n",
            "| 10|         24|     108|    282|     292|  574|1.0335638144626909|             10|     Optimo|\n",
            "| 11|         24|      64|    294|     278|  572|1.0299625468164793|            -16|  No Optimo|\n",
            "| 12|         24|       9|    287|     277|  564|1.0155574762316335|            -10|     Optimo|\n",
            "| 13|         24|     160|    287|     277|  564|1.0155574762316335|            -10|     Optimo|\n",
            "| 14|         24|      19|    282|     272|  554|0.9975511380005763|            -10|     Optimo|\n",
            "| 15|         24|     128|    266|     279|  545|0.9813454335926246|             13|  No Optimo|\n",
            "| 16|         24|      41|    255|     265|  520|0.9363295880149813|             10|     Optimo|\n",
            "| 17|         21|      45|    256|     261|  517| 0.930927686545664|              5|     Optimo|\n",
            "| 18|         21|      49|    250|     265|  515|0.9273264188994527|             15|  No Optimo|\n",
            "| 19|         24|     133|    255|     249|  504|0.9075194468452896|             -6|     Optimo|\n",
            "+---+-----------+--------+-------+--------+-----+------------------+---------------+-----------+\n",
            "only showing top 20 rows\n",
            "\n"
          ],
          "name": "stdout"
        }
      ]
    },
    {
      "cell_type": "code",
      "metadata": {
        "id": "uzX-B5IRzxuo",
        "colab": {
          "base_uri": "https://localhost:8080/",
          "height": 459
        },
        "outputId": "0ea93461-638d-4572-934d-80fcd6e8ec1b"
      },
      "source": [
        "comp_ago = opt_ago[opt_ago['estacion'].isin(estaciones_n_o)]\n",
        "comp_ago.show()"
      ],
      "execution_count": null,
      "outputs": [
        {
          "output_type": "stream",
          "text": [
            "+---+-----------+--------+-------+--------+-----+-------------------+---------------+-----------+\n",
            "|_c0|total_bases|estacion|Salidas|Llegadas|Flujo|         Frecuencia|Demanda_Deficit|Rendimiento|\n",
            "+---+-----------+--------+-------+--------+-----+-------------------+---------------+-----------+\n",
            "|  0|         27|      43|    541|     565| 1106| 1.9915010083549411|             24|  No Optimo|\n",
            "|  6|         27|      90|    342|     339|  681| 1.2262316335350043|             -3|     Optimo|\n",
            "| 40|         24|      74|    213|     207|  420|  0.756266205704408|             -6|     Optimo|\n",
            "| 50|         24|     145|    188|     195|  383| 0.6896427542494958|              7|     Optimo|\n",
            "| 52|         24|     115|    190|     183|  373| 0.6716364160184385|             -7|     Optimo|\n",
            "| 55|         30|      21|    190|     176|  366| 0.6590319792566983|            -14|     Optimo|\n",
            "| 56|         24|      62|    181|     184|  365| 0.6572313454335926|              3|     Optimo|\n",
            "| 59|         21|      99|    171|     179|  350| 0.6302218380870066|              8|     Optimo|\n",
            "| 60|         24|      65|    175|     173|  348| 0.6266205704407951|             -2|     Optimo|\n",
            "| 71|         24|     130|    161|     157|  318| 0.5726015557476232|             -4|     Optimo|\n",
            "| 72|         24|      69|    161|     154|  315| 0.5671996542783059|             -7|     Optimo|\n",
            "| 73|         24|      25|    161|     151|  312| 0.5617977528089888|            -10|     Optimo|\n",
            "| 79|         21|       8|    148|     151|  299| 0.5383895131086143|              3|     Optimo|\n",
            "| 80|         24|       8|    148|     151|  299| 0.5383895131086143|              3|     Optimo|\n",
            "| 95|         24|     142|    137|     143|  280| 0.5041774704696053|              6|     Optimo|\n",
            "| 97|         24|     153|    136|     138|  274|0.49337366753097095|              2|     Optimo|\n",
            "|100|         21|      17|    134|     139|  273|0.49157303370786515|              5|     Optimo|\n",
            "|101|         24|     143|    141|     131|  272|0.48977239988475946|            -10|     Optimo|\n",
            "|102|         24|      92|    140|     131|  271|0.48797176606165366|             -9|     Optimo|\n",
            "|110|         24|      94|    127|     134|  261|0.46996542783059636|              7|     Optimo|\n",
            "+---+-----------+--------+-------+--------+-----+-------------------+---------------+-----------+\n",
            "only showing top 20 rows\n",
            "\n"
          ],
          "name": "stdout"
        }
      ]
    },
    {
      "cell_type": "code",
      "metadata": {
        "id": "psEkIrYKzzwa",
        "colab": {
          "base_uri": "https://localhost:8080/",
          "height": 459
        },
        "outputId": "4cff9072-64c2-437a-c53f-93ca36e2724a"
      },
      "source": [
        "mejoras_ago = comp_ago.withColumn('Nuevas_Total_Bases',(comp_ago.total_bases + (comp_ago.Demanda_Deficit/abs(comp_ago.Demanda_Deficit))*round(comp_ago.total_bases*0.3)))\n",
        "mejoras_ago = mejoras_ago.withColumn(\"Nuevo_Rendimiento\", ((mejoras_ago.Demanda_Deficit>=(-(mejoras_ago.Nuevas_Total_Bases)/2)) & (mejoras_ago.Demanda_Deficit<=((mejoras_ago.Nuevas_Total_Bases)/2)) & (mejoras_ago.Flujo > mejoras_ago.Nuevas_Total_Bases)))\n",
        "mejoras_ago = mejoras_ago.withColumn(\"Nuevo_Rendimiento\", usoUdf(mejoras_ago.Nuevo_Rendimiento))\n",
        "mejoras_ago.show()"
      ],
      "execution_count": null,
      "outputs": [
        {
          "output_type": "stream",
          "text": [
            "+---+-----------+--------+-------+--------+-----+-------------------+---------------+-----------+------------------+-----------------+\n",
            "|_c0|total_bases|estacion|Salidas|Llegadas|Flujo|         Frecuencia|Demanda_Deficit|Rendimiento|Nuevas_Total_Bases|Nuevo_Rendimiento|\n",
            "+---+-----------+--------+-------+--------+-----+-------------------+---------------+-----------+------------------+-----------------+\n",
            "|  0|         27|      43|    541|     565| 1106| 1.9915010083549411|             24|  No Optimo|              35.0|        No Optimo|\n",
            "|  6|         27|      90|    342|     339|  681| 1.2262316335350043|             -3|     Optimo|              19.0|           Optimo|\n",
            "| 40|         24|      74|    213|     207|  420|  0.756266205704408|             -6|     Optimo|              17.0|           Optimo|\n",
            "| 50|         24|     145|    188|     195|  383| 0.6896427542494958|              7|     Optimo|              31.0|           Optimo|\n",
            "| 52|         24|     115|    190|     183|  373| 0.6716364160184385|             -7|     Optimo|              17.0|           Optimo|\n",
            "| 55|         30|      21|    190|     176|  366| 0.6590319792566983|            -14|     Optimo|              21.0|        No Optimo|\n",
            "| 56|         24|      62|    181|     184|  365| 0.6572313454335926|              3|     Optimo|              31.0|           Optimo|\n",
            "| 59|         21|      99|    171|     179|  350| 0.6302218380870066|              8|     Optimo|              27.0|           Optimo|\n",
            "| 60|         24|      65|    175|     173|  348| 0.6266205704407951|             -2|     Optimo|              17.0|           Optimo|\n",
            "| 71|         24|     130|    161|     157|  318| 0.5726015557476232|             -4|     Optimo|              17.0|           Optimo|\n",
            "| 72|         24|      69|    161|     154|  315| 0.5671996542783059|             -7|     Optimo|              17.0|           Optimo|\n",
            "| 73|         24|      25|    161|     151|  312| 0.5617977528089888|            -10|     Optimo|              17.0|        No Optimo|\n",
            "| 79|         21|       8|    148|     151|  299| 0.5383895131086143|              3|     Optimo|              27.0|           Optimo|\n",
            "| 80|         24|       8|    148|     151|  299| 0.5383895131086143|              3|     Optimo|              31.0|           Optimo|\n",
            "| 95|         24|     142|    137|     143|  280| 0.5041774704696053|              6|     Optimo|              31.0|           Optimo|\n",
            "| 97|         24|     153|    136|     138|  274|0.49337366753097095|              2|     Optimo|              31.0|           Optimo|\n",
            "|100|         21|      17|    134|     139|  273|0.49157303370786515|              5|     Optimo|              27.0|           Optimo|\n",
            "|101|         24|     143|    141|     131|  272|0.48977239988475946|            -10|     Optimo|              17.0|        No Optimo|\n",
            "|102|         24|      92|    140|     131|  271|0.48797176606165366|             -9|     Optimo|              17.0|        No Optimo|\n",
            "|110|         24|      94|    127|     134|  261|0.46996542783059636|              7|     Optimo|              31.0|           Optimo|\n",
            "+---+-----------+--------+-------+--------+-----+-------------------+---------------+-----------+------------------+-----------------+\n",
            "only showing top 20 rows\n",
            "\n"
          ],
          "name": "stdout"
        }
      ]
    },
    {
      "cell_type": "code",
      "metadata": {
        "id": "BdH3LY8zOCwq",
        "colab": {
          "base_uri": "https://localhost:8080/",
          "height": 136
        },
        "outputId": "80cf136a-2d35-4050-d22f-fb70b20acb24"
      },
      "source": [
        "# Recuento de estaciones optimas y no optimas de las estaciones de Agosto.\n",
        "opt_ago.createOrReplaceTempView(\"filtrado\")\n",
        "booleano_ago_total= spark.sql(\"select Rendimiento, count(Rendimiento) as Cantidad from filtrado group by Rendimiento\")\n",
        "booleano_panda_ago_total = booleano_ago_total.toPandas()\n",
        "booleano_ago_total.show()"
      ],
      "execution_count": null,
      "outputs": [
        {
          "output_type": "stream",
          "text": [
            "+-----------+--------+\n",
            "|Rendimiento|Cantidad|\n",
            "+-----------+--------+\n",
            "|  No Optimo|      22|\n",
            "|     Optimo|     147|\n",
            "+-----------+--------+\n",
            "\n"
          ],
          "name": "stdout"
        }
      ]
    },
    {
      "cell_type": "code",
      "metadata": {
        "id": "fSoe25U0z1Xd",
        "colab": {
          "base_uri": "https://localhost:8080/",
          "height": 136
        },
        "outputId": "ed54e023-9d70-4803-d022-c717ef256786"
      },
      "source": [
        "# Recuento de estaciones optimas y no optimas de las estaciones no optimas de Julio en Agosto.\n",
        "comp_ago.createOrReplaceTempView(\"filtrado\")\n",
        "booleano_ago= spark.sql(\"select Rendimiento, count(Rendimiento) as Cantidad from filtrado group by Rendimiento\")\n",
        "booleano_panda_ago = booleano_ago.toPandas()\n",
        "booleano_ago.show()"
      ],
      "execution_count": null,
      "outputs": [
        {
          "output_type": "stream",
          "text": [
            "+-----------+--------+\n",
            "|Rendimiento|Cantidad|\n",
            "+-----------+--------+\n",
            "|  No Optimo|       4|\n",
            "|     Optimo|      49|\n",
            "+-----------+--------+\n",
            "\n"
          ],
          "name": "stdout"
        }
      ]
    },
    {
      "cell_type": "code",
      "metadata": {
        "id": "n5ciDg2Vz3Sg",
        "colab": {
          "base_uri": "https://localhost:8080/",
          "height": 153
        },
        "outputId": "8d8f20ef-7107-4589-ee87-2ab52ebd4028"
      },
      "source": [
        "# Hacemos un nuevo recuento para ver como evolucionan las estaciones después de aplicar el criterio de mejora\n",
        "mejoras_ago.createOrReplaceTempView(\"filtrado\")\n",
        "booleano_mej_ago = spark.sql(\"select nuevo_Rendimiento, count(nuevo_Rendimiento) as Cantidad from filtrado group by nuevo_Rendimiento\")\n",
        "booleano_panda_mej_ago = booleano_mej_ago.toPandas()\n",
        "booleano_mej_ago.show()"
      ],
      "execution_count": null,
      "outputs": [
        {
          "output_type": "stream",
          "text": [
            "+-----------------+--------+\n",
            "|nuevo_Rendimiento|Cantidad|\n",
            "+-----------------+--------+\n",
            "|             null|       0|\n",
            "|        No Optimo|       8|\n",
            "|           Optimo|      44|\n",
            "+-----------------+--------+\n",
            "\n"
          ],
          "name": "stdout"
        }
      ]
    },
    {
      "cell_type": "code",
      "metadata": {
        "id": "xQ5Rh6vXz8GQ",
        "colab": {
          "base_uri": "https://localhost:8080/",
          "height": 542
        },
        "outputId": "249c83d8-2d5f-4b68-edd2-df9b9a4af241"
      },
      "source": [
        "fig = go.Figure()\n",
        "fig.add_trace(go.Bar(x=booleano_panda_ago.Rendimiento,\n",
        "                y=booleano_panda_ago.Cantidad,\n",
        "                name='Antes de Mejorar',\n",
        "                marker_color='rgb(55, 83, 109)'\n",
        "                ))\n",
        "fig.add_trace(go.Bar(x=booleano_panda_mej_ago.nuevo_Rendimiento,\n",
        "                y=booleano_panda_mej_ago.Cantidad,\n",
        "                name='Después de Mejorar',\n",
        "                marker_color='rgb(26, 118, 255)'\n",
        "                ))\n",
        "\n",
        "fig.update_layout(\n",
        "    title='Agosto',\n",
        "    xaxis_tickfont_size=14,\n",
        "    yaxis=dict(\n",
        "        title='Cantidad',\n",
        "        titlefont_size=16,\n",
        "        tickfont_size=14,\n",
        "    ),\n",
        "    legend=dict(\n",
        "        bgcolor='rgba(255, 255, 255, 0)',\n",
        "        bordercolor='rgba(255, 255, 255, 0)'\n",
        "    ),\n",
        "    barmode='group',\n",
        "    bargap=0.15,\n",
        "    bargroupgap=0.1\n",
        ")\n",
        "fig.show()"
      ],
      "execution_count": null,
      "outputs": [
        {
          "output_type": "display_data",
          "data": {
            "text/html": [
              "<html>\n",
              "<head><meta charset=\"utf-8\" /></head>\n",
              "<body>\n",
              "    <div>\n",
              "            <script src=\"https://cdnjs.cloudflare.com/ajax/libs/mathjax/2.7.5/MathJax.js?config=TeX-AMS-MML_SVG\"></script><script type=\"text/javascript\">if (window.MathJax) {MathJax.Hub.Config({SVG: {font: \"STIX-Web\"}});}</script>\n",
              "                <script type=\"text/javascript\">window.PlotlyConfig = {MathJaxConfig: 'local'};</script>\n",
              "        <script src=\"https://cdn.plot.ly/plotly-latest.min.js\"></script>    \n",
              "            <div id=\"a8301d49-a206-4bf1-8a3d-5356107d5dd4\" class=\"plotly-graph-div\" style=\"height:525px; width:100%;\"></div>\n",
              "            <script type=\"text/javascript\">\n",
              "                \n",
              "                    window.PLOTLYENV=window.PLOTLYENV || {};\n",
              "                    \n",
              "                if (document.getElementById(\"a8301d49-a206-4bf1-8a3d-5356107d5dd4\")) {\n",
              "                    Plotly.newPlot(\n",
              "                        'a8301d49-a206-4bf1-8a3d-5356107d5dd4',\n",
              "                        [{\"marker\": {\"color\": \"rgb(55, 83, 109)\"}, \"name\": \"Antes de Mejorar\", \"type\": \"bar\", \"x\": [\"No Optimo\", \"Optimo\"], \"y\": [4, 49]}, {\"marker\": {\"color\": \"rgb(26, 118, 255)\"}, \"name\": \"Despu\\u00e9s de Mejorar\", \"type\": \"bar\", \"x\": [null, \"No Optimo\", \"Optimo\"], \"y\": [0, 8, 44]}],\n",
              "                        {\"bargap\": 0.15, \"bargroupgap\": 0.1, \"barmode\": \"group\", \"legend\": {\"bgcolor\": \"rgba(255, 255, 255, 0)\", \"bordercolor\": \"rgba(255, 255, 255, 0)\"}, \"template\": {\"data\": {\"bar\": [{\"error_x\": {\"color\": \"#2a3f5f\"}, \"error_y\": {\"color\": \"#2a3f5f\"}, \"marker\": {\"line\": {\"color\": \"#E5ECF6\", \"width\": 0.5}}, \"type\": \"bar\"}], \"barpolar\": [{\"marker\": {\"line\": {\"color\": \"#E5ECF6\", \"width\": 0.5}}, \"type\": \"barpolar\"}], \"carpet\": [{\"aaxis\": {\"endlinecolor\": \"#2a3f5f\", \"gridcolor\": \"white\", \"linecolor\": \"white\", \"minorgridcolor\": \"white\", \"startlinecolor\": \"#2a3f5f\"}, \"baxis\": {\"endlinecolor\": \"#2a3f5f\", \"gridcolor\": \"white\", \"linecolor\": \"white\", \"minorgridcolor\": \"white\", \"startlinecolor\": \"#2a3f5f\"}, \"type\": \"carpet\"}], \"choropleth\": [{\"colorbar\": {\"outlinewidth\": 0, \"ticks\": \"\"}, \"type\": \"choropleth\"}], \"contour\": [{\"colorbar\": {\"outlinewidth\": 0, \"ticks\": \"\"}, \"colorscale\": [[0.0, \"#0d0887\"], [0.1111111111111111, \"#46039f\"], [0.2222222222222222, \"#7201a8\"], [0.3333333333333333, \"#9c179e\"], [0.4444444444444444, \"#bd3786\"], [0.5555555555555556, \"#d8576b\"], [0.6666666666666666, \"#ed7953\"], [0.7777777777777778, \"#fb9f3a\"], [0.8888888888888888, \"#fdca26\"], [1.0, \"#f0f921\"]], \"type\": \"contour\"}], \"contourcarpet\": [{\"colorbar\": {\"outlinewidth\": 0, \"ticks\": \"\"}, \"type\": \"contourcarpet\"}], \"heatmap\": [{\"colorbar\": {\"outlinewidth\": 0, \"ticks\": \"\"}, \"colorscale\": [[0.0, \"#0d0887\"], [0.1111111111111111, \"#46039f\"], [0.2222222222222222, \"#7201a8\"], [0.3333333333333333, \"#9c179e\"], [0.4444444444444444, \"#bd3786\"], [0.5555555555555556, \"#d8576b\"], [0.6666666666666666, \"#ed7953\"], [0.7777777777777778, \"#fb9f3a\"], [0.8888888888888888, \"#fdca26\"], [1.0, \"#f0f921\"]], \"type\": \"heatmap\"}], \"heatmapgl\": [{\"colorbar\": {\"outlinewidth\": 0, \"ticks\": \"\"}, \"colorscale\": [[0.0, \"#0d0887\"], [0.1111111111111111, \"#46039f\"], [0.2222222222222222, \"#7201a8\"], [0.3333333333333333, \"#9c179e\"], [0.4444444444444444, \"#bd3786\"], [0.5555555555555556, \"#d8576b\"], [0.6666666666666666, \"#ed7953\"], [0.7777777777777778, \"#fb9f3a\"], [0.8888888888888888, \"#fdca26\"], [1.0, \"#f0f921\"]], \"type\": \"heatmapgl\"}], \"histogram\": [{\"marker\": {\"colorbar\": {\"outlinewidth\": 0, \"ticks\": \"\"}}, \"type\": \"histogram\"}], \"histogram2d\": [{\"colorbar\": {\"outlinewidth\": 0, \"ticks\": \"\"}, \"colorscale\": [[0.0, \"#0d0887\"], [0.1111111111111111, \"#46039f\"], [0.2222222222222222, \"#7201a8\"], [0.3333333333333333, \"#9c179e\"], [0.4444444444444444, \"#bd3786\"], [0.5555555555555556, \"#d8576b\"], [0.6666666666666666, \"#ed7953\"], [0.7777777777777778, \"#fb9f3a\"], [0.8888888888888888, \"#fdca26\"], [1.0, \"#f0f921\"]], \"type\": \"histogram2d\"}], \"histogram2dcontour\": [{\"colorbar\": {\"outlinewidth\": 0, \"ticks\": \"\"}, \"colorscale\": [[0.0, \"#0d0887\"], [0.1111111111111111, \"#46039f\"], [0.2222222222222222, \"#7201a8\"], [0.3333333333333333, \"#9c179e\"], [0.4444444444444444, \"#bd3786\"], [0.5555555555555556, \"#d8576b\"], [0.6666666666666666, \"#ed7953\"], [0.7777777777777778, \"#fb9f3a\"], [0.8888888888888888, \"#fdca26\"], [1.0, \"#f0f921\"]], \"type\": \"histogram2dcontour\"}], \"mesh3d\": [{\"colorbar\": {\"outlinewidth\": 0, \"ticks\": \"\"}, \"type\": \"mesh3d\"}], \"parcoords\": [{\"line\": {\"colorbar\": {\"outlinewidth\": 0, \"ticks\": \"\"}}, \"type\": \"parcoords\"}], \"pie\": [{\"automargin\": true, \"type\": \"pie\"}], \"scatter\": [{\"marker\": {\"colorbar\": {\"outlinewidth\": 0, \"ticks\": \"\"}}, \"type\": \"scatter\"}], \"scatter3d\": [{\"line\": {\"colorbar\": {\"outlinewidth\": 0, \"ticks\": \"\"}}, \"marker\": {\"colorbar\": {\"outlinewidth\": 0, \"ticks\": \"\"}}, \"type\": \"scatter3d\"}], \"scattercarpet\": [{\"marker\": {\"colorbar\": {\"outlinewidth\": 0, \"ticks\": \"\"}}, \"type\": \"scattercarpet\"}], \"scattergeo\": [{\"marker\": {\"colorbar\": {\"outlinewidth\": 0, \"ticks\": \"\"}}, \"type\": \"scattergeo\"}], \"scattergl\": [{\"marker\": {\"colorbar\": {\"outlinewidth\": 0, \"ticks\": \"\"}}, \"type\": \"scattergl\"}], \"scattermapbox\": [{\"marker\": {\"colorbar\": {\"outlinewidth\": 0, \"ticks\": \"\"}}, \"type\": \"scattermapbox\"}], \"scatterpolar\": [{\"marker\": {\"colorbar\": {\"outlinewidth\": 0, \"ticks\": \"\"}}, \"type\": \"scatterpolar\"}], \"scatterpolargl\": [{\"marker\": {\"colorbar\": {\"outlinewidth\": 0, \"ticks\": \"\"}}, \"type\": \"scatterpolargl\"}], \"scatterternary\": [{\"marker\": {\"colorbar\": {\"outlinewidth\": 0, \"ticks\": \"\"}}, \"type\": \"scatterternary\"}], \"surface\": [{\"colorbar\": {\"outlinewidth\": 0, \"ticks\": \"\"}, \"colorscale\": [[0.0, \"#0d0887\"], [0.1111111111111111, \"#46039f\"], [0.2222222222222222, \"#7201a8\"], [0.3333333333333333, \"#9c179e\"], [0.4444444444444444, \"#bd3786\"], [0.5555555555555556, \"#d8576b\"], [0.6666666666666666, \"#ed7953\"], [0.7777777777777778, \"#fb9f3a\"], [0.8888888888888888, \"#fdca26\"], [1.0, \"#f0f921\"]], \"type\": \"surface\"}], \"table\": [{\"cells\": {\"fill\": {\"color\": \"#EBF0F8\"}, \"line\": {\"color\": \"white\"}}, \"header\": {\"fill\": {\"color\": \"#C8D4E3\"}, \"line\": {\"color\": \"white\"}}, \"type\": \"table\"}]}, \"layout\": {\"annotationdefaults\": {\"arrowcolor\": \"#2a3f5f\", \"arrowhead\": 0, \"arrowwidth\": 1}, \"coloraxis\": {\"colorbar\": {\"outlinewidth\": 0, \"ticks\": \"\"}}, \"colorscale\": {\"diverging\": [[0, \"#8e0152\"], [0.1, \"#c51b7d\"], [0.2, \"#de77ae\"], [0.3, \"#f1b6da\"], [0.4, \"#fde0ef\"], [0.5, \"#f7f7f7\"], [0.6, \"#e6f5d0\"], [0.7, \"#b8e186\"], [0.8, \"#7fbc41\"], [0.9, \"#4d9221\"], [1, \"#276419\"]], \"sequential\": [[0.0, \"#0d0887\"], [0.1111111111111111, \"#46039f\"], [0.2222222222222222, \"#7201a8\"], [0.3333333333333333, \"#9c179e\"], [0.4444444444444444, \"#bd3786\"], [0.5555555555555556, \"#d8576b\"], [0.6666666666666666, \"#ed7953\"], [0.7777777777777778, \"#fb9f3a\"], [0.8888888888888888, \"#fdca26\"], [1.0, \"#f0f921\"]], \"sequentialminus\": [[0.0, \"#0d0887\"], [0.1111111111111111, \"#46039f\"], [0.2222222222222222, \"#7201a8\"], [0.3333333333333333, \"#9c179e\"], [0.4444444444444444, \"#bd3786\"], [0.5555555555555556, \"#d8576b\"], [0.6666666666666666, \"#ed7953\"], [0.7777777777777778, \"#fb9f3a\"], [0.8888888888888888, \"#fdca26\"], [1.0, \"#f0f921\"]]}, \"colorway\": [\"#636efa\", \"#EF553B\", \"#00cc96\", \"#ab63fa\", \"#FFA15A\", \"#19d3f3\", \"#FF6692\", \"#B6E880\", \"#FF97FF\", \"#FECB52\"], \"font\": {\"color\": \"#2a3f5f\"}, \"geo\": {\"bgcolor\": \"white\", \"lakecolor\": \"white\", \"landcolor\": \"#E5ECF6\", \"showlakes\": true, \"showland\": true, \"subunitcolor\": \"white\"}, \"hoverlabel\": {\"align\": \"left\"}, \"hovermode\": \"closest\", \"mapbox\": {\"style\": \"light\"}, \"paper_bgcolor\": \"white\", \"plot_bgcolor\": \"#E5ECF6\", \"polar\": {\"angularaxis\": {\"gridcolor\": \"white\", \"linecolor\": \"white\", \"ticks\": \"\"}, \"bgcolor\": \"#E5ECF6\", \"radialaxis\": {\"gridcolor\": \"white\", \"linecolor\": \"white\", \"ticks\": \"\"}}, \"scene\": {\"xaxis\": {\"backgroundcolor\": \"#E5ECF6\", \"gridcolor\": \"white\", \"gridwidth\": 2, \"linecolor\": \"white\", \"showbackground\": true, \"ticks\": \"\", \"zerolinecolor\": \"white\"}, \"yaxis\": {\"backgroundcolor\": \"#E5ECF6\", \"gridcolor\": \"white\", \"gridwidth\": 2, \"linecolor\": \"white\", \"showbackground\": true, \"ticks\": \"\", \"zerolinecolor\": \"white\"}, \"zaxis\": {\"backgroundcolor\": \"#E5ECF6\", \"gridcolor\": \"white\", \"gridwidth\": 2, \"linecolor\": \"white\", \"showbackground\": true, \"ticks\": \"\", \"zerolinecolor\": \"white\"}}, \"shapedefaults\": {\"line\": {\"color\": \"#2a3f5f\"}}, \"ternary\": {\"aaxis\": {\"gridcolor\": \"white\", \"linecolor\": \"white\", \"ticks\": \"\"}, \"baxis\": {\"gridcolor\": \"white\", \"linecolor\": \"white\", \"ticks\": \"\"}, \"bgcolor\": \"#E5ECF6\", \"caxis\": {\"gridcolor\": \"white\", \"linecolor\": \"white\", \"ticks\": \"\"}}, \"title\": {\"x\": 0.05}, \"xaxis\": {\"automargin\": true, \"gridcolor\": \"white\", \"linecolor\": \"white\", \"ticks\": \"\", \"title\": {\"standoff\": 15}, \"zerolinecolor\": \"white\", \"zerolinewidth\": 2}, \"yaxis\": {\"automargin\": true, \"gridcolor\": \"white\", \"linecolor\": \"white\", \"ticks\": \"\", \"title\": {\"standoff\": 15}, \"zerolinecolor\": \"white\", \"zerolinewidth\": 2}}}, \"title\": {\"text\": \"Agosto\"}, \"xaxis\": {\"tickfont\": {\"size\": 14}}, \"yaxis\": {\"tickfont\": {\"size\": 14}, \"title\": {\"font\": {\"size\": 16}, \"text\": \"Cantidad\"}}},\n",
              "                        {\"responsive\": true}\n",
              "                    ).then(function(){\n",
              "                            \n",
              "var gd = document.getElementById('a8301d49-a206-4bf1-8a3d-5356107d5dd4');\n",
              "var x = new MutationObserver(function (mutations, observer) {{\n",
              "        var display = window.getComputedStyle(gd).display;\n",
              "        if (!display || display === 'none') {{\n",
              "            console.log([gd, 'removed!']);\n",
              "            Plotly.purge(gd);\n",
              "            observer.disconnect();\n",
              "        }}\n",
              "}});\n",
              "\n",
              "// Listen for the removal of the full notebook cells\n",
              "var notebookContainer = gd.closest('#notebook-container');\n",
              "if (notebookContainer) {{\n",
              "    x.observe(notebookContainer, {childList: true});\n",
              "}}\n",
              "\n",
              "// Listen for the clearing of the current output cell\n",
              "var outputEl = gd.closest('.output');\n",
              "if (outputEl) {{\n",
              "    x.observe(outputEl, {childList: true});\n",
              "}}\n",
              "\n",
              "                        })\n",
              "                };\n",
              "                \n",
              "            </script>\n",
              "        </div>\n",
              "</body>\n",
              "</html>"
            ]
          },
          "metadata": {
            "tags": []
          }
        }
      ]
    },
    {
      "cell_type": "markdown",
      "metadata": {
        "id": "owswQb9HR9Q3"
      },
      "source": [
        "# SEPTIEMBRE\n"
      ]
    },
    {
      "cell_type": "code",
      "metadata": {
        "id": "uVGgVte70Nl4",
        "colab": {
          "base_uri": "https://localhost:8080/",
          "height": 459
        },
        "outputId": "c58966df-186a-4dfb-eb40-3ad2074b1964"
      },
      "source": [
        "opt_sep = spark.read.load(\"/content/optimo_septiembre.csv\",'com.databricks.spark.csv',header='true',inferSchema='true')\n",
        "opt_sep.show()"
      ],
      "execution_count": null,
      "outputs": [
        {
          "output_type": "stream",
          "text": [
            "+---+-----------+--------+-------+--------+-----+------------------+---------------+-----------+\n",
            "|_c0|total_bases|estacion|Salidas|Llegadas|Flujo|        Frecuencia|Demanda_Deficit|Rendimiento|\n",
            "+---+-----------+--------+-------+--------+-----+------------------+---------------+-----------+\n",
            "|  0|         24|      57|    133|     144|  277|1.8173468048812491|             11|     Optimo|\n",
            "|  1|         24|     135|    126|     117|  243|1.5942789660149588|             -9|     Optimo|\n",
            "|  2|         24|       1|    115|     112|  227|1.4893058653719986|             -3|     Optimo|\n",
            "|  3|         27|      90|    120|     106|  226|1.4827450465818135|            -14|  No Optimo|\n",
            "|  4|         24|      64|    110|     113|  223|1.4630625902112584|              3|     Optimo|\n",
            "|  5|         24|     149|     98|     116|  214|1.4040152210995933|             18|  No Optimo|\n",
            "|  6|         21|      58|     98|     102|  200| 1.312163758037003|              4|     Optimo|\n",
            "|  7|         24|     163|    101|      96|  197|1.2924813016664478|             -5|     Optimo|\n",
            "|  8|         27|      43|     97|      93|  190| 1.246555570135153|             -4|     Optimo|\n",
            "|  9|         24|     129|     95|      92|  187|1.2268731137645978|             -3|     Optimo|\n",
            "| 10|         24|     168|     97|      88|  185|1.2137514761842276|             -9|     Optimo|\n",
            "| 11|         24|     132|     96|      86|  182|1.1940690198136727|            -10|     Optimo|\n",
            "| 12|         24|      59|     91|      89|  180|1.1809473822333028|             -2|     Optimo|\n",
            "| 13|         24|      31|     82|      88|  170|1.1153391943314526|              6|     Optimo|\n",
            "| 14|         24|      46|     84|      85|  169|1.1087783755412675|              1|     Optimo|\n",
            "| 15|         24|      19|     81|      85|  166|1.0890959191707124|              4|     Optimo|\n",
            "| 16|         24|      56|     82|      79|  161|1.0562918252197875|             -3|     Optimo|\n",
            "| 17|         24|      62|     76|      84|  160|1.0497310064296024|              8|     Optimo|\n",
            "| 18|         27|       6|     77|      78|  155|1.0169269124786773|              1|     Optimo|\n",
            "| 19|         24|      83|     77|      75|  152|0.9972444561081224|             -2|     Optimo|\n",
            "+---+-----------+--------+-------+--------+-----+------------------+---------------+-----------+\n",
            "only showing top 20 rows\n",
            "\n"
          ],
          "name": "stdout"
        }
      ]
    },
    {
      "cell_type": "code",
      "metadata": {
        "id": "XvdTwvxk0QJs",
        "colab": {
          "base_uri": "https://localhost:8080/",
          "height": 459
        },
        "outputId": "48960080-839e-434c-bb09-908860fb1fc8"
      },
      "source": [
        "comp_sep = opt_sep[opt_sep['estacion'].isin(estaciones_n_o)]\n",
        "comp_sep.show()"
      ],
      "execution_count": null,
      "outputs": [
        {
          "output_type": "stream",
          "text": [
            "+---+-----------+--------+-------+--------+-----+-------------------+---------------+-----------+\n",
            "|_c0|total_bases|estacion|Salidas|Llegadas|Flujo|         Frecuencia|Demanda_Deficit|Rendimiento|\n",
            "+---+-----------+--------+-------+--------+-----+-------------------+---------------+-----------+\n",
            "|  3|         27|      90|    120|     106|  226| 1.4827450465818135|            -14|  No Optimo|\n",
            "|  8|         27|      43|     97|      93|  190|  1.246555570135153|             -4|     Optimo|\n",
            "| 17|         24|      62|     76|      84|  160| 1.0497310064296024|              8|     Optimo|\n",
            "| 38|         24|      25|     68|      56|  124| 0.8135415299829418|            -12|     Optimo|\n",
            "| 39|         24|      74|     65|      58|  123| 0.8069807111927568|             -7|     Optimo|\n",
            "| 61|         21|       8|     46|      47|   93| 0.6101561474872064|              1|     Optimo|\n",
            "| 62|         24|       8|     46|      47|   93| 0.6101561474872064|              1|     Optimo|\n",
            "| 64|         24|      12|     35|      54|   89| 0.5839128723264664|             19|  No Optimo|\n",
            "| 68|         21|      17|     39|      48|   87| 0.5707912347460964|              9|     Optimo|\n",
            "| 73|         24|     145|     45|      39|   84| 0.5511087783755413|             -6|     Optimo|\n",
            "| 76|         24|     142|     34|      49|   83| 0.5445479595853562|             15|  No Optimo|\n",
            "| 82|         30|      21|     41|      39|   80| 0.5248655032148012|             -2|     Optimo|\n",
            "| 93|         24|      65|     35|      40|   75|0.49206140926387615|              5|     Optimo|\n",
            "| 98|         24|     115|     36|      37|   73| 0.4789397716835061|              1|     Optimo|\n",
            "|106|         24|     130|     40|      27|   67|  0.439574858942396|            -13|  No Optimo|\n",
            "|107|         24|      94|     38|      27|   65|  0.426453221362026|            -11|     Optimo|\n",
            "|108|         21|      99|     34|      31|   65|  0.426453221362026|             -3|     Optimo|\n",
            "|111|         24|     146|     35|      26|   61|0.40020994620128586|             -9|     Optimo|\n",
            "|112|         24|     153|     28|      33|   61|0.40020994620128586|              5|     Optimo|\n",
            "|113|         24|      69|     36|      25|   61|0.40020994620128586|            -11|     Optimo|\n",
            "+---+-----------+--------+-------+--------+-----+-------------------+---------------+-----------+\n",
            "only showing top 20 rows\n",
            "\n"
          ],
          "name": "stdout"
        }
      ]
    },
    {
      "cell_type": "code",
      "metadata": {
        "id": "Ni3YFCnO0RfU",
        "colab": {
          "base_uri": "https://localhost:8080/",
          "height": 479
        },
        "outputId": "99e4bc40-fde7-45f1-ad13-fb522f3a0030"
      },
      "source": [
        "mejoras_sep = comp_sep.withColumn('Nuevas_Total_Bases',(comp_sep.total_bases + (comp_sep.Demanda_Deficit/abs(comp_sep.Demanda_Deficit))*round(comp_sep.total_bases*0.3)))\n",
        "mejoras_sep = mejoras_sep.withColumn(\"Nuevo_Rendimiento\", ((mejoras_sep.Demanda_Deficit>=(-(mejoras_sep.Nuevas_Total_Bases)/2)) & (mejoras_sep.Demanda_Deficit<=((mejoras_sep.Nuevas_Total_Bases)/2)) & (mejoras_sep.Flujo > mejoras_sep.Nuevas_Total_Bases)))\n",
        "mejoras_sep = mejoras_sep.withColumn(\"Nuevo_Rendimiento\", usoUdf(mejoras_sep.Nuevo_Rendimiento))\n",
        "mejoras_sep.show()"
      ],
      "execution_count": null,
      "outputs": [
        {
          "output_type": "stream",
          "text": [
            "+---+-----------+--------+-------+--------+-----+-------------------+---------------+-----------+------------------+-----------------+\n",
            "|_c0|total_bases|estacion|Salidas|Llegadas|Flujo|         Frecuencia|Demanda_Deficit|Rendimiento|Nuevas_Total_Bases|Nuevo_Rendimiento|\n",
            "+---+-----------+--------+-------+--------+-----+-------------------+---------------+-----------+------------------+-----------------+\n",
            "|  3|         27|      90|    120|     106|  226| 1.4827450465818135|            -14|  No Optimo|              19.0|        No Optimo|\n",
            "|  8|         27|      43|     97|      93|  190|  1.246555570135153|             -4|     Optimo|              19.0|           Optimo|\n",
            "| 17|         24|      62|     76|      84|  160| 1.0497310064296024|              8|     Optimo|              31.0|           Optimo|\n",
            "| 38|         24|      25|     68|      56|  124| 0.8135415299829418|            -12|     Optimo|              17.0|        No Optimo|\n",
            "| 39|         24|      74|     65|      58|  123| 0.8069807111927568|             -7|     Optimo|              17.0|           Optimo|\n",
            "| 61|         21|       8|     46|      47|   93| 0.6101561474872064|              1|     Optimo|              27.0|           Optimo|\n",
            "| 62|         24|       8|     46|      47|   93| 0.6101561474872064|              1|     Optimo|              31.0|           Optimo|\n",
            "| 64|         24|      12|     35|      54|   89| 0.5839128723264664|             19|  No Optimo|              31.0|        No Optimo|\n",
            "| 68|         21|      17|     39|      48|   87| 0.5707912347460964|              9|     Optimo|              27.0|           Optimo|\n",
            "| 73|         24|     145|     45|      39|   84| 0.5511087783755413|             -6|     Optimo|              17.0|           Optimo|\n",
            "| 76|         24|     142|     34|      49|   83| 0.5445479595853562|             15|  No Optimo|              31.0|           Optimo|\n",
            "| 82|         30|      21|     41|      39|   80| 0.5248655032148012|             -2|     Optimo|              21.0|           Optimo|\n",
            "| 93|         24|      65|     35|      40|   75|0.49206140926387615|              5|     Optimo|              31.0|           Optimo|\n",
            "| 98|         24|     115|     36|      37|   73| 0.4789397716835061|              1|     Optimo|              31.0|           Optimo|\n",
            "|106|         24|     130|     40|      27|   67|  0.439574858942396|            -13|  No Optimo|              17.0|        No Optimo|\n",
            "|107|         24|      94|     38|      27|   65|  0.426453221362026|            -11|     Optimo|              17.0|        No Optimo|\n",
            "|108|         21|      99|     34|      31|   65|  0.426453221362026|             -3|     Optimo|              15.0|           Optimo|\n",
            "|111|         24|     146|     35|      26|   61|0.40020994620128586|             -9|     Optimo|              17.0|        No Optimo|\n",
            "|112|         24|     153|     28|      33|   61|0.40020994620128586|              5|     Optimo|              31.0|           Optimo|\n",
            "|113|         24|      69|     36|      25|   61|0.40020994620128586|            -11|     Optimo|              17.0|        No Optimo|\n",
            "+---+-----------+--------+-------+--------+-----+-------------------+---------------+-----------+------------------+-----------------+\n",
            "only showing top 20 rows\n",
            "\n"
          ],
          "name": "stdout"
        }
      ]
    },
    {
      "cell_type": "code",
      "metadata": {
        "id": "FdXNEJs0OfSm",
        "colab": {
          "base_uri": "https://localhost:8080/",
          "height": 136
        },
        "outputId": "a127c1c2-53bf-49f4-9574-c2722088fd07"
      },
      "source": [
        "# Recuento de estaciones optimas y no optimas de las estaciones de Septiembre.\n",
        "opt_sep.createOrReplaceTempView(\"filtrado\")\n",
        "booleano_sep_total= spark.sql(\"select Rendimiento, count(Rendimiento) as Cantidad from filtrado group by Rendimiento\")\n",
        "booleano_panda_sep_total = booleano_sep_total.toPandas()\n",
        "booleano_sep_total.show()"
      ],
      "execution_count": null,
      "outputs": [
        {
          "output_type": "stream",
          "text": [
            "+-----------+--------+\n",
            "|Rendimiento|Cantidad|\n",
            "+-----------+--------+\n",
            "|  No Optimo|      20|\n",
            "|     Optimo|     148|\n",
            "+-----------+--------+\n",
            "\n"
          ],
          "name": "stdout"
        }
      ]
    },
    {
      "cell_type": "code",
      "metadata": {
        "id": "YtQUUjxB0ToL",
        "colab": {
          "base_uri": "https://localhost:8080/",
          "height": 136
        },
        "outputId": "41431ead-00f6-4b74-c31c-967164641c54"
      },
      "source": [
        "# Recuento de estaciones optimas y no optimas de las estaciones no optimas de julio en Septiembre.\n",
        "comp_sep.createOrReplaceTempView(\"filtrado\")\n",
        "booleano_sep= spark.sql(\"select Rendimiento, count(Rendimiento) as Cantidad from filtrado group by Rendimiento\")\n",
        "booleano_panda_sep = booleano_sep.toPandas()\n",
        "booleano_sep.show()"
      ],
      "execution_count": null,
      "outputs": [
        {
          "output_type": "stream",
          "text": [
            "+-----------+--------+\n",
            "|Rendimiento|Cantidad|\n",
            "+-----------+--------+\n",
            "|  No Optimo|       9|\n",
            "|     Optimo|      44|\n",
            "+-----------+--------+\n",
            "\n"
          ],
          "name": "stdout"
        }
      ]
    },
    {
      "cell_type": "code",
      "metadata": {
        "id": "J522hVJm0VRM",
        "colab": {
          "base_uri": "https://localhost:8080/",
          "height": 153
        },
        "outputId": "82b30564-163c-4af3-db41-6bd6899ab754"
      },
      "source": [
        "# Hacemos un nuevo recuento para ver como evolucionan las estaciones  después de aplicar el criterio de mejora\n",
        "mejoras_sep.createOrReplaceTempView(\"filtrado\")\n",
        "booleano_mej_sep = spark.sql(\"select nuevo_Rendimiento, count(nuevo_Rendimiento) as Cantidad from filtrado group by nuevo_Rendimiento\")\n",
        "booleano_panda_mej_sep = booleano_mej_sep.toPandas()\n",
        "booleano_mej_sep.show()"
      ],
      "execution_count": null,
      "outputs": [
        {
          "output_type": "stream",
          "text": [
            "+-----------------+--------+\n",
            "|nuevo_Rendimiento|Cantidad|\n",
            "+-----------------+--------+\n",
            "|             null|       0|\n",
            "|        No Optimo|      15|\n",
            "|           Optimo|      32|\n",
            "+-----------------+--------+\n",
            "\n"
          ],
          "name": "stdout"
        }
      ]
    },
    {
      "cell_type": "code",
      "metadata": {
        "id": "uzvetOzv0X_f",
        "colab": {
          "base_uri": "https://localhost:8080/",
          "height": 542
        },
        "outputId": "06e3e4b0-a0a8-4a1d-d684-e3d699899747"
      },
      "source": [
        "fig = go.Figure()\n",
        "fig.add_trace(go.Bar(x=booleano_panda_sep.Rendimiento,\n",
        "                y=booleano_panda_sep.Cantidad,\n",
        "                name='Antes de Mejorar',\n",
        "                marker_color='rgb(55, 83, 109)'\n",
        "                ))\n",
        "fig.add_trace(go.Bar(x=booleano_panda_mej_sep.nuevo_Rendimiento,\n",
        "                y=booleano_panda_mej_sep.Cantidad,\n",
        "                name='Después de Mejorar',\n",
        "                marker_color='rgb(26, 118, 255)'\n",
        "                ))\n",
        "\n",
        "fig.update_layout(\n",
        "    title='Septiembre',\n",
        "    xaxis_tickfont_size=14,\n",
        "    yaxis=dict(\n",
        "        title='Cantidad',\n",
        "        titlefont_size=16,\n",
        "        tickfont_size=14,\n",
        "    ),\n",
        "    legend=dict(\n",
        "        bgcolor='rgba(255, 255, 255, 0)',\n",
        "        bordercolor='rgba(255, 255, 255, 0)'\n",
        "    ),\n",
        "    barmode='group',\n",
        "    bargap=0.15,\n",
        "    bargroupgap=0.1\n",
        ")\n",
        "fig.show()"
      ],
      "execution_count": null,
      "outputs": [
        {
          "output_type": "display_data",
          "data": {
            "text/html": [
              "<html>\n",
              "<head><meta charset=\"utf-8\" /></head>\n",
              "<body>\n",
              "    <div>\n",
              "            <script src=\"https://cdnjs.cloudflare.com/ajax/libs/mathjax/2.7.5/MathJax.js?config=TeX-AMS-MML_SVG\"></script><script type=\"text/javascript\">if (window.MathJax) {MathJax.Hub.Config({SVG: {font: \"STIX-Web\"}});}</script>\n",
              "                <script type=\"text/javascript\">window.PlotlyConfig = {MathJaxConfig: 'local'};</script>\n",
              "        <script src=\"https://cdn.plot.ly/plotly-latest.min.js\"></script>    \n",
              "            <div id=\"9e0d400b-c437-42f7-92b1-bb7235c0ee28\" class=\"plotly-graph-div\" style=\"height:525px; width:100%;\"></div>\n",
              "            <script type=\"text/javascript\">\n",
              "                \n",
              "                    window.PLOTLYENV=window.PLOTLYENV || {};\n",
              "                    \n",
              "                if (document.getElementById(\"9e0d400b-c437-42f7-92b1-bb7235c0ee28\")) {\n",
              "                    Plotly.newPlot(\n",
              "                        '9e0d400b-c437-42f7-92b1-bb7235c0ee28',\n",
              "                        [{\"marker\": {\"color\": \"rgb(55, 83, 109)\"}, \"name\": \"Antes de Mejorar\", \"type\": \"bar\", \"x\": [\"No Optimo\", \"Optimo\"], \"y\": [9, 44]}, {\"marker\": {\"color\": \"rgb(26, 118, 255)\"}, \"name\": \"Despu\\u00e9s de Mejorar\", \"type\": \"bar\", \"x\": [null, \"No Optimo\", \"Optimo\"], \"y\": [0, 15, 32]}],\n",
              "                        {\"bargap\": 0.15, \"bargroupgap\": 0.1, \"barmode\": \"group\", \"legend\": {\"bgcolor\": \"rgba(255, 255, 255, 0)\", \"bordercolor\": \"rgba(255, 255, 255, 0)\"}, \"template\": {\"data\": {\"bar\": [{\"error_x\": {\"color\": \"#2a3f5f\"}, \"error_y\": {\"color\": \"#2a3f5f\"}, \"marker\": {\"line\": {\"color\": \"#E5ECF6\", \"width\": 0.5}}, \"type\": \"bar\"}], \"barpolar\": [{\"marker\": {\"line\": {\"color\": \"#E5ECF6\", \"width\": 0.5}}, \"type\": \"barpolar\"}], \"carpet\": [{\"aaxis\": {\"endlinecolor\": \"#2a3f5f\", \"gridcolor\": \"white\", \"linecolor\": \"white\", \"minorgridcolor\": \"white\", \"startlinecolor\": \"#2a3f5f\"}, \"baxis\": {\"endlinecolor\": \"#2a3f5f\", \"gridcolor\": \"white\", \"linecolor\": \"white\", \"minorgridcolor\": \"white\", \"startlinecolor\": \"#2a3f5f\"}, \"type\": \"carpet\"}], \"choropleth\": [{\"colorbar\": {\"outlinewidth\": 0, \"ticks\": \"\"}, \"type\": \"choropleth\"}], \"contour\": [{\"colorbar\": {\"outlinewidth\": 0, \"ticks\": \"\"}, \"colorscale\": [[0.0, \"#0d0887\"], [0.1111111111111111, \"#46039f\"], [0.2222222222222222, \"#7201a8\"], [0.3333333333333333, \"#9c179e\"], [0.4444444444444444, \"#bd3786\"], [0.5555555555555556, \"#d8576b\"], [0.6666666666666666, \"#ed7953\"], [0.7777777777777778, \"#fb9f3a\"], [0.8888888888888888, \"#fdca26\"], [1.0, \"#f0f921\"]], \"type\": \"contour\"}], \"contourcarpet\": [{\"colorbar\": {\"outlinewidth\": 0, \"ticks\": \"\"}, \"type\": \"contourcarpet\"}], \"heatmap\": [{\"colorbar\": {\"outlinewidth\": 0, \"ticks\": \"\"}, \"colorscale\": [[0.0, \"#0d0887\"], [0.1111111111111111, \"#46039f\"], [0.2222222222222222, \"#7201a8\"], [0.3333333333333333, \"#9c179e\"], [0.4444444444444444, \"#bd3786\"], [0.5555555555555556, \"#d8576b\"], [0.6666666666666666, \"#ed7953\"], [0.7777777777777778, \"#fb9f3a\"], [0.8888888888888888, \"#fdca26\"], [1.0, \"#f0f921\"]], \"type\": \"heatmap\"}], \"heatmapgl\": [{\"colorbar\": {\"outlinewidth\": 0, \"ticks\": \"\"}, \"colorscale\": [[0.0, \"#0d0887\"], [0.1111111111111111, \"#46039f\"], [0.2222222222222222, \"#7201a8\"], [0.3333333333333333, \"#9c179e\"], [0.4444444444444444, \"#bd3786\"], [0.5555555555555556, \"#d8576b\"], [0.6666666666666666, \"#ed7953\"], [0.7777777777777778, \"#fb9f3a\"], [0.8888888888888888, \"#fdca26\"], [1.0, \"#f0f921\"]], \"type\": \"heatmapgl\"}], \"histogram\": [{\"marker\": {\"colorbar\": {\"outlinewidth\": 0, \"ticks\": \"\"}}, \"type\": \"histogram\"}], \"histogram2d\": [{\"colorbar\": {\"outlinewidth\": 0, \"ticks\": \"\"}, \"colorscale\": [[0.0, \"#0d0887\"], [0.1111111111111111, \"#46039f\"], [0.2222222222222222, \"#7201a8\"], [0.3333333333333333, \"#9c179e\"], [0.4444444444444444, \"#bd3786\"], [0.5555555555555556, \"#d8576b\"], [0.6666666666666666, \"#ed7953\"], [0.7777777777777778, \"#fb9f3a\"], [0.8888888888888888, \"#fdca26\"], [1.0, \"#f0f921\"]], \"type\": \"histogram2d\"}], \"histogram2dcontour\": [{\"colorbar\": {\"outlinewidth\": 0, \"ticks\": \"\"}, \"colorscale\": [[0.0, \"#0d0887\"], [0.1111111111111111, \"#46039f\"], [0.2222222222222222, \"#7201a8\"], [0.3333333333333333, \"#9c179e\"], [0.4444444444444444, \"#bd3786\"], [0.5555555555555556, \"#d8576b\"], [0.6666666666666666, \"#ed7953\"], [0.7777777777777778, \"#fb9f3a\"], [0.8888888888888888, \"#fdca26\"], [1.0, \"#f0f921\"]], \"type\": \"histogram2dcontour\"}], \"mesh3d\": [{\"colorbar\": {\"outlinewidth\": 0, \"ticks\": \"\"}, \"type\": \"mesh3d\"}], \"parcoords\": [{\"line\": {\"colorbar\": {\"outlinewidth\": 0, \"ticks\": \"\"}}, \"type\": \"parcoords\"}], \"pie\": [{\"automargin\": true, \"type\": \"pie\"}], \"scatter\": [{\"marker\": {\"colorbar\": {\"outlinewidth\": 0, \"ticks\": \"\"}}, \"type\": \"scatter\"}], \"scatter3d\": [{\"line\": {\"colorbar\": {\"outlinewidth\": 0, \"ticks\": \"\"}}, \"marker\": {\"colorbar\": {\"outlinewidth\": 0, \"ticks\": \"\"}}, \"type\": \"scatter3d\"}], \"scattercarpet\": [{\"marker\": {\"colorbar\": {\"outlinewidth\": 0, \"ticks\": \"\"}}, \"type\": \"scattercarpet\"}], \"scattergeo\": [{\"marker\": {\"colorbar\": {\"outlinewidth\": 0, \"ticks\": \"\"}}, \"type\": \"scattergeo\"}], \"scattergl\": [{\"marker\": {\"colorbar\": {\"outlinewidth\": 0, \"ticks\": \"\"}}, \"type\": \"scattergl\"}], \"scattermapbox\": [{\"marker\": {\"colorbar\": {\"outlinewidth\": 0, \"ticks\": \"\"}}, \"type\": \"scattermapbox\"}], \"scatterpolar\": [{\"marker\": {\"colorbar\": {\"outlinewidth\": 0, \"ticks\": \"\"}}, \"type\": \"scatterpolar\"}], \"scatterpolargl\": [{\"marker\": {\"colorbar\": {\"outlinewidth\": 0, \"ticks\": \"\"}}, \"type\": \"scatterpolargl\"}], \"scatterternary\": [{\"marker\": {\"colorbar\": {\"outlinewidth\": 0, \"ticks\": \"\"}}, \"type\": \"scatterternary\"}], \"surface\": [{\"colorbar\": {\"outlinewidth\": 0, \"ticks\": \"\"}, \"colorscale\": [[0.0, \"#0d0887\"], [0.1111111111111111, \"#46039f\"], [0.2222222222222222, \"#7201a8\"], [0.3333333333333333, \"#9c179e\"], [0.4444444444444444, \"#bd3786\"], [0.5555555555555556, \"#d8576b\"], [0.6666666666666666, \"#ed7953\"], [0.7777777777777778, \"#fb9f3a\"], [0.8888888888888888, \"#fdca26\"], [1.0, \"#f0f921\"]], \"type\": \"surface\"}], \"table\": [{\"cells\": {\"fill\": {\"color\": \"#EBF0F8\"}, \"line\": {\"color\": \"white\"}}, \"header\": {\"fill\": {\"color\": \"#C8D4E3\"}, \"line\": {\"color\": \"white\"}}, \"type\": \"table\"}]}, \"layout\": {\"annotationdefaults\": {\"arrowcolor\": \"#2a3f5f\", \"arrowhead\": 0, \"arrowwidth\": 1}, \"coloraxis\": {\"colorbar\": {\"outlinewidth\": 0, \"ticks\": \"\"}}, \"colorscale\": {\"diverging\": [[0, \"#8e0152\"], [0.1, \"#c51b7d\"], [0.2, \"#de77ae\"], [0.3, \"#f1b6da\"], [0.4, \"#fde0ef\"], [0.5, \"#f7f7f7\"], [0.6, \"#e6f5d0\"], [0.7, \"#b8e186\"], [0.8, \"#7fbc41\"], [0.9, \"#4d9221\"], [1, \"#276419\"]], \"sequential\": [[0.0, \"#0d0887\"], [0.1111111111111111, \"#46039f\"], [0.2222222222222222, \"#7201a8\"], [0.3333333333333333, \"#9c179e\"], [0.4444444444444444, \"#bd3786\"], [0.5555555555555556, \"#d8576b\"], [0.6666666666666666, \"#ed7953\"], [0.7777777777777778, \"#fb9f3a\"], [0.8888888888888888, \"#fdca26\"], [1.0, \"#f0f921\"]], \"sequentialminus\": [[0.0, \"#0d0887\"], [0.1111111111111111, \"#46039f\"], [0.2222222222222222, \"#7201a8\"], [0.3333333333333333, \"#9c179e\"], [0.4444444444444444, \"#bd3786\"], [0.5555555555555556, \"#d8576b\"], [0.6666666666666666, \"#ed7953\"], [0.7777777777777778, \"#fb9f3a\"], [0.8888888888888888, \"#fdca26\"], [1.0, \"#f0f921\"]]}, \"colorway\": [\"#636efa\", \"#EF553B\", \"#00cc96\", \"#ab63fa\", \"#FFA15A\", \"#19d3f3\", \"#FF6692\", \"#B6E880\", \"#FF97FF\", \"#FECB52\"], \"font\": {\"color\": \"#2a3f5f\"}, \"geo\": {\"bgcolor\": \"white\", \"lakecolor\": \"white\", \"landcolor\": \"#E5ECF6\", \"showlakes\": true, \"showland\": true, \"subunitcolor\": \"white\"}, \"hoverlabel\": {\"align\": \"left\"}, \"hovermode\": \"closest\", \"mapbox\": {\"style\": \"light\"}, \"paper_bgcolor\": \"white\", \"plot_bgcolor\": \"#E5ECF6\", \"polar\": {\"angularaxis\": {\"gridcolor\": \"white\", \"linecolor\": \"white\", \"ticks\": \"\"}, \"bgcolor\": \"#E5ECF6\", \"radialaxis\": {\"gridcolor\": \"white\", \"linecolor\": \"white\", \"ticks\": \"\"}}, \"scene\": {\"xaxis\": {\"backgroundcolor\": \"#E5ECF6\", \"gridcolor\": \"white\", \"gridwidth\": 2, \"linecolor\": \"white\", \"showbackground\": true, \"ticks\": \"\", \"zerolinecolor\": \"white\"}, \"yaxis\": {\"backgroundcolor\": \"#E5ECF6\", \"gridcolor\": \"white\", \"gridwidth\": 2, \"linecolor\": \"white\", \"showbackground\": true, \"ticks\": \"\", \"zerolinecolor\": \"white\"}, \"zaxis\": {\"backgroundcolor\": \"#E5ECF6\", \"gridcolor\": \"white\", \"gridwidth\": 2, \"linecolor\": \"white\", \"showbackground\": true, \"ticks\": \"\", \"zerolinecolor\": \"white\"}}, \"shapedefaults\": {\"line\": {\"color\": \"#2a3f5f\"}}, \"ternary\": {\"aaxis\": {\"gridcolor\": \"white\", \"linecolor\": \"white\", \"ticks\": \"\"}, \"baxis\": {\"gridcolor\": \"white\", \"linecolor\": \"white\", \"ticks\": \"\"}, \"bgcolor\": \"#E5ECF6\", \"caxis\": {\"gridcolor\": \"white\", \"linecolor\": \"white\", \"ticks\": \"\"}}, \"title\": {\"x\": 0.05}, \"xaxis\": {\"automargin\": true, \"gridcolor\": \"white\", \"linecolor\": \"white\", \"ticks\": \"\", \"title\": {\"standoff\": 15}, \"zerolinecolor\": \"white\", \"zerolinewidth\": 2}, \"yaxis\": {\"automargin\": true, \"gridcolor\": \"white\", \"linecolor\": \"white\", \"ticks\": \"\", \"title\": {\"standoff\": 15}, \"zerolinecolor\": \"white\", \"zerolinewidth\": 2}}}, \"title\": {\"text\": \"Septiembre\"}, \"xaxis\": {\"tickfont\": {\"size\": 14}}, \"yaxis\": {\"tickfont\": {\"size\": 14}, \"title\": {\"font\": {\"size\": 16}, \"text\": \"Cantidad\"}}},\n",
              "                        {\"responsive\": true}\n",
              "                    ).then(function(){\n",
              "                            \n",
              "var gd = document.getElementById('9e0d400b-c437-42f7-92b1-bb7235c0ee28');\n",
              "var x = new MutationObserver(function (mutations, observer) {{\n",
              "        var display = window.getComputedStyle(gd).display;\n",
              "        if (!display || display === 'none') {{\n",
              "            console.log([gd, 'removed!']);\n",
              "            Plotly.purge(gd);\n",
              "            observer.disconnect();\n",
              "        }}\n",
              "}});\n",
              "\n",
              "// Listen for the removal of the full notebook cells\n",
              "var notebookContainer = gd.closest('#notebook-container');\n",
              "if (notebookContainer) {{\n",
              "    x.observe(notebookContainer, {childList: true});\n",
              "}}\n",
              "\n",
              "// Listen for the clearing of the current output cell\n",
              "var outputEl = gd.closest('.output');\n",
              "if (outputEl) {{\n",
              "    x.observe(outputEl, {childList: true});\n",
              "}}\n",
              "\n",
              "                        })\n",
              "                };\n",
              "                \n",
              "            </script>\n",
              "        </div>\n",
              "</body>\n",
              "</html>"
            ]
          },
          "metadata": {
            "tags": []
          }
        }
      ]
    },
    {
      "cell_type": "markdown",
      "metadata": {
        "id": "_ejadN-z0Kr8"
      },
      "source": [
        "# OCTUBRE"
      ]
    },
    {
      "cell_type": "code",
      "metadata": {
        "id": "PY5pGiGhn_ES",
        "colab": {
          "base_uri": "https://localhost:8080/",
          "height": 459
        },
        "outputId": "a19767e3-90d7-42f6-d33e-965d1a77faca"
      },
      "source": [
        "opt_oct = spark.read.load(\"/content/optimo_octubre.csv\",'com.databricks.spark.csv',header='true',inferSchema='true')\n",
        "opt_oct.show()"
      ],
      "execution_count": null,
      "outputs": [
        {
          "output_type": "stream",
          "text": [
            "+---+-----------+--------+-------+--------+-----+------------------+---------------+-----------+\n",
            "|_c0|total_bases|estacion|Salidas|Llegadas|Flujo|        Frecuencia|Demanda_Deficit|Rendimiento|\n",
            "+---+-----------+--------+-------+--------+-----+------------------+---------------+-----------+\n",
            "|  0|         24|      64|     97|     101|  198|1.4772812057002163|              4|     Optimo|\n",
            "|  1|         24|     129|     87|      96|  183|1.3653659628441392|              9|     Optimo|\n",
            "|  2|         24|     163|     87|      86|  173|1.2907558009400881|             -1|     Optimo|\n",
            "|  3|         24|     162|     85|      83|  168|1.2534507199880625|             -2|     Optimo|\n",
            "|  4|         24|     160|     69|      87|  156|1.1639185257032008|             18|  No Optimo|\n",
            "|  5|         24|     149|     75|      77|  152|1.1340744609415803|              2|     Optimo|\n",
            "|  6|         24|       9|     82|      66|  148|1.1042303961799596|            -16|  No Optimo|\n",
            "|  7|         24|     135|     69|      79|  148|1.1042303961799596|             10|     Optimo|\n",
            "|  8|         27|      90|     78|      65|  143| 1.066925315227934|            -13|     Optimo|\n",
            "|  9|         24|      84|     71|      70|  141|1.0520032828471237|             -1|     Optimo|\n",
            "| 10|         24|      57|     72|      68|  140|1.0445422666567186|             -4|     Optimo|\n",
            "| 11|         24|     108|     70|      69|  139|1.0370812504663134|             -1|     Optimo|\n",
            "| 12|         24|      83|     69|      65|  134|0.9997761695142878|             -4|     Optimo|\n",
            "| 13|         27|      43|     63|      70|  133|0.9923151533238828|              7|     Optimo|\n",
            "| 14|         24|      53|     62|      68|  130|0.9699321047526674|              6|     Optimo|\n",
            "| 15|         24|     164|     57|      68|  125|0.9326270238006416|             11|     Optimo|\n",
            "| 16|         24|      46|     58|      67|  125|0.9326270238006416|              9|     Optimo|\n",
            "| 17|         24|      79|     63|      61|  124|0.9251660076102366|             -2|     Optimo|\n",
            "| 18|         24|       1|     63|      61|  124|0.9251660076102366|             -2|     Optimo|\n",
            "| 19|         24|      31|     61|      58|  119|0.8878609266582108|             -3|     Optimo|\n",
            "+---+-----------+--------+-------+--------+-----+------------------+---------------+-----------+\n",
            "only showing top 20 rows\n",
            "\n"
          ],
          "name": "stdout"
        }
      ]
    },
    {
      "cell_type": "code",
      "metadata": {
        "id": "CH0NjAxr9XBN",
        "colab": {
          "base_uri": "https://localhost:8080/",
          "height": 459
        },
        "outputId": "39e05aff-7765-4a2c-cfef-be177c7214ee"
      },
      "source": [
        "comp_oct = opt_oct[opt_oct['estacion'].isin(estaciones_n_o)]\n",
        "comp_oct.show()"
      ],
      "execution_count": null,
      "outputs": [
        {
          "output_type": "stream",
          "text": [
            "+---+-----------+--------+-------+--------+-----+------------------+---------------+-----------+\n",
            "|_c0|total_bases|estacion|Salidas|Llegadas|Flujo|        Frecuencia|Demanda_Deficit|Rendimiento|\n",
            "+---+-----------+--------+-------+--------+-----+------------------+---------------+-----------+\n",
            "|  8|         27|      90|     78|      65|  143| 1.066925315227934|            -13|     Optimo|\n",
            "| 13|         27|      43|     63|      70|  133|0.9923151533238828|              7|     Optimo|\n",
            "| 22|         24|     130|     63|      55|  118|0.8803999104678057|             -8|     Optimo|\n",
            "| 26|         30|      21|     70|      45|  115|0.8580168618965903|            -25|  No Optimo|\n",
            "| 33|         24|      74|     50|      59|  109|0.8132507647541596|              9|     Optimo|\n",
            "| 38|         24|     115|     59|      45|  104|0.7759456838021339|            -14|  No Optimo|\n",
            "| 51|         24|     145|     51|      42|   93|0.6938745057076774|             -9|     Optimo|\n",
            "| 52|         24|      62|     42|      50|   92|0.6864134895172722|              8|     Optimo|\n",
            "| 53|         24|      65|     50|      41|   91|0.6789524733268671|             -9|     Optimo|\n",
            "| 72|         21|       8|     37|      43|   80|0.5968812952324106|              6|     Optimo|\n",
            "| 73|         24|       8|     37|      43|   80|0.5968812952324106|              6|     Optimo|\n",
            "| 77|         24|     142|     34|      43|   77|0.5744982466611952|              9|     Optimo|\n",
            "| 78|         21|      99|     43|      34|   77|0.5744982466611952|             -9|     Optimo|\n",
            "| 81|         24|      69|     36|      40|   76|0.5670372304707901|              4|     Optimo|\n",
            "| 85|         21|      72|     39|      32|   71|0.5297321495187645|             -7|     Optimo|\n",
            "| 91|         24|     152|     35|      35|   70|0.5222711333283593|              0|     Optimo|\n",
            "| 94|         24|     143|     36|      31|   67|0.4998880847571439|             -5|     Optimo|\n",
            "| 96|         24|     153|     36|      31|   67|0.4998880847571439|             -5|     Optimo|\n",
            "|103|         24|      39|     26|      38|   64|0.4775050361859285|             12|     Optimo|\n",
            "|106|         24|      20|     37|      27|   64|0.4775050361859285|            -10|     Optimo|\n",
            "+---+-----------+--------+-------+--------+-----+------------------+---------------+-----------+\n",
            "only showing top 20 rows\n",
            "\n"
          ],
          "name": "stdout"
        }
      ]
    },
    {
      "cell_type": "code",
      "metadata": {
        "id": "laxn7zqrSOAa",
        "colab": {
          "base_uri": "https://localhost:8080/",
          "height": 459
        },
        "outputId": "6a7f04be-74c2-4ec2-dfaa-d51d3ec502ca"
      },
      "source": [
        "mejoras_oct = comp_oct.withColumn('Nuevas_Total_Bases',(comp_oct.total_bases + (comp_oct.Demanda_Deficit/abs(comp_oct.Demanda_Deficit))*round(comp_oct.total_bases*0.3)))\n",
        "mejoras_oct = mejoras_oct.withColumn(\"Nuevo_Rendimiento\", ((mejoras_oct.Demanda_Deficit>=(-(mejoras_oct.Nuevas_Total_Bases)/2)) & (mejoras_oct.Demanda_Deficit<=((mejoras_oct.Nuevas_Total_Bases)/2)) & (mejoras_oct.Flujo > mejoras_oct.Nuevas_Total_Bases)))\n",
        "mejoras_oct = mejoras_oct.withColumn(\"Nuevo_Rendimiento\", usoUdf(mejoras_oct.Nuevo_Rendimiento))\n",
        "columnas = [\"total_bases\", \"Frecuencia\", \"Salidas\", \"Llegadas\", \"Rendimiento\"]\n",
        "mejoras_oct = mejoras_oct.drop(*columnas)\n",
        "mejoras_oct.show()"
      ],
      "execution_count": null,
      "outputs": [
        {
          "output_type": "stream",
          "text": [
            "+---+--------+-----+---------------+------------------+-----------------+\n",
            "|_c0|estacion|Flujo|Demanda_Deficit|Nuevas_Total_Bases|Nuevo_Rendimiento|\n",
            "+---+--------+-----+---------------+------------------+-----------------+\n",
            "|  8|      90|  143|            -13|              19.0|        No Optimo|\n",
            "| 13|      43|  133|              7|              35.0|           Optimo|\n",
            "| 22|     130|  118|             -8|              17.0|           Optimo|\n",
            "| 26|      21|  115|            -25|              21.0|        No Optimo|\n",
            "| 33|      74|  109|              9|              31.0|           Optimo|\n",
            "| 38|     115|  104|            -14|              17.0|        No Optimo|\n",
            "| 51|     145|   93|             -9|              17.0|        No Optimo|\n",
            "| 52|      62|   92|              8|              31.0|           Optimo|\n",
            "| 53|      65|   91|             -9|              17.0|        No Optimo|\n",
            "| 72|       8|   80|              6|              27.0|           Optimo|\n",
            "| 73|       8|   80|              6|              31.0|           Optimo|\n",
            "| 77|     142|   77|              9|              31.0|           Optimo|\n",
            "| 78|      99|   77|             -9|              15.0|        No Optimo|\n",
            "| 81|      69|   76|              4|              31.0|           Optimo|\n",
            "| 85|      72|   71|             -7|              15.0|           Optimo|\n",
            "| 91|     152|   70|              0|              null|             null|\n",
            "| 94|     143|   67|             -5|              17.0|           Optimo|\n",
            "| 96|     153|   67|             -5|              17.0|           Optimo|\n",
            "|103|      39|   64|             12|              31.0|           Optimo|\n",
            "|106|      20|   64|            -10|              17.0|        No Optimo|\n",
            "+---+--------+-----+---------------+------------------+-----------------+\n",
            "only showing top 20 rows\n",
            "\n"
          ],
          "name": "stdout"
        }
      ]
    },
    {
      "cell_type": "code",
      "metadata": {
        "id": "oGurEZ-IO5If",
        "colab": {
          "base_uri": "https://localhost:8080/",
          "height": 136
        },
        "outputId": "1a705bb2-d859-4c14-b114-db2d8fefde25"
      },
      "source": [
        "# Recuento de estaciones optimas y no optimas de las estaciones Octubre.\n",
        "opt_oct.createOrReplaceTempView(\"filtrado\")\n",
        "booleano_oct_total= spark.sql(\"select Rendimiento, count(Rendimiento) as Cantidad from filtrado group by Rendimiento\")\n",
        "booleano_panda_oct_total = booleano_oct_total.toPandas()\n",
        "booleano_oct_total.show()"
      ],
      "execution_count": null,
      "outputs": [
        {
          "output_type": "stream",
          "text": [
            "+-----------+--------+\n",
            "|Rendimiento|Cantidad|\n",
            "+-----------+--------+\n",
            "|  No Optimo|      20|\n",
            "|     Optimo|     147|\n",
            "+-----------+--------+\n",
            "\n"
          ],
          "name": "stdout"
        }
      ]
    },
    {
      "cell_type": "code",
      "metadata": {
        "id": "2gzzISe__0Hi",
        "colab": {
          "base_uri": "https://localhost:8080/",
          "height": 136
        },
        "outputId": "b7ed5ef7-037c-4acf-da40-cbe0538060dc"
      },
      "source": [
        "# Recuento de estaciones optimas y no optimas de las estaciones no optimas de Julio en Octubre.\n",
        "comp_oct.createOrReplaceTempView(\"filtrado\")\n",
        "booleano_oct= spark.sql(\"select Rendimiento, count(Rendimiento) as Cantidad from filtrado group by Rendimiento\")\n",
        "booleano_panda_oct = booleano_oct.toPandas()\n",
        "booleano_oct.show()"
      ],
      "execution_count": null,
      "outputs": [
        {
          "output_type": "stream",
          "text": [
            "+-----------+--------+\n",
            "|Rendimiento|Cantidad|\n",
            "+-----------+--------+\n",
            "|  No Optimo|       5|\n",
            "|     Optimo|      48|\n",
            "+-----------+--------+\n",
            "\n"
          ],
          "name": "stdout"
        }
      ]
    },
    {
      "cell_type": "code",
      "metadata": {
        "id": "00ZFwcYyB0f7",
        "colab": {
          "base_uri": "https://localhost:8080/",
          "height": 153
        },
        "outputId": "04c611f8-98d7-4a6a-ce84-9b760d060ec7"
      },
      "source": [
        "# Hacemos un nuevo recuento para ver como evolucionan las estaciones no óptimas después de aplicar el criterio de mejora\n",
        "mejoras_oct.createOrReplaceTempView(\"filtrado\")\n",
        "booleano_mej_oct = spark.sql(\"select nuevo_Rendimiento, count(nuevo_Rendimiento) as Cantidad from filtrado group by nuevo_Rendimiento\")\n",
        "booleano_panda_mej_oct = booleano_mej_oct.toPandas()\n",
        "booleano_mej_oct.show()"
      ],
      "execution_count": null,
      "outputs": [
        {
          "output_type": "stream",
          "text": [
            "+-----------------+--------+\n",
            "|nuevo_Rendimiento|Cantidad|\n",
            "+-----------------+--------+\n",
            "|             null|       0|\n",
            "|        No Optimo|      13|\n",
            "|           Optimo|      37|\n",
            "+-----------------+--------+\n",
            "\n"
          ],
          "name": "stdout"
        }
      ]
    },
    {
      "cell_type": "code",
      "metadata": {
        "id": "OcyIUBJHu3r0",
        "colab": {
          "base_uri": "https://localhost:8080/",
          "height": 542
        },
        "outputId": "d5ceec49-bea7-4f7d-af3b-b17cce933a1c"
      },
      "source": [
        "fig = go.Figure()\n",
        "fig.add_trace(go.Bar(x=booleano_panda_oct.Rendimiento,\n",
        "                y=booleano_panda_oct.Cantidad,\n",
        "                name='Antes de Mejorar',\n",
        "                marker_color='rgb(55, 83, 109)'\n",
        "                ))\n",
        "fig.add_trace(go.Bar(x=booleano_panda_mej_oct.nuevo_Rendimiento,\n",
        "                y=booleano_panda_mej_oct.Cantidad,\n",
        "                name='Después de Mejorar',\n",
        "                marker_color='rgb(26, 118, 255)'\n",
        "                ))\n",
        "\n",
        "fig.update_layout(\n",
        "    title='Octubre',\n",
        "    xaxis_tickfont_size=14,\n",
        "    yaxis=dict(\n",
        "        title='Cantidad',\n",
        "        titlefont_size=16,\n",
        "        tickfont_size=14,\n",
        "    ),\n",
        "    legend=dict(\n",
        "        bgcolor='rgba(255, 255, 255, 0)',\n",
        "        bordercolor='rgba(255, 255, 255, 0)'\n",
        "    ),\n",
        "    barmode='group',\n",
        "    bargap=0.15,\n",
        "    bargroupgap=0.1\n",
        ")\n",
        "fig.show()"
      ],
      "execution_count": null,
      "outputs": [
        {
          "output_type": "display_data",
          "data": {
            "text/html": [
              "<html>\n",
              "<head><meta charset=\"utf-8\" /></head>\n",
              "<body>\n",
              "    <div>\n",
              "            <script src=\"https://cdnjs.cloudflare.com/ajax/libs/mathjax/2.7.5/MathJax.js?config=TeX-AMS-MML_SVG\"></script><script type=\"text/javascript\">if (window.MathJax) {MathJax.Hub.Config({SVG: {font: \"STIX-Web\"}});}</script>\n",
              "                <script type=\"text/javascript\">window.PlotlyConfig = {MathJaxConfig: 'local'};</script>\n",
              "        <script src=\"https://cdn.plot.ly/plotly-latest.min.js\"></script>    \n",
              "            <div id=\"1d5831f3-6ab0-4024-a6db-609e7eb7a353\" class=\"plotly-graph-div\" style=\"height:525px; width:100%;\"></div>\n",
              "            <script type=\"text/javascript\">\n",
              "                \n",
              "                    window.PLOTLYENV=window.PLOTLYENV || {};\n",
              "                    \n",
              "                if (document.getElementById(\"1d5831f3-6ab0-4024-a6db-609e7eb7a353\")) {\n",
              "                    Plotly.newPlot(\n",
              "                        '1d5831f3-6ab0-4024-a6db-609e7eb7a353',\n",
              "                        [{\"marker\": {\"color\": \"rgb(55, 83, 109)\"}, \"name\": \"Antes de Mejorar\", \"type\": \"bar\", \"x\": [\"No Optimo\", \"Optimo\"], \"y\": [5, 48]}, {\"marker\": {\"color\": \"rgb(26, 118, 255)\"}, \"name\": \"Despu\\u00e9s de Mejorar\", \"type\": \"bar\", \"x\": [null, \"No Optimo\", \"Optimo\"], \"y\": [0, 13, 37]}],\n",
              "                        {\"bargap\": 0.15, \"bargroupgap\": 0.1, \"barmode\": \"group\", \"legend\": {\"bgcolor\": \"rgba(255, 255, 255, 0)\", \"bordercolor\": \"rgba(255, 255, 255, 0)\"}, \"template\": {\"data\": {\"bar\": [{\"error_x\": {\"color\": \"#2a3f5f\"}, \"error_y\": {\"color\": \"#2a3f5f\"}, \"marker\": {\"line\": {\"color\": \"#E5ECF6\", \"width\": 0.5}}, \"type\": \"bar\"}], \"barpolar\": [{\"marker\": {\"line\": {\"color\": \"#E5ECF6\", \"width\": 0.5}}, \"type\": \"barpolar\"}], \"carpet\": [{\"aaxis\": {\"endlinecolor\": \"#2a3f5f\", \"gridcolor\": \"white\", \"linecolor\": \"white\", \"minorgridcolor\": \"white\", \"startlinecolor\": \"#2a3f5f\"}, \"baxis\": {\"endlinecolor\": \"#2a3f5f\", \"gridcolor\": \"white\", \"linecolor\": \"white\", \"minorgridcolor\": \"white\", \"startlinecolor\": \"#2a3f5f\"}, \"type\": \"carpet\"}], \"choropleth\": [{\"colorbar\": {\"outlinewidth\": 0, \"ticks\": \"\"}, \"type\": \"choropleth\"}], \"contour\": [{\"colorbar\": {\"outlinewidth\": 0, \"ticks\": \"\"}, \"colorscale\": [[0.0, \"#0d0887\"], [0.1111111111111111, \"#46039f\"], [0.2222222222222222, \"#7201a8\"], [0.3333333333333333, \"#9c179e\"], [0.4444444444444444, \"#bd3786\"], [0.5555555555555556, \"#d8576b\"], [0.6666666666666666, \"#ed7953\"], [0.7777777777777778, \"#fb9f3a\"], [0.8888888888888888, \"#fdca26\"], [1.0, \"#f0f921\"]], \"type\": \"contour\"}], \"contourcarpet\": [{\"colorbar\": {\"outlinewidth\": 0, \"ticks\": \"\"}, \"type\": \"contourcarpet\"}], \"heatmap\": [{\"colorbar\": {\"outlinewidth\": 0, \"ticks\": \"\"}, \"colorscale\": [[0.0, \"#0d0887\"], [0.1111111111111111, \"#46039f\"], [0.2222222222222222, \"#7201a8\"], [0.3333333333333333, \"#9c179e\"], [0.4444444444444444, \"#bd3786\"], [0.5555555555555556, \"#d8576b\"], [0.6666666666666666, \"#ed7953\"], [0.7777777777777778, \"#fb9f3a\"], [0.8888888888888888, \"#fdca26\"], [1.0, \"#f0f921\"]], \"type\": \"heatmap\"}], \"heatmapgl\": [{\"colorbar\": {\"outlinewidth\": 0, \"ticks\": \"\"}, \"colorscale\": [[0.0, \"#0d0887\"], [0.1111111111111111, \"#46039f\"], [0.2222222222222222, \"#7201a8\"], [0.3333333333333333, \"#9c179e\"], [0.4444444444444444, \"#bd3786\"], [0.5555555555555556, \"#d8576b\"], [0.6666666666666666, \"#ed7953\"], [0.7777777777777778, \"#fb9f3a\"], [0.8888888888888888, \"#fdca26\"], [1.0, \"#f0f921\"]], \"type\": \"heatmapgl\"}], \"histogram\": [{\"marker\": {\"colorbar\": {\"outlinewidth\": 0, \"ticks\": \"\"}}, \"type\": \"histogram\"}], \"histogram2d\": [{\"colorbar\": {\"outlinewidth\": 0, \"ticks\": \"\"}, \"colorscale\": [[0.0, \"#0d0887\"], [0.1111111111111111, \"#46039f\"], [0.2222222222222222, \"#7201a8\"], [0.3333333333333333, \"#9c179e\"], [0.4444444444444444, \"#bd3786\"], [0.5555555555555556, \"#d8576b\"], [0.6666666666666666, \"#ed7953\"], [0.7777777777777778, \"#fb9f3a\"], [0.8888888888888888, \"#fdca26\"], [1.0, \"#f0f921\"]], \"type\": \"histogram2d\"}], \"histogram2dcontour\": [{\"colorbar\": {\"outlinewidth\": 0, \"ticks\": \"\"}, \"colorscale\": [[0.0, \"#0d0887\"], [0.1111111111111111, \"#46039f\"], [0.2222222222222222, \"#7201a8\"], [0.3333333333333333, \"#9c179e\"], [0.4444444444444444, \"#bd3786\"], [0.5555555555555556, \"#d8576b\"], [0.6666666666666666, \"#ed7953\"], [0.7777777777777778, \"#fb9f3a\"], [0.8888888888888888, \"#fdca26\"], [1.0, \"#f0f921\"]], \"type\": \"histogram2dcontour\"}], \"mesh3d\": [{\"colorbar\": {\"outlinewidth\": 0, \"ticks\": \"\"}, \"type\": \"mesh3d\"}], \"parcoords\": [{\"line\": {\"colorbar\": {\"outlinewidth\": 0, \"ticks\": \"\"}}, \"type\": \"parcoords\"}], \"pie\": [{\"automargin\": true, \"type\": \"pie\"}], \"scatter\": [{\"marker\": {\"colorbar\": {\"outlinewidth\": 0, \"ticks\": \"\"}}, \"type\": \"scatter\"}], \"scatter3d\": [{\"line\": {\"colorbar\": {\"outlinewidth\": 0, \"ticks\": \"\"}}, \"marker\": {\"colorbar\": {\"outlinewidth\": 0, \"ticks\": \"\"}}, \"type\": \"scatter3d\"}], \"scattercarpet\": [{\"marker\": {\"colorbar\": {\"outlinewidth\": 0, \"ticks\": \"\"}}, \"type\": \"scattercarpet\"}], \"scattergeo\": [{\"marker\": {\"colorbar\": {\"outlinewidth\": 0, \"ticks\": \"\"}}, \"type\": \"scattergeo\"}], \"scattergl\": [{\"marker\": {\"colorbar\": {\"outlinewidth\": 0, \"ticks\": \"\"}}, \"type\": \"scattergl\"}], \"scattermapbox\": [{\"marker\": {\"colorbar\": {\"outlinewidth\": 0, \"ticks\": \"\"}}, \"type\": \"scattermapbox\"}], \"scatterpolar\": [{\"marker\": {\"colorbar\": {\"outlinewidth\": 0, \"ticks\": \"\"}}, \"type\": \"scatterpolar\"}], \"scatterpolargl\": [{\"marker\": {\"colorbar\": {\"outlinewidth\": 0, \"ticks\": \"\"}}, \"type\": \"scatterpolargl\"}], \"scatterternary\": [{\"marker\": {\"colorbar\": {\"outlinewidth\": 0, \"ticks\": \"\"}}, \"type\": \"scatterternary\"}], \"surface\": [{\"colorbar\": {\"outlinewidth\": 0, \"ticks\": \"\"}, \"colorscale\": [[0.0, \"#0d0887\"], [0.1111111111111111, \"#46039f\"], [0.2222222222222222, \"#7201a8\"], [0.3333333333333333, \"#9c179e\"], [0.4444444444444444, \"#bd3786\"], [0.5555555555555556, \"#d8576b\"], [0.6666666666666666, \"#ed7953\"], [0.7777777777777778, \"#fb9f3a\"], [0.8888888888888888, \"#fdca26\"], [1.0, \"#f0f921\"]], \"type\": \"surface\"}], \"table\": [{\"cells\": {\"fill\": {\"color\": \"#EBF0F8\"}, \"line\": {\"color\": \"white\"}}, \"header\": {\"fill\": {\"color\": \"#C8D4E3\"}, \"line\": {\"color\": \"white\"}}, \"type\": \"table\"}]}, \"layout\": {\"annotationdefaults\": {\"arrowcolor\": \"#2a3f5f\", \"arrowhead\": 0, \"arrowwidth\": 1}, \"coloraxis\": {\"colorbar\": {\"outlinewidth\": 0, \"ticks\": \"\"}}, \"colorscale\": {\"diverging\": [[0, \"#8e0152\"], [0.1, \"#c51b7d\"], [0.2, \"#de77ae\"], [0.3, \"#f1b6da\"], [0.4, \"#fde0ef\"], [0.5, \"#f7f7f7\"], [0.6, \"#e6f5d0\"], [0.7, \"#b8e186\"], [0.8, \"#7fbc41\"], [0.9, \"#4d9221\"], [1, \"#276419\"]], \"sequential\": [[0.0, \"#0d0887\"], [0.1111111111111111, \"#46039f\"], [0.2222222222222222, \"#7201a8\"], [0.3333333333333333, \"#9c179e\"], [0.4444444444444444, \"#bd3786\"], [0.5555555555555556, \"#d8576b\"], [0.6666666666666666, \"#ed7953\"], [0.7777777777777778, \"#fb9f3a\"], [0.8888888888888888, \"#fdca26\"], [1.0, \"#f0f921\"]], \"sequentialminus\": [[0.0, \"#0d0887\"], [0.1111111111111111, \"#46039f\"], [0.2222222222222222, \"#7201a8\"], [0.3333333333333333, \"#9c179e\"], [0.4444444444444444, \"#bd3786\"], [0.5555555555555556, \"#d8576b\"], [0.6666666666666666, \"#ed7953\"], [0.7777777777777778, \"#fb9f3a\"], [0.8888888888888888, \"#fdca26\"], [1.0, \"#f0f921\"]]}, \"colorway\": [\"#636efa\", \"#EF553B\", \"#00cc96\", \"#ab63fa\", \"#FFA15A\", \"#19d3f3\", \"#FF6692\", \"#B6E880\", \"#FF97FF\", \"#FECB52\"], \"font\": {\"color\": \"#2a3f5f\"}, \"geo\": {\"bgcolor\": \"white\", \"lakecolor\": \"white\", \"landcolor\": \"#E5ECF6\", \"showlakes\": true, \"showland\": true, \"subunitcolor\": \"white\"}, \"hoverlabel\": {\"align\": \"left\"}, \"hovermode\": \"closest\", \"mapbox\": {\"style\": \"light\"}, \"paper_bgcolor\": \"white\", \"plot_bgcolor\": \"#E5ECF6\", \"polar\": {\"angularaxis\": {\"gridcolor\": \"white\", \"linecolor\": \"white\", \"ticks\": \"\"}, \"bgcolor\": \"#E5ECF6\", \"radialaxis\": {\"gridcolor\": \"white\", \"linecolor\": \"white\", \"ticks\": \"\"}}, \"scene\": {\"xaxis\": {\"backgroundcolor\": \"#E5ECF6\", \"gridcolor\": \"white\", \"gridwidth\": 2, \"linecolor\": \"white\", \"showbackground\": true, \"ticks\": \"\", \"zerolinecolor\": \"white\"}, \"yaxis\": {\"backgroundcolor\": \"#E5ECF6\", \"gridcolor\": \"white\", \"gridwidth\": 2, \"linecolor\": \"white\", \"showbackground\": true, \"ticks\": \"\", \"zerolinecolor\": \"white\"}, \"zaxis\": {\"backgroundcolor\": \"#E5ECF6\", \"gridcolor\": \"white\", \"gridwidth\": 2, \"linecolor\": \"white\", \"showbackground\": true, \"ticks\": \"\", \"zerolinecolor\": \"white\"}}, \"shapedefaults\": {\"line\": {\"color\": \"#2a3f5f\"}}, \"ternary\": {\"aaxis\": {\"gridcolor\": \"white\", \"linecolor\": \"white\", \"ticks\": \"\"}, \"baxis\": {\"gridcolor\": \"white\", \"linecolor\": \"white\", \"ticks\": \"\"}, \"bgcolor\": \"#E5ECF6\", \"caxis\": {\"gridcolor\": \"white\", \"linecolor\": \"white\", \"ticks\": \"\"}}, \"title\": {\"x\": 0.05}, \"xaxis\": {\"automargin\": true, \"gridcolor\": \"white\", \"linecolor\": \"white\", \"ticks\": \"\", \"title\": {\"standoff\": 15}, \"zerolinecolor\": \"white\", \"zerolinewidth\": 2}, \"yaxis\": {\"automargin\": true, \"gridcolor\": \"white\", \"linecolor\": \"white\", \"ticks\": \"\", \"title\": {\"standoff\": 15}, \"zerolinecolor\": \"white\", \"zerolinewidth\": 2}}}, \"title\": {\"text\": \"Octubre\"}, \"xaxis\": {\"tickfont\": {\"size\": 14}}, \"yaxis\": {\"tickfont\": {\"size\": 14}, \"title\": {\"font\": {\"size\": 16}, \"text\": \"Cantidad\"}}},\n",
              "                        {\"responsive\": true}\n",
              "                    ).then(function(){\n",
              "                            \n",
              "var gd = document.getElementById('1d5831f3-6ab0-4024-a6db-609e7eb7a353');\n",
              "var x = new MutationObserver(function (mutations, observer) {{\n",
              "        var display = window.getComputedStyle(gd).display;\n",
              "        if (!display || display === 'none') {{\n",
              "            console.log([gd, 'removed!']);\n",
              "            Plotly.purge(gd);\n",
              "            observer.disconnect();\n",
              "        }}\n",
              "}});\n",
              "\n",
              "// Listen for the removal of the full notebook cells\n",
              "var notebookContainer = gd.closest('#notebook-container');\n",
              "if (notebookContainer) {{\n",
              "    x.observe(notebookContainer, {childList: true});\n",
              "}}\n",
              "\n",
              "// Listen for the clearing of the current output cell\n",
              "var outputEl = gd.closest('.output');\n",
              "if (outputEl) {{\n",
              "    x.observe(outputEl, {childList: true});\n",
              "}}\n",
              "\n",
              "                        })\n",
              "                };\n",
              "                \n",
              "            </script>\n",
              "        </div>\n",
              "</body>\n",
              "</html>"
            ]
          },
          "metadata": {
            "tags": []
          }
        }
      ]
    },
    {
      "cell_type": "markdown",
      "metadata": {
        "id": "JNBussXIxaSJ"
      },
      "source": [
        "# NOVIEMBRE\n"
      ]
    },
    {
      "cell_type": "code",
      "metadata": {
        "id": "KWQpbpTQxaSL",
        "colab": {
          "base_uri": "https://localhost:8080/",
          "height": 459
        },
        "outputId": "f7149707-e755-4085-a2eb-84a9d8adc1ea"
      },
      "source": [
        "opt_nov = spark.read.load(\"/content/optimos_Noviembre.csv\",'com.databricks.spark.csv',header='true',inferSchema='true')\n",
        "opt_nov.show()"
      ],
      "execution_count": null,
      "outputs": [
        {
          "output_type": "stream",
          "text": [
            "+---+-----------+--------+-------+--------+-----+------------------+---------------+-----------+\n",
            "|_c0|total_bases|estacion|Salidas|Llegadas|Flujo|        Frecuencia|Demanda_Deficit|Rendimiento|\n",
            "+---+-----------+--------+-------+--------+-----+------------------+---------------+-----------+\n",
            "|  0|         24|     135|    293|     275|  568| 1.569147466710868|            -18|  No Optimo|\n",
            "|  1|         24|     163|    281|     286|  567| 1.566384883142715|              5|     Optimo|\n",
            "|  2|         24|      57|    271|     276|  547|1.5111332117796563|              5|     Optimo|\n",
            "|  3|         27|      43|    261|     258|  519|1.4337808718713743|             -3|     Optimo|\n",
            "|  4|         24|     149|    232|     254|  486|1.3426156141223273|             22|  No Optimo|\n",
            "|  5|         24|     168|    239|     246|  485|1.3398530305541743|              7|     Optimo|\n",
            "|  6|         24|     129|    238|     231|  469|1.2956516934637274|             -7|     Optimo|\n",
            "|  7|         27|      90|    232|     230|  462|1.2763136084866566|             -2|     Optimo|\n",
            "|  8|         21|      58|    222|     213|  435|1.2017238521465274|             -9|     Optimo|\n",
            "|  9|         24|      64|    213|     199|  412|  1.13818443007901|            -14|  No Optimo|\n",
            "| 10|         24|     132|    203|     190|  393| 1.085695342284104|            -13|  No Optimo|\n",
            "| 11|         24|       1|    202|     188|  390|1.0774075915796453|            -14|  No Optimo|\n",
            "| 12|         21|      49|    191|     194|  385|1.0635946737388806|              3|     Optimo|\n",
            "| 13|         24|     161|    185|     187|  372|1.0276810873528923|              2|     Optimo|\n",
            "| 14|         24|     162|    176|     195|  371|1.0249185037847395|             19|  No Optimo|\n",
            "| 15|         24|     160|    185|     183|  368|1.0166307530802807|             -2|     Optimo|\n",
            "| 16|         24|      19|    181|     185|  366|1.0111055859439748|              4|     Optimo|\n",
            "| 17|         24|      46|    176|     178|  354|0.9779545831261396|              2|     Optimo|\n",
            "| 18|         24|     170|    183|     168|  351|0.9696668324216808|            -15|  No Optimo|\n",
            "| 19|         24|      83|    172|     179|  351|0.9696668324216808|              7|     Optimo|\n",
            "+---+-----------+--------+-------+--------+-----+------------------+---------------+-----------+\n",
            "only showing top 20 rows\n",
            "\n"
          ],
          "name": "stdout"
        }
      ]
    },
    {
      "cell_type": "code",
      "metadata": {
        "id": "oEVRDhF7xaSR",
        "colab": {
          "base_uri": "https://localhost:8080/",
          "height": 459
        },
        "outputId": "05900ba4-1815-40bf-abb5-f4aabf4e91c0"
      },
      "source": [
        "comp_nov = opt_nov[opt_nov['estacion'].isin(estaciones_n_o)]\n",
        "comp_nov.show()"
      ],
      "execution_count": null,
      "outputs": [
        {
          "output_type": "stream",
          "text": [
            "+---+-----------+--------+-------+--------+-----+-------------------+---------------+-----------+\n",
            "|_c0|total_bases|estacion|Salidas|Llegadas|Flujo|         Frecuencia|Demanda_Deficit|Rendimiento|\n",
            "+---+-----------+--------+-------+--------+-----+-------------------+---------------+-----------+\n",
            "|  3|         27|      43|    261|     258|  519| 1.4337808718713743|             -3|     Optimo|\n",
            "|  7|         27|      90|    232|     230|  462| 1.2763136084866566|             -2|     Optimo|\n",
            "| 21|         24|      62|    165|     176|  341| 0.9420409967401514|             11|     Optimo|\n",
            "| 41|         24|      74|    149|     125|  274| 0.7569478976739047|            -24|  No Optimo|\n",
            "| 62|         24|     145|    111|     110|  221|  0.610530968561799|             -1|     Optimo|\n",
            "| 65|         24|      65|    107|     106|  213| 0.5884303000165755|             -1|     Optimo|\n",
            "| 68|         24|     115|    105|     105|  210| 0.5801425493121167|              0|     Optimo|\n",
            "| 71|         24|     130|    104|     100|  204| 0.5635670479031991|             -4|     Optimo|\n",
            "| 72|         24|      12|     98|     106|  204| 0.5635670479031991|              8|     Optimo|\n",
            "| 74|         21|       8|     95|     107|  202| 0.5580418807668932|             12|  No Optimo|\n",
            "| 75|         24|       8|     95|     107|  202| 0.5580418807668932|             12|     Optimo|\n",
            "| 80|         21|      17|    105|      88|  193| 0.5331786286535167|            -17|  No Optimo|\n",
            "| 83|         21|      99|     97|      95|  192| 0.5304160450853639|             -2|     Optimo|\n",
            "| 86|         24|      69|     98|      92|  190|  0.524890877949058|             -6|     Optimo|\n",
            "| 87|         30|      21|     96|      93|  189|  0.522128294380905|             -3|     Optimo|\n",
            "| 89|         24|     158|     94|      93|  187| 0.5166031272445992|             -1|     Optimo|\n",
            "| 90|         24|      25|     94|      92|  186| 0.5138405436764462|             -2|     Optimo|\n",
            "| 99|         24|      20|     86|      89|  175| 0.4834521244267639|              3|     Optimo|\n",
            "|100|         24|     148|     83|      92|  175| 0.4834521244267639|              9|     Optimo|\n",
            "|111|         24|     153|     84|      77|  161|0.44477595447262275|             -7|     Optimo|\n",
            "+---+-----------+--------+-------+--------+-----+-------------------+---------------+-----------+\n",
            "only showing top 20 rows\n",
            "\n"
          ],
          "name": "stdout"
        }
      ]
    },
    {
      "cell_type": "code",
      "metadata": {
        "id": "SRFWdgp5xaSV",
        "colab": {
          "base_uri": "https://localhost:8080/",
          "height": 459
        },
        "outputId": "7c0b2c59-f88a-46c2-8bd7-72560df23709"
      },
      "source": [
        "mejoras_nov = comp_nov.withColumn('Nuevas_Total_Bases',(comp_nov.total_bases + (comp_nov.Demanda_Deficit/abs(comp_nov.Demanda_Deficit))*round(comp_nov.total_bases*0.3)))\n",
        "mejoras_nov = mejoras_nov.withColumn(\"Nuevo_Rendimiento\", ((mejoras_nov.Demanda_Deficit>=(-(mejoras_nov.Nuevas_Total_Bases)/2)) & (mejoras_nov.Demanda_Deficit<=((mejoras_nov.Nuevas_Total_Bases)/2)) & (mejoras_nov.Flujo > mejoras_nov.Nuevas_Total_Bases)))\n",
        "mejoras_nov = mejoras_nov.withColumn(\"Nuevo_Rendimiento\", usoUdf(mejoras_nov.Nuevo_Rendimiento))\n",
        "columnas = [\"total_bases\", \"Frecuencia\", \"Salidas\", \"Llegadas\", \"Rendimiento\"]\n",
        "mejoras_nov = mejoras_nov.drop(*columnas)\n",
        "mejoras_nov.show()"
      ],
      "execution_count": null,
      "outputs": [
        {
          "output_type": "stream",
          "text": [
            "+---+--------+-----+---------------+------------------+-----------------+\n",
            "|_c0|estacion|Flujo|Demanda_Deficit|Nuevas_Total_Bases|Nuevo_Rendimiento|\n",
            "+---+--------+-----+---------------+------------------+-----------------+\n",
            "|  3|      43|  519|             -3|              19.0|           Optimo|\n",
            "|  7|      90|  462|             -2|              19.0|           Optimo|\n",
            "| 21|      62|  341|             11|              31.0|           Optimo|\n",
            "| 41|      74|  274|            -24|              17.0|        No Optimo|\n",
            "| 62|     145|  221|             -1|              17.0|           Optimo|\n",
            "| 65|      65|  213|             -1|              17.0|           Optimo|\n",
            "| 68|     115|  210|              0|              null|             null|\n",
            "| 71|     130|  204|             -4|              17.0|           Optimo|\n",
            "| 72|      12|  204|              8|              31.0|           Optimo|\n",
            "| 74|       8|  202|             12|              27.0|           Optimo|\n",
            "| 75|       8|  202|             12|              31.0|           Optimo|\n",
            "| 80|      17|  193|            -17|              15.0|        No Optimo|\n",
            "| 83|      99|  192|             -2|              15.0|           Optimo|\n",
            "| 86|      69|  190|             -6|              17.0|           Optimo|\n",
            "| 87|      21|  189|             -3|              21.0|           Optimo|\n",
            "| 89|     158|  187|             -1|              17.0|           Optimo|\n",
            "| 90|      25|  186|             -2|              17.0|           Optimo|\n",
            "| 99|      20|  175|              3|              31.0|           Optimo|\n",
            "|100|     148|  175|              9|              31.0|           Optimo|\n",
            "|111|     153|  161|             -7|              17.0|           Optimo|\n",
            "+---+--------+-----+---------------+------------------+-----------------+\n",
            "only showing top 20 rows\n",
            "\n"
          ],
          "name": "stdout"
        }
      ]
    },
    {
      "cell_type": "code",
      "metadata": {
        "id": "t-bhjRcaPFk8",
        "colab": {
          "base_uri": "https://localhost:8080/",
          "height": 136
        },
        "outputId": "40edee94-74dc-4cd8-b8e5-1982e2f15ff7"
      },
      "source": [
        "# Recuento de estaciones optimas y no optimas de las estaciones Noviembre.\n",
        "opt_nov.createOrReplaceTempView(\"filtrado\")\n",
        "booleano_nov_total= spark.sql(\"select Rendimiento, count(Rendimiento) as Cantidad from filtrado group by Rendimiento\")\n",
        "booleano_panda_nov_total = booleano_nov_total.toPandas()\n",
        "booleano_nov_total.show()"
      ],
      "execution_count": null,
      "outputs": [
        {
          "output_type": "stream",
          "text": [
            "+-----------+--------+\n",
            "|Rendimiento|Cantidad|\n",
            "+-----------+--------+\n",
            "|  No Optimo|      24|\n",
            "|     Optimo|     144|\n",
            "+-----------+--------+\n",
            "\n"
          ],
          "name": "stdout"
        }
      ]
    },
    {
      "cell_type": "code",
      "metadata": {
        "id": "mHmAuExwxaSY",
        "colab": {
          "base_uri": "https://localhost:8080/",
          "height": 136
        },
        "outputId": "824fb21e-abda-4d9d-b528-8a21b69ad47a"
      },
      "source": [
        "# Recuento de estaciones optimas y no optimas de las estaciones no optimas de Julio en Noviembre.\n",
        "comp_nov.createOrReplaceTempView(\"filtrado\")\n",
        "booleano_nov= spark.sql(\"select Rendimiento, count(Rendimiento) as Cantidad from filtrado group by Rendimiento\")\n",
        "booleano_panda_nov = booleano_nov.toPandas()\n",
        "booleano_nov.show()"
      ],
      "execution_count": null,
      "outputs": [
        {
          "output_type": "stream",
          "text": [
            "+-----------+--------+\n",
            "|Rendimiento|Cantidad|\n",
            "+-----------+--------+\n",
            "|  No Optimo|       5|\n",
            "|     Optimo|      48|\n",
            "+-----------+--------+\n",
            "\n"
          ],
          "name": "stdout"
        }
      ]
    },
    {
      "cell_type": "code",
      "metadata": {
        "id": "Qlr5qoy7xaSd",
        "colab": {
          "base_uri": "https://localhost:8080/",
          "height": 153
        },
        "outputId": "1f340e0d-5e53-4ad1-9025-d296a566d0b1"
      },
      "source": [
        "# Hacemos un nuevo recuento para ver como evolucionan las estaciones no óptimas después de aplicar el criterio de mejora\n",
        "mejoras_nov.createOrReplaceTempView(\"filtrado\")\n",
        "booleano_mej_nov = spark.sql(\"select nuevo_Rendimiento, count(nuevo_Rendimiento) as Cantidad from filtrado group by nuevo_Rendimiento\")\n",
        "booleano_panda_mej_nov = booleano_mej_nov.toPandas()\n",
        "booleano_mej_nov.show()"
      ],
      "execution_count": null,
      "outputs": [
        {
          "output_type": "stream",
          "text": [
            "+-----------------+--------+\n",
            "|nuevo_Rendimiento|Cantidad|\n",
            "+-----------------+--------+\n",
            "|             null|       0|\n",
            "|        No Optimo|      11|\n",
            "|           Optimo|      39|\n",
            "+-----------------+--------+\n",
            "\n"
          ],
          "name": "stdout"
        }
      ]
    },
    {
      "cell_type": "code",
      "metadata": {
        "id": "k9WI36DTxaSg",
        "colab": {
          "base_uri": "https://localhost:8080/",
          "height": 542
        },
        "outputId": "dff7f6f2-09ce-40a0-fa0f-36b4a1b1cc3a"
      },
      "source": [
        "fig = go.Figure()\n",
        "fig.add_trace(go.Bar(x=booleano_panda_nov.Rendimiento,\n",
        "                y=booleano_panda_nov.Cantidad,\n",
        "                name='Antes de Mejorar',\n",
        "                marker_color='rgb(55, 83, 109)'\n",
        "                ))\n",
        "fig.add_trace(go.Bar(x=booleano_panda_mej_nov.nuevo_Rendimiento,\n",
        "                y=booleano_panda_mej_nov.Cantidad,\n",
        "                name='Después de Mejorar',\n",
        "                marker_color='rgb(26, 118, 255)'\n",
        "                ))\n",
        "\n",
        "fig.update_layout(\n",
        "    title='Noviembre',\n",
        "    xaxis_tickfont_size=14,\n",
        "    yaxis=dict(\n",
        "        title='Cantidad',\n",
        "        titlefont_size=16,\n",
        "        tickfont_size=14,\n",
        "    ),\n",
        "    legend=dict(\n",
        "        bgcolor='rgba(255, 255, 255, 0)',\n",
        "        bordercolor='rgba(255, 255, 255, 0)'\n",
        "    ),\n",
        "    barmode='group',\n",
        "    bargap=0.15,\n",
        "    bargroupgap=0.1\n",
        ")\n",
        "fig.show()"
      ],
      "execution_count": null,
      "outputs": [
        {
          "output_type": "display_data",
          "data": {
            "text/html": [
              "<html>\n",
              "<head><meta charset=\"utf-8\" /></head>\n",
              "<body>\n",
              "    <div>\n",
              "            <script src=\"https://cdnjs.cloudflare.com/ajax/libs/mathjax/2.7.5/MathJax.js?config=TeX-AMS-MML_SVG\"></script><script type=\"text/javascript\">if (window.MathJax) {MathJax.Hub.Config({SVG: {font: \"STIX-Web\"}});}</script>\n",
              "                <script type=\"text/javascript\">window.PlotlyConfig = {MathJaxConfig: 'local'};</script>\n",
              "        <script src=\"https://cdn.plot.ly/plotly-latest.min.js\"></script>    \n",
              "            <div id=\"93fa2445-40a3-4b31-ae26-b83068f17592\" class=\"plotly-graph-div\" style=\"height:525px; width:100%;\"></div>\n",
              "            <script type=\"text/javascript\">\n",
              "                \n",
              "                    window.PLOTLYENV=window.PLOTLYENV || {};\n",
              "                    \n",
              "                if (document.getElementById(\"93fa2445-40a3-4b31-ae26-b83068f17592\")) {\n",
              "                    Plotly.newPlot(\n",
              "                        '93fa2445-40a3-4b31-ae26-b83068f17592',\n",
              "                        [{\"marker\": {\"color\": \"rgb(55, 83, 109)\"}, \"name\": \"Antes de Mejorar\", \"type\": \"bar\", \"x\": [\"No Optimo\", \"Optimo\"], \"y\": [5, 48]}, {\"marker\": {\"color\": \"rgb(26, 118, 255)\"}, \"name\": \"Despu\\u00e9s de Mejorar\", \"type\": \"bar\", \"x\": [null, \"No Optimo\", \"Optimo\"], \"y\": [0, 11, 39]}],\n",
              "                        {\"bargap\": 0.15, \"bargroupgap\": 0.1, \"barmode\": \"group\", \"legend\": {\"bgcolor\": \"rgba(255, 255, 255, 0)\", \"bordercolor\": \"rgba(255, 255, 255, 0)\"}, \"template\": {\"data\": {\"bar\": [{\"error_x\": {\"color\": \"#2a3f5f\"}, \"error_y\": {\"color\": \"#2a3f5f\"}, \"marker\": {\"line\": {\"color\": \"#E5ECF6\", \"width\": 0.5}}, \"type\": \"bar\"}], \"barpolar\": [{\"marker\": {\"line\": {\"color\": \"#E5ECF6\", \"width\": 0.5}}, \"type\": \"barpolar\"}], \"carpet\": [{\"aaxis\": {\"endlinecolor\": \"#2a3f5f\", \"gridcolor\": \"white\", \"linecolor\": \"white\", \"minorgridcolor\": \"white\", \"startlinecolor\": \"#2a3f5f\"}, \"baxis\": {\"endlinecolor\": \"#2a3f5f\", \"gridcolor\": \"white\", \"linecolor\": \"white\", \"minorgridcolor\": \"white\", \"startlinecolor\": \"#2a3f5f\"}, \"type\": \"carpet\"}], \"choropleth\": [{\"colorbar\": {\"outlinewidth\": 0, \"ticks\": \"\"}, \"type\": \"choropleth\"}], \"contour\": [{\"colorbar\": {\"outlinewidth\": 0, \"ticks\": \"\"}, \"colorscale\": [[0.0, \"#0d0887\"], [0.1111111111111111, \"#46039f\"], [0.2222222222222222, \"#7201a8\"], [0.3333333333333333, \"#9c179e\"], [0.4444444444444444, \"#bd3786\"], [0.5555555555555556, \"#d8576b\"], [0.6666666666666666, \"#ed7953\"], [0.7777777777777778, \"#fb9f3a\"], [0.8888888888888888, \"#fdca26\"], [1.0, \"#f0f921\"]], \"type\": \"contour\"}], \"contourcarpet\": [{\"colorbar\": {\"outlinewidth\": 0, \"ticks\": \"\"}, \"type\": \"contourcarpet\"}], \"heatmap\": [{\"colorbar\": {\"outlinewidth\": 0, \"ticks\": \"\"}, \"colorscale\": [[0.0, \"#0d0887\"], [0.1111111111111111, \"#46039f\"], [0.2222222222222222, \"#7201a8\"], [0.3333333333333333, \"#9c179e\"], [0.4444444444444444, \"#bd3786\"], [0.5555555555555556, \"#d8576b\"], [0.6666666666666666, \"#ed7953\"], [0.7777777777777778, \"#fb9f3a\"], [0.8888888888888888, \"#fdca26\"], [1.0, \"#f0f921\"]], \"type\": \"heatmap\"}], \"heatmapgl\": [{\"colorbar\": {\"outlinewidth\": 0, \"ticks\": \"\"}, \"colorscale\": [[0.0, \"#0d0887\"], [0.1111111111111111, \"#46039f\"], [0.2222222222222222, \"#7201a8\"], [0.3333333333333333, \"#9c179e\"], [0.4444444444444444, \"#bd3786\"], [0.5555555555555556, \"#d8576b\"], [0.6666666666666666, \"#ed7953\"], [0.7777777777777778, \"#fb9f3a\"], [0.8888888888888888, \"#fdca26\"], [1.0, \"#f0f921\"]], \"type\": \"heatmapgl\"}], \"histogram\": [{\"marker\": {\"colorbar\": {\"outlinewidth\": 0, \"ticks\": \"\"}}, \"type\": \"histogram\"}], \"histogram2d\": [{\"colorbar\": {\"outlinewidth\": 0, \"ticks\": \"\"}, \"colorscale\": [[0.0, \"#0d0887\"], [0.1111111111111111, \"#46039f\"], [0.2222222222222222, \"#7201a8\"], [0.3333333333333333, \"#9c179e\"], [0.4444444444444444, \"#bd3786\"], [0.5555555555555556, \"#d8576b\"], [0.6666666666666666, \"#ed7953\"], [0.7777777777777778, \"#fb9f3a\"], [0.8888888888888888, \"#fdca26\"], [1.0, \"#f0f921\"]], \"type\": \"histogram2d\"}], \"histogram2dcontour\": [{\"colorbar\": {\"outlinewidth\": 0, \"ticks\": \"\"}, \"colorscale\": [[0.0, \"#0d0887\"], [0.1111111111111111, \"#46039f\"], [0.2222222222222222, \"#7201a8\"], [0.3333333333333333, \"#9c179e\"], [0.4444444444444444, \"#bd3786\"], [0.5555555555555556, \"#d8576b\"], [0.6666666666666666, \"#ed7953\"], [0.7777777777777778, \"#fb9f3a\"], [0.8888888888888888, \"#fdca26\"], [1.0, \"#f0f921\"]], \"type\": \"histogram2dcontour\"}], \"mesh3d\": [{\"colorbar\": {\"outlinewidth\": 0, \"ticks\": \"\"}, \"type\": \"mesh3d\"}], \"parcoords\": [{\"line\": {\"colorbar\": {\"outlinewidth\": 0, \"ticks\": \"\"}}, \"type\": \"parcoords\"}], \"pie\": [{\"automargin\": true, \"type\": \"pie\"}], \"scatter\": [{\"marker\": {\"colorbar\": {\"outlinewidth\": 0, \"ticks\": \"\"}}, \"type\": \"scatter\"}], \"scatter3d\": [{\"line\": {\"colorbar\": {\"outlinewidth\": 0, \"ticks\": \"\"}}, \"marker\": {\"colorbar\": {\"outlinewidth\": 0, \"ticks\": \"\"}}, \"type\": \"scatter3d\"}], \"scattercarpet\": [{\"marker\": {\"colorbar\": {\"outlinewidth\": 0, \"ticks\": \"\"}}, \"type\": \"scattercarpet\"}], \"scattergeo\": [{\"marker\": {\"colorbar\": {\"outlinewidth\": 0, \"ticks\": \"\"}}, \"type\": \"scattergeo\"}], \"scattergl\": [{\"marker\": {\"colorbar\": {\"outlinewidth\": 0, \"ticks\": \"\"}}, \"type\": \"scattergl\"}], \"scattermapbox\": [{\"marker\": {\"colorbar\": {\"outlinewidth\": 0, \"ticks\": \"\"}}, \"type\": \"scattermapbox\"}], \"scatterpolar\": [{\"marker\": {\"colorbar\": {\"outlinewidth\": 0, \"ticks\": \"\"}}, \"type\": \"scatterpolar\"}], \"scatterpolargl\": [{\"marker\": {\"colorbar\": {\"outlinewidth\": 0, \"ticks\": \"\"}}, \"type\": \"scatterpolargl\"}], \"scatterternary\": [{\"marker\": {\"colorbar\": {\"outlinewidth\": 0, \"ticks\": \"\"}}, \"type\": \"scatterternary\"}], \"surface\": [{\"colorbar\": {\"outlinewidth\": 0, \"ticks\": \"\"}, \"colorscale\": [[0.0, \"#0d0887\"], [0.1111111111111111, \"#46039f\"], [0.2222222222222222, \"#7201a8\"], [0.3333333333333333, \"#9c179e\"], [0.4444444444444444, \"#bd3786\"], [0.5555555555555556, \"#d8576b\"], [0.6666666666666666, \"#ed7953\"], [0.7777777777777778, \"#fb9f3a\"], [0.8888888888888888, \"#fdca26\"], [1.0, \"#f0f921\"]], \"type\": \"surface\"}], \"table\": [{\"cells\": {\"fill\": {\"color\": \"#EBF0F8\"}, \"line\": {\"color\": \"white\"}}, \"header\": {\"fill\": {\"color\": \"#C8D4E3\"}, \"line\": {\"color\": \"white\"}}, \"type\": \"table\"}]}, \"layout\": {\"annotationdefaults\": {\"arrowcolor\": \"#2a3f5f\", \"arrowhead\": 0, \"arrowwidth\": 1}, \"coloraxis\": {\"colorbar\": {\"outlinewidth\": 0, \"ticks\": \"\"}}, \"colorscale\": {\"diverging\": [[0, \"#8e0152\"], [0.1, \"#c51b7d\"], [0.2, \"#de77ae\"], [0.3, \"#f1b6da\"], [0.4, \"#fde0ef\"], [0.5, \"#f7f7f7\"], [0.6, \"#e6f5d0\"], [0.7, \"#b8e186\"], [0.8, \"#7fbc41\"], [0.9, \"#4d9221\"], [1, \"#276419\"]], \"sequential\": [[0.0, \"#0d0887\"], [0.1111111111111111, \"#46039f\"], [0.2222222222222222, \"#7201a8\"], [0.3333333333333333, \"#9c179e\"], [0.4444444444444444, \"#bd3786\"], [0.5555555555555556, \"#d8576b\"], [0.6666666666666666, \"#ed7953\"], [0.7777777777777778, \"#fb9f3a\"], [0.8888888888888888, \"#fdca26\"], [1.0, \"#f0f921\"]], \"sequentialminus\": [[0.0, \"#0d0887\"], [0.1111111111111111, \"#46039f\"], [0.2222222222222222, \"#7201a8\"], [0.3333333333333333, \"#9c179e\"], [0.4444444444444444, \"#bd3786\"], [0.5555555555555556, \"#d8576b\"], [0.6666666666666666, \"#ed7953\"], [0.7777777777777778, \"#fb9f3a\"], [0.8888888888888888, \"#fdca26\"], [1.0, \"#f0f921\"]]}, \"colorway\": [\"#636efa\", \"#EF553B\", \"#00cc96\", \"#ab63fa\", \"#FFA15A\", \"#19d3f3\", \"#FF6692\", \"#B6E880\", \"#FF97FF\", \"#FECB52\"], \"font\": {\"color\": \"#2a3f5f\"}, \"geo\": {\"bgcolor\": \"white\", \"lakecolor\": \"white\", \"landcolor\": \"#E5ECF6\", \"showlakes\": true, \"showland\": true, \"subunitcolor\": \"white\"}, \"hoverlabel\": {\"align\": \"left\"}, \"hovermode\": \"closest\", \"mapbox\": {\"style\": \"light\"}, \"paper_bgcolor\": \"white\", \"plot_bgcolor\": \"#E5ECF6\", \"polar\": {\"angularaxis\": {\"gridcolor\": \"white\", \"linecolor\": \"white\", \"ticks\": \"\"}, \"bgcolor\": \"#E5ECF6\", \"radialaxis\": {\"gridcolor\": \"white\", \"linecolor\": \"white\", \"ticks\": \"\"}}, \"scene\": {\"xaxis\": {\"backgroundcolor\": \"#E5ECF6\", \"gridcolor\": \"white\", \"gridwidth\": 2, \"linecolor\": \"white\", \"showbackground\": true, \"ticks\": \"\", \"zerolinecolor\": \"white\"}, \"yaxis\": {\"backgroundcolor\": \"#E5ECF6\", \"gridcolor\": \"white\", \"gridwidth\": 2, \"linecolor\": \"white\", \"showbackground\": true, \"ticks\": \"\", \"zerolinecolor\": \"white\"}, \"zaxis\": {\"backgroundcolor\": \"#E5ECF6\", \"gridcolor\": \"white\", \"gridwidth\": 2, \"linecolor\": \"white\", \"showbackground\": true, \"ticks\": \"\", \"zerolinecolor\": \"white\"}}, \"shapedefaults\": {\"line\": {\"color\": \"#2a3f5f\"}}, \"ternary\": {\"aaxis\": {\"gridcolor\": \"white\", \"linecolor\": \"white\", \"ticks\": \"\"}, \"baxis\": {\"gridcolor\": \"white\", \"linecolor\": \"white\", \"ticks\": \"\"}, \"bgcolor\": \"#E5ECF6\", \"caxis\": {\"gridcolor\": \"white\", \"linecolor\": \"white\", \"ticks\": \"\"}}, \"title\": {\"x\": 0.05}, \"xaxis\": {\"automargin\": true, \"gridcolor\": \"white\", \"linecolor\": \"white\", \"ticks\": \"\", \"title\": {\"standoff\": 15}, \"zerolinecolor\": \"white\", \"zerolinewidth\": 2}, \"yaxis\": {\"automargin\": true, \"gridcolor\": \"white\", \"linecolor\": \"white\", \"ticks\": \"\", \"title\": {\"standoff\": 15}, \"zerolinecolor\": \"white\", \"zerolinewidth\": 2}}}, \"title\": {\"text\": \"Noviembre\"}, \"xaxis\": {\"tickfont\": {\"size\": 14}}, \"yaxis\": {\"tickfont\": {\"size\": 14}, \"title\": {\"font\": {\"size\": 16}, \"text\": \"Cantidad\"}}},\n",
              "                        {\"responsive\": true}\n",
              "                    ).then(function(){\n",
              "                            \n",
              "var gd = document.getElementById('93fa2445-40a3-4b31-ae26-b83068f17592');\n",
              "var x = new MutationObserver(function (mutations, observer) {{\n",
              "        var display = window.getComputedStyle(gd).display;\n",
              "        if (!display || display === 'none') {{\n",
              "            console.log([gd, 'removed!']);\n",
              "            Plotly.purge(gd);\n",
              "            observer.disconnect();\n",
              "        }}\n",
              "}});\n",
              "\n",
              "// Listen for the removal of the full notebook cells\n",
              "var notebookContainer = gd.closest('#notebook-container');\n",
              "if (notebookContainer) {{\n",
              "    x.observe(notebookContainer, {childList: true});\n",
              "}}\n",
              "\n",
              "// Listen for the clearing of the current output cell\n",
              "var outputEl = gd.closest('.output');\n",
              "if (outputEl) {{\n",
              "    x.observe(outputEl, {childList: true});\n",
              "}}\n",
              "\n",
              "                        })\n",
              "                };\n",
              "                \n",
              "            </script>\n",
              "        </div>\n",
              "</body>\n",
              "</html>"
            ]
          },
          "metadata": {
            "tags": []
          }
        }
      ]
    },
    {
      "cell_type": "markdown",
      "metadata": {
        "id": "Wbc7VkFW1bAz"
      },
      "source": [
        "# DICIEMBRE\n"
      ]
    },
    {
      "cell_type": "code",
      "metadata": {
        "id": "t8Y4NE7n1bA0",
        "colab": {
          "base_uri": "https://localhost:8080/",
          "height": 459
        },
        "outputId": "1988818d-c6dd-4948-c4e8-12031a26f408"
      },
      "source": [
        "opt_dic = spark.read.load(\"/content/optimos_Diciembre.csv\",'com.databricks.spark.csv',header='true',inferSchema='true')\n",
        "opt_dic.show()"
      ],
      "execution_count": null,
      "outputs": [
        {
          "output_type": "stream",
          "text": [
            "+---+-----------+--------+-------+--------+-----+------------------+---------------+-----------+\n",
            "|_c0|total_bases|estacion|Salidas|Llegadas|Flujo|        Frecuencia|Demanda_Deficit|Rendimiento|\n",
            "+---+-----------+--------+-------+--------+-----+------------------+---------------+-----------+\n",
            "|  0|         27|      43|    828|     802| 1630|1.4250867729216028|            -26|  No Optimo|\n",
            "|  1|         24|     163|    798|     818| 1616|1.4128467638290245|             20|  No Optimo|\n",
            "|  2|         24|     129|    807|     804| 1611|1.4084753320102466|             -3|     Optimo|\n",
            "|  3|         24|     135|    800|     766| 1566|1.3691324456412453|            -34|  No Optimo|\n",
            "|  4|         24|      57|    753|     765| 1518|1.3271667001809773|             12|     Optimo|\n",
            "|  5|         24|     149|    752|     747| 1499| 1.310555259269621|             -5|     Optimo|\n",
            "|  6|         27|      90|    703|     690| 1393| 1.217880904711529|            -13|     Optimo|\n",
            "|  7|         24|     168|    692|     670| 1362| 1.190778027435106|            -22|  No Optimo|\n",
            "|  8|         24|     160|    672|     658| 1330|1.1628008637949274|            -14|  No Optimo|\n",
            "|  9|         24|     162|    650|     671| 1321|1.1549322865211271|             21|  No Optimo|\n",
            "| 10|         24|      46|    640|     641| 1281|1.1199608319709036|              1|     Optimo|\n",
            "| 11|         24|      83|    628|     621| 1249| 1.091983668330725|             -7|     Optimo|\n",
            "| 12|         21|      58|    590|     593| 1183|1.0342807683228565|              3|     Optimo|\n",
            "| 13|         24|      19|    591|     576| 1167|1.0202921865027672|            -15|  No Optimo|\n",
            "| 14|         24|      38|    573|     565| 1138|0.9949378819538551|             -8|     Optimo|\n",
            "| 15|         24|     128|    559|     577| 1136|0.9931893092263441|             18|  No Optimo|\n",
            "| 16|         24|     132|    572|     561| 1133|0.9905664501350773|            -11|     Optimo|\n",
            "| 17|         24|      64|    551|     566| 1117|0.9765778683149879|             15|  No Optimo|\n",
            "| 18|         24|       9|    550|     555| 1105|0.9660864319499208|              5|     Optimo|\n",
            "| 19|         27|       6|    540|     547| 1087|0.9503492774023203|              7|     Optimo|\n",
            "+---+-----------+--------+-------+--------+-----+------------------+---------------+-----------+\n",
            "only showing top 20 rows\n",
            "\n"
          ],
          "name": "stdout"
        }
      ]
    },
    {
      "cell_type": "code",
      "metadata": {
        "id": "HBwfUC9O1bA5",
        "colab": {
          "base_uri": "https://localhost:8080/",
          "height": 459
        },
        "outputId": "63aa3ae8-1fa3-486e-d232-195edc62b932"
      },
      "source": [
        "comp_dic = opt_dic[opt_dic['estacion'].isin(estaciones_n_o)]\n",
        "comp_dic.show()"
      ],
      "execution_count": null,
      "outputs": [
        {
          "output_type": "stream",
          "text": [
            "+---+-----------+--------+-------+--------+-----+-------------------+---------------+-----------+\n",
            "|_c0|total_bases|estacion|Salidas|Llegadas|Flujo|         Frecuencia|Demanda_Deficit|Rendimiento|\n",
            "+---+-----------+--------+-------+--------+-----+-------------------+---------------+-----------+\n",
            "|  0|         27|      43|    828|     802| 1630| 1.4250867729216028|            -26|  No Optimo|\n",
            "|  6|         27|      90|    703|     690| 1393|  1.217880904711529|            -13|     Optimo|\n",
            "| 37|         24|      62|    430|     436|  866| 0.7571319910123362|              6|     Optimo|\n",
            "| 55|         24|      74|    385|     379|  764| 0.6679547819092665|             -6|     Optimo|\n",
            "| 56|         24|     130|    365|     390|  755| 0.6600862046354663|             25|  No Optimo|\n",
            "| 58|         24|      65|    375|     373|  748| 0.6539662000891772|             -2|     Optimo|\n",
            "| 61|         24|     145|    360|     369|  729| 0.6373547591778211|              9|     Optimo|\n",
            "| 62|         21|       8|    361|     366|  727| 0.6356061864503099|              5|     Optimo|\n",
            "| 63|         24|       8|    361|     366|  727| 0.6356061864503099|              5|     Optimo|\n",
            "| 70|         21|      17|    335|     334|  669|  0.584897577352486|             -1|     Optimo|\n",
            "| 74|         24|     115|    336|     320|  656| 0.5735318546236634|            -16|  No Optimo|\n",
            "| 83|         21|      99|    305|     310|  615| 0.5376861137096844|              5|     Optimo|\n",
            "| 86|         24|      69|    300|     300|  600| 0.5245718182533508|              0|     Optimo|\n",
            "| 87|         24|      25|    290|     308|  598| 0.5228232455258396|             18|  No Optimo|\n",
            "| 91|         24|      20|    297|     289|  586| 0.5123318091607725|             -8|     Optimo|\n",
            "| 95|         24|     153|    291|     284|  575| 0.5027146591594611|             -7|     Optimo|\n",
            "| 99|         30|      21|    293|     269|  562| 0.4913489364306385|            -24|  No Optimo|\n",
            "|108|         24|      12|    260|     274|  534|0.46686891824548216|             14|  No Optimo|\n",
            "|110|         24|     142|    260|     264|  524|0.45812605460792627|              4|     Optimo|\n",
            "|118|         24|     159|    240|     243|  483|0.42228031369394736|              3|     Optimo|\n",
            "+---+-----------+--------+-------+--------+-----+-------------------+---------------+-----------+\n",
            "only showing top 20 rows\n",
            "\n"
          ],
          "name": "stdout"
        }
      ]
    },
    {
      "cell_type": "code",
      "metadata": {
        "id": "-gBvdBA01bBA",
        "colab": {
          "base_uri": "https://localhost:8080/",
          "height": 459
        },
        "outputId": "312e4349-89b1-4ca2-c2ad-16c0918c5cff"
      },
      "source": [
        "mejoras_dic = comp_dic.withColumn('Nuevas_Total_Bases',(comp_dic.total_bases + (comp_dic.Demanda_Deficit/abs(comp_dic.Demanda_Deficit))*round(comp_dic.total_bases*0.3)))\n",
        "mejoras_dic = mejoras_dic.withColumn(\"Nuevo_Rendimiento\", ((mejoras_dic.Demanda_Deficit>=(-(mejoras_dic.Nuevas_Total_Bases)/2)) & (mejoras_dic.Demanda_Deficit<=((mejoras_dic.Nuevas_Total_Bases)/2)) & (mejoras_dic.Flujo > mejoras_dic.Nuevas_Total_Bases)))\n",
        "mejoras_dic = mejoras_dic.withColumn(\"Nuevo_Rendimiento\", usoUdf(mejoras_dic.Nuevo_Rendimiento))\n",
        "columnas = [\"total_bases\", \"Frecuencia\", \"Salidas\", \"Llegadas\", \"Rendimiento\"]\n",
        "mejoras_dic = mejoras_dic.drop(*columnas)\n",
        "mejoras_dic.show()"
      ],
      "execution_count": null,
      "outputs": [
        {
          "output_type": "stream",
          "text": [
            "+---+--------+-----+---------------+------------------+-----------------+\n",
            "|_c0|estacion|Flujo|Demanda_Deficit|Nuevas_Total_Bases|Nuevo_Rendimiento|\n",
            "+---+--------+-----+---------------+------------------+-----------------+\n",
            "|  0|      43| 1630|            -26|              19.0|        No Optimo|\n",
            "|  6|      90| 1393|            -13|              19.0|        No Optimo|\n",
            "| 37|      62|  866|              6|              31.0|           Optimo|\n",
            "| 55|      74|  764|             -6|              17.0|           Optimo|\n",
            "| 56|     130|  755|             25|              31.0|        No Optimo|\n",
            "| 58|      65|  748|             -2|              17.0|           Optimo|\n",
            "| 61|     145|  729|              9|              31.0|           Optimo|\n",
            "| 62|       8|  727|              5|              27.0|           Optimo|\n",
            "| 63|       8|  727|              5|              31.0|           Optimo|\n",
            "| 70|      17|  669|             -1|              15.0|           Optimo|\n",
            "| 74|     115|  656|            -16|              17.0|        No Optimo|\n",
            "| 83|      99|  615|              5|              27.0|           Optimo|\n",
            "| 86|      69|  600|              0|              null|             null|\n",
            "| 87|      25|  598|             18|              31.0|        No Optimo|\n",
            "| 91|      20|  586|             -8|              17.0|           Optimo|\n",
            "| 95|     153|  575|             -7|              17.0|           Optimo|\n",
            "| 99|      21|  562|            -24|              21.0|        No Optimo|\n",
            "|108|      12|  534|             14|              31.0|           Optimo|\n",
            "|110|     142|  524|              4|              31.0|           Optimo|\n",
            "|118|     159|  483|              3|              31.0|           Optimo|\n",
            "+---+--------+-----+---------------+------------------+-----------------+\n",
            "only showing top 20 rows\n",
            "\n"
          ],
          "name": "stdout"
        }
      ]
    },
    {
      "cell_type": "code",
      "metadata": {
        "id": "0nW5KyQhPTcl",
        "colab": {
          "base_uri": "https://localhost:8080/",
          "height": 136
        },
        "outputId": "8e324da4-964a-4c2d-fe2a-60e4d96753cb"
      },
      "source": [
        "# Recuento de estaciones optimas y no optimas de las estaciones Diciembre.\n",
        "opt_dic.createOrReplaceTempView(\"filtrado\")\n",
        "booleano_dic_total= spark.sql(\"select Rendimiento, count(Rendimiento) as Cantidad from filtrado group by Rendimiento\")\n",
        "booleano_panda_dic_total = booleano_dic_total.toPandas()\n",
        "booleano_dic_total.show()"
      ],
      "execution_count": null,
      "outputs": [
        {
          "output_type": "stream",
          "text": [
            "+-----------+--------+\n",
            "|Rendimiento|Cantidad|\n",
            "+-----------+--------+\n",
            "|  No Optimo|      43|\n",
            "|     Optimo|     125|\n",
            "+-----------+--------+\n",
            "\n"
          ],
          "name": "stdout"
        }
      ]
    },
    {
      "cell_type": "code",
      "metadata": {
        "id": "_sWII2oN1bBF",
        "colab": {
          "base_uri": "https://localhost:8080/",
          "height": 136
        },
        "outputId": "06068c24-e588-4c3b-aa83-c61f2d5caefe"
      },
      "source": [
        "# Recuento de estaciones optimas y no optimas de las estaciones no optimas de Julio en Diciembre.\n",
        "comp_dic.createOrReplaceTempView(\"filtrado\")\n",
        "booleano_dic= spark.sql(\"select Rendimiento, count(Rendimiento) as Cantidad from filtrado group by Rendimiento\")\n",
        "booleano_panda_dic = booleano_dic.toPandas()\n",
        "booleano_dic.show()"
      ],
      "execution_count": null,
      "outputs": [
        {
          "output_type": "stream",
          "text": [
            "+-----------+--------+\n",
            "|Rendimiento|Cantidad|\n",
            "+-----------+--------+\n",
            "|  No Optimo|      14|\n",
            "|     Optimo|      39|\n",
            "+-----------+--------+\n",
            "\n"
          ],
          "name": "stdout"
        }
      ]
    },
    {
      "cell_type": "code",
      "metadata": {
        "id": "ONluZ1ml1bBN",
        "colab": {
          "base_uri": "https://localhost:8080/",
          "height": 153
        },
        "outputId": "81f0e476-fbd1-43ab-ab11-5810cef0f845"
      },
      "source": [
        "# Hacemos un nuevo recuento para ver como evolucionan las estaciones no óptimas después de aplicar el criterio de mejora\n",
        "mejoras_dic.createOrReplaceTempView(\"filtrado\")\n",
        "booleano_mej_dic = spark.sql(\"select nuevo_Rendimiento, count(nuevo_Rendimiento) as Cantidad from filtrado group by nuevo_Rendimiento\")\n",
        "booleano_panda_mej_dic = booleano_mej_dic.toPandas()\n",
        "booleano_mej_dic.show()"
      ],
      "execution_count": null,
      "outputs": [
        {
          "output_type": "stream",
          "text": [
            "+-----------------+--------+\n",
            "|nuevo_Rendimiento|Cantidad|\n",
            "+-----------------+--------+\n",
            "|             null|       0|\n",
            "|        No Optimo|      15|\n",
            "|           Optimo|      35|\n",
            "+-----------------+--------+\n",
            "\n"
          ],
          "name": "stdout"
        }
      ]
    },
    {
      "cell_type": "code",
      "metadata": {
        "id": "xWEpmqhm1bBW",
        "colab": {
          "base_uri": "https://localhost:8080/",
          "height": 542
        },
        "outputId": "235551a3-0186-4bad-8719-55e6693e888f"
      },
      "source": [
        "fig = go.Figure()\n",
        "fig.add_trace(go.Bar(x=booleano_panda_dic.Rendimiento,\n",
        "                y=booleano_panda_dic.Cantidad,\n",
        "                name='Antes de Mejorar',\n",
        "                marker_color='rgb(55, 83, 109)'\n",
        "                ))\n",
        "fig.add_trace(go.Bar(x=booleano_panda_mej_dic.nuevo_Rendimiento,\n",
        "                y=booleano_panda_mej_dic.Cantidad,\n",
        "                name='Después de Mejorar',\n",
        "                marker_color='rgb(26, 118, 255)'\n",
        "                ))\n",
        "\n",
        "fig.update_layout(\n",
        "    title='Diciembre',\n",
        "    xaxis_tickfont_size=14,\n",
        "    yaxis=dict(\n",
        "        title='Cantidad',\n",
        "        titlefont_size=16,\n",
        "        tickfont_size=14,\n",
        "    ),\n",
        "    legend=dict(\n",
        "        bgcolor='rgba(255, 255, 255, 0)',\n",
        "        bordercolor='rgba(255, 255, 255, 0)'\n",
        "    ),\n",
        "    barmode='group',\n",
        "    bargap=0.15,\n",
        "    bargroupgap=0.1\n",
        ")\n",
        "fig.show()"
      ],
      "execution_count": null,
      "outputs": [
        {
          "output_type": "display_data",
          "data": {
            "text/html": [
              "<html>\n",
              "<head><meta charset=\"utf-8\" /></head>\n",
              "<body>\n",
              "    <div>\n",
              "            <script src=\"https://cdnjs.cloudflare.com/ajax/libs/mathjax/2.7.5/MathJax.js?config=TeX-AMS-MML_SVG\"></script><script type=\"text/javascript\">if (window.MathJax) {MathJax.Hub.Config({SVG: {font: \"STIX-Web\"}});}</script>\n",
              "                <script type=\"text/javascript\">window.PlotlyConfig = {MathJaxConfig: 'local'};</script>\n",
              "        <script src=\"https://cdn.plot.ly/plotly-latest.min.js\"></script>    \n",
              "            <div id=\"157c80ec-74d9-4ee1-9dc0-6035ea639143\" class=\"plotly-graph-div\" style=\"height:525px; width:100%;\"></div>\n",
              "            <script type=\"text/javascript\">\n",
              "                \n",
              "                    window.PLOTLYENV=window.PLOTLYENV || {};\n",
              "                    \n",
              "                if (document.getElementById(\"157c80ec-74d9-4ee1-9dc0-6035ea639143\")) {\n",
              "                    Plotly.newPlot(\n",
              "                        '157c80ec-74d9-4ee1-9dc0-6035ea639143',\n",
              "                        [{\"marker\": {\"color\": \"rgb(55, 83, 109)\"}, \"name\": \"Antes de Mejorar\", \"type\": \"bar\", \"x\": [\"No Optimo\", \"Optimo\"], \"y\": [14, 39]}, {\"marker\": {\"color\": \"rgb(26, 118, 255)\"}, \"name\": \"Despu\\u00e9s de Mejorar\", \"type\": \"bar\", \"x\": [null, \"No Optimo\", \"Optimo\"], \"y\": [0, 15, 35]}],\n",
              "                        {\"bargap\": 0.15, \"bargroupgap\": 0.1, \"barmode\": \"group\", \"legend\": {\"bgcolor\": \"rgba(255, 255, 255, 0)\", \"bordercolor\": \"rgba(255, 255, 255, 0)\"}, \"template\": {\"data\": {\"bar\": [{\"error_x\": {\"color\": \"#2a3f5f\"}, \"error_y\": {\"color\": \"#2a3f5f\"}, \"marker\": {\"line\": {\"color\": \"#E5ECF6\", \"width\": 0.5}}, \"type\": \"bar\"}], \"barpolar\": [{\"marker\": {\"line\": {\"color\": \"#E5ECF6\", \"width\": 0.5}}, \"type\": \"barpolar\"}], \"carpet\": [{\"aaxis\": {\"endlinecolor\": \"#2a3f5f\", \"gridcolor\": \"white\", \"linecolor\": \"white\", \"minorgridcolor\": \"white\", \"startlinecolor\": \"#2a3f5f\"}, \"baxis\": {\"endlinecolor\": \"#2a3f5f\", \"gridcolor\": \"white\", \"linecolor\": \"white\", \"minorgridcolor\": \"white\", \"startlinecolor\": \"#2a3f5f\"}, \"type\": \"carpet\"}], \"choropleth\": [{\"colorbar\": {\"outlinewidth\": 0, \"ticks\": \"\"}, \"type\": \"choropleth\"}], \"contour\": [{\"colorbar\": {\"outlinewidth\": 0, \"ticks\": \"\"}, \"colorscale\": [[0.0, \"#0d0887\"], [0.1111111111111111, \"#46039f\"], [0.2222222222222222, \"#7201a8\"], [0.3333333333333333, \"#9c179e\"], [0.4444444444444444, \"#bd3786\"], [0.5555555555555556, \"#d8576b\"], [0.6666666666666666, \"#ed7953\"], [0.7777777777777778, \"#fb9f3a\"], [0.8888888888888888, \"#fdca26\"], [1.0, \"#f0f921\"]], \"type\": \"contour\"}], \"contourcarpet\": [{\"colorbar\": {\"outlinewidth\": 0, \"ticks\": \"\"}, \"type\": \"contourcarpet\"}], \"heatmap\": [{\"colorbar\": {\"outlinewidth\": 0, \"ticks\": \"\"}, \"colorscale\": [[0.0, \"#0d0887\"], [0.1111111111111111, \"#46039f\"], [0.2222222222222222, \"#7201a8\"], [0.3333333333333333, \"#9c179e\"], [0.4444444444444444, \"#bd3786\"], [0.5555555555555556, \"#d8576b\"], [0.6666666666666666, \"#ed7953\"], [0.7777777777777778, \"#fb9f3a\"], [0.8888888888888888, \"#fdca26\"], [1.0, \"#f0f921\"]], \"type\": \"heatmap\"}], \"heatmapgl\": [{\"colorbar\": {\"outlinewidth\": 0, \"ticks\": \"\"}, \"colorscale\": [[0.0, \"#0d0887\"], [0.1111111111111111, \"#46039f\"], [0.2222222222222222, \"#7201a8\"], [0.3333333333333333, \"#9c179e\"], [0.4444444444444444, \"#bd3786\"], [0.5555555555555556, \"#d8576b\"], [0.6666666666666666, \"#ed7953\"], [0.7777777777777778, \"#fb9f3a\"], [0.8888888888888888, \"#fdca26\"], [1.0, \"#f0f921\"]], \"type\": \"heatmapgl\"}], \"histogram\": [{\"marker\": {\"colorbar\": {\"outlinewidth\": 0, \"ticks\": \"\"}}, \"type\": \"histogram\"}], \"histogram2d\": [{\"colorbar\": {\"outlinewidth\": 0, \"ticks\": \"\"}, \"colorscale\": [[0.0, \"#0d0887\"], [0.1111111111111111, \"#46039f\"], [0.2222222222222222, \"#7201a8\"], [0.3333333333333333, \"#9c179e\"], [0.4444444444444444, \"#bd3786\"], [0.5555555555555556, \"#d8576b\"], [0.6666666666666666, \"#ed7953\"], [0.7777777777777778, \"#fb9f3a\"], [0.8888888888888888, \"#fdca26\"], [1.0, \"#f0f921\"]], \"type\": \"histogram2d\"}], \"histogram2dcontour\": [{\"colorbar\": {\"outlinewidth\": 0, \"ticks\": \"\"}, \"colorscale\": [[0.0, \"#0d0887\"], [0.1111111111111111, \"#46039f\"], [0.2222222222222222, \"#7201a8\"], [0.3333333333333333, \"#9c179e\"], [0.4444444444444444, \"#bd3786\"], [0.5555555555555556, \"#d8576b\"], [0.6666666666666666, \"#ed7953\"], [0.7777777777777778, \"#fb9f3a\"], [0.8888888888888888, \"#fdca26\"], [1.0, \"#f0f921\"]], \"type\": \"histogram2dcontour\"}], \"mesh3d\": [{\"colorbar\": {\"outlinewidth\": 0, \"ticks\": \"\"}, \"type\": \"mesh3d\"}], \"parcoords\": [{\"line\": {\"colorbar\": {\"outlinewidth\": 0, \"ticks\": \"\"}}, \"type\": \"parcoords\"}], \"pie\": [{\"automargin\": true, \"type\": \"pie\"}], \"scatter\": [{\"marker\": {\"colorbar\": {\"outlinewidth\": 0, \"ticks\": \"\"}}, \"type\": \"scatter\"}], \"scatter3d\": [{\"line\": {\"colorbar\": {\"outlinewidth\": 0, \"ticks\": \"\"}}, \"marker\": {\"colorbar\": {\"outlinewidth\": 0, \"ticks\": \"\"}}, \"type\": \"scatter3d\"}], \"scattercarpet\": [{\"marker\": {\"colorbar\": {\"outlinewidth\": 0, \"ticks\": \"\"}}, \"type\": \"scattercarpet\"}], \"scattergeo\": [{\"marker\": {\"colorbar\": {\"outlinewidth\": 0, \"ticks\": \"\"}}, \"type\": \"scattergeo\"}], \"scattergl\": [{\"marker\": {\"colorbar\": {\"outlinewidth\": 0, \"ticks\": \"\"}}, \"type\": \"scattergl\"}], \"scattermapbox\": [{\"marker\": {\"colorbar\": {\"outlinewidth\": 0, \"ticks\": \"\"}}, \"type\": \"scattermapbox\"}], \"scatterpolar\": [{\"marker\": {\"colorbar\": {\"outlinewidth\": 0, \"ticks\": \"\"}}, \"type\": \"scatterpolar\"}], \"scatterpolargl\": [{\"marker\": {\"colorbar\": {\"outlinewidth\": 0, \"ticks\": \"\"}}, \"type\": \"scatterpolargl\"}], \"scatterternary\": [{\"marker\": {\"colorbar\": {\"outlinewidth\": 0, \"ticks\": \"\"}}, \"type\": \"scatterternary\"}], \"surface\": [{\"colorbar\": {\"outlinewidth\": 0, \"ticks\": \"\"}, \"colorscale\": [[0.0, \"#0d0887\"], [0.1111111111111111, \"#46039f\"], [0.2222222222222222, \"#7201a8\"], [0.3333333333333333, \"#9c179e\"], [0.4444444444444444, \"#bd3786\"], [0.5555555555555556, \"#d8576b\"], [0.6666666666666666, \"#ed7953\"], [0.7777777777777778, \"#fb9f3a\"], [0.8888888888888888, \"#fdca26\"], [1.0, \"#f0f921\"]], \"type\": \"surface\"}], \"table\": [{\"cells\": {\"fill\": {\"color\": \"#EBF0F8\"}, \"line\": {\"color\": \"white\"}}, \"header\": {\"fill\": {\"color\": \"#C8D4E3\"}, \"line\": {\"color\": \"white\"}}, \"type\": \"table\"}]}, \"layout\": {\"annotationdefaults\": {\"arrowcolor\": \"#2a3f5f\", \"arrowhead\": 0, \"arrowwidth\": 1}, \"coloraxis\": {\"colorbar\": {\"outlinewidth\": 0, \"ticks\": \"\"}}, \"colorscale\": {\"diverging\": [[0, \"#8e0152\"], [0.1, \"#c51b7d\"], [0.2, \"#de77ae\"], [0.3, \"#f1b6da\"], [0.4, \"#fde0ef\"], [0.5, \"#f7f7f7\"], [0.6, \"#e6f5d0\"], [0.7, \"#b8e186\"], [0.8, \"#7fbc41\"], [0.9, \"#4d9221\"], [1, \"#276419\"]], \"sequential\": [[0.0, \"#0d0887\"], [0.1111111111111111, \"#46039f\"], [0.2222222222222222, \"#7201a8\"], [0.3333333333333333, \"#9c179e\"], [0.4444444444444444, \"#bd3786\"], [0.5555555555555556, \"#d8576b\"], [0.6666666666666666, \"#ed7953\"], [0.7777777777777778, \"#fb9f3a\"], [0.8888888888888888, \"#fdca26\"], [1.0, \"#f0f921\"]], \"sequentialminus\": [[0.0, \"#0d0887\"], [0.1111111111111111, \"#46039f\"], [0.2222222222222222, \"#7201a8\"], [0.3333333333333333, \"#9c179e\"], [0.4444444444444444, \"#bd3786\"], [0.5555555555555556, \"#d8576b\"], [0.6666666666666666, \"#ed7953\"], [0.7777777777777778, \"#fb9f3a\"], [0.8888888888888888, \"#fdca26\"], [1.0, \"#f0f921\"]]}, \"colorway\": [\"#636efa\", \"#EF553B\", \"#00cc96\", \"#ab63fa\", \"#FFA15A\", \"#19d3f3\", \"#FF6692\", \"#B6E880\", \"#FF97FF\", \"#FECB52\"], \"font\": {\"color\": \"#2a3f5f\"}, \"geo\": {\"bgcolor\": \"white\", \"lakecolor\": \"white\", \"landcolor\": \"#E5ECF6\", \"showlakes\": true, \"showland\": true, \"subunitcolor\": \"white\"}, \"hoverlabel\": {\"align\": \"left\"}, \"hovermode\": \"closest\", \"mapbox\": {\"style\": \"light\"}, \"paper_bgcolor\": \"white\", \"plot_bgcolor\": \"#E5ECF6\", \"polar\": {\"angularaxis\": {\"gridcolor\": \"white\", \"linecolor\": \"white\", \"ticks\": \"\"}, \"bgcolor\": \"#E5ECF6\", \"radialaxis\": {\"gridcolor\": \"white\", \"linecolor\": \"white\", \"ticks\": \"\"}}, \"scene\": {\"xaxis\": {\"backgroundcolor\": \"#E5ECF6\", \"gridcolor\": \"white\", \"gridwidth\": 2, \"linecolor\": \"white\", \"showbackground\": true, \"ticks\": \"\", \"zerolinecolor\": \"white\"}, \"yaxis\": {\"backgroundcolor\": \"#E5ECF6\", \"gridcolor\": \"white\", \"gridwidth\": 2, \"linecolor\": \"white\", \"showbackground\": true, \"ticks\": \"\", \"zerolinecolor\": \"white\"}, \"zaxis\": {\"backgroundcolor\": \"#E5ECF6\", \"gridcolor\": \"white\", \"gridwidth\": 2, \"linecolor\": \"white\", \"showbackground\": true, \"ticks\": \"\", \"zerolinecolor\": \"white\"}}, \"shapedefaults\": {\"line\": {\"color\": \"#2a3f5f\"}}, \"ternary\": {\"aaxis\": {\"gridcolor\": \"white\", \"linecolor\": \"white\", \"ticks\": \"\"}, \"baxis\": {\"gridcolor\": \"white\", \"linecolor\": \"white\", \"ticks\": \"\"}, \"bgcolor\": \"#E5ECF6\", \"caxis\": {\"gridcolor\": \"white\", \"linecolor\": \"white\", \"ticks\": \"\"}}, \"title\": {\"x\": 0.05}, \"xaxis\": {\"automargin\": true, \"gridcolor\": \"white\", \"linecolor\": \"white\", \"ticks\": \"\", \"title\": {\"standoff\": 15}, \"zerolinecolor\": \"white\", \"zerolinewidth\": 2}, \"yaxis\": {\"automargin\": true, \"gridcolor\": \"white\", \"linecolor\": \"white\", \"ticks\": \"\", \"title\": {\"standoff\": 15}, \"zerolinecolor\": \"white\", \"zerolinewidth\": 2}}}, \"title\": {\"text\": \"Diciembre\"}, \"xaxis\": {\"tickfont\": {\"size\": 14}}, \"yaxis\": {\"tickfont\": {\"size\": 14}, \"title\": {\"font\": {\"size\": 16}, \"text\": \"Cantidad\"}}},\n",
              "                        {\"responsive\": true}\n",
              "                    ).then(function(){\n",
              "                            \n",
              "var gd = document.getElementById('157c80ec-74d9-4ee1-9dc0-6035ea639143');\n",
              "var x = new MutationObserver(function (mutations, observer) {{\n",
              "        var display = window.getComputedStyle(gd).display;\n",
              "        if (!display || display === 'none') {{\n",
              "            console.log([gd, 'removed!']);\n",
              "            Plotly.purge(gd);\n",
              "            observer.disconnect();\n",
              "        }}\n",
              "}});\n",
              "\n",
              "// Listen for the removal of the full notebook cells\n",
              "var notebookContainer = gd.closest('#notebook-container');\n",
              "if (notebookContainer) {{\n",
              "    x.observe(notebookContainer, {childList: true});\n",
              "}}\n",
              "\n",
              "// Listen for the clearing of the current output cell\n",
              "var outputEl = gd.closest('.output');\n",
              "if (outputEl) {{\n",
              "    x.observe(outputEl, {childList: true});\n",
              "}}\n",
              "\n",
              "                        })\n",
              "                };\n",
              "                \n",
              "            </script>\n",
              "        </div>\n",
              "</body>\n",
              "</html>"
            ]
          },
          "metadata": {
            "tags": []
          }
        }
      ]
    },
    {
      "cell_type": "markdown",
      "metadata": {
        "id": "lg10TcMQECZH"
      },
      "source": [
        "# COMPARACIÓN DE LOS DATOS"
      ]
    },
    {
      "cell_type": "code",
      "metadata": {
        "id": "agkZ4HYk4NXi",
        "colab": {
          "base_uri": "https://localhost:8080/",
          "height": 542
        },
        "outputId": "1deca5db-58a2-457c-d7d7-5f77be0db1b2"
      },
      "source": [
        "# Hacemos un histograma con las estaciones no óptimas de Julio en los demás meses\n",
        "fig = go.Figure()\n",
        "fig.add_trace(go.Bar(x=booleano_panda_ago.Rendimiento,\n",
        "                y=booleano_panda_ago.Cantidad,\n",
        "                name='AGOSTO',\n",
        "                marker_color='rgb(39,64,139)'\n",
        "                ))\n",
        "fig.add_trace(go.Bar(x=booleano_panda_sep.Rendimiento,\n",
        "                y=booleano_panda_sep.Cantidad,\n",
        "                name='SEPTIEMBRE',\n",
        "                marker_color='rgb(26, 118, 255)'\n",
        "                ))\n",
        "fig.add_trace(go.Bar(x=booleano_panda_oct.Rendimiento,\n",
        "                y=booleano_panda_oct.Cantidad,\n",
        "                name='OCTUBRE',\n",
        "                marker_color='rgb(108,166,205)'\n",
        "                ))\n",
        "fig.add_trace(go.Bar(x=booleano_panda_nov.Rendimiento,\n",
        "                y=booleano_panda_nov.Cantidad,\n",
        "                name='NOVIEMBRE',\n",
        "                marker_color='rgb(99,184,255)'\n",
        "                ))\n",
        "fig.add_trace(go.Bar(x=booleano_panda_dic.Rendimiento,\n",
        "                y=booleano_panda_dic.Cantidad,\n",
        "                name='DICIEMBRE',\n",
        "                marker_color='rgb(135,206,255)'\n",
        "                ))\n",
        "fig.update_layout(\n",
        "    title='Comparación por Meses',\n",
        "    xaxis_tickfont_size=14,\n",
        "    yaxis=dict(\n",
        "        title='Cantidad',\n",
        "        titlefont_size=16,\n",
        "        tickfont_size=14,\n",
        "    ),\n",
        "    legend=dict(\n",
        "        bgcolor='rgba(255, 255, 255, 0)',\n",
        "        bordercolor='rgba(255, 255, 255, 0)'\n",
        "    ),\n",
        "    barmode='group',\n",
        "    bargap=0.15,\n",
        "    bargroupgap=0.1\n",
        ")\n",
        "fig.show()"
      ],
      "execution_count": null,
      "outputs": [
        {
          "output_type": "display_data",
          "data": {
            "text/html": [
              "<html>\n",
              "<head><meta charset=\"utf-8\" /></head>\n",
              "<body>\n",
              "    <div>\n",
              "            <script src=\"https://cdnjs.cloudflare.com/ajax/libs/mathjax/2.7.5/MathJax.js?config=TeX-AMS-MML_SVG\"></script><script type=\"text/javascript\">if (window.MathJax) {MathJax.Hub.Config({SVG: {font: \"STIX-Web\"}});}</script>\n",
              "                <script type=\"text/javascript\">window.PlotlyConfig = {MathJaxConfig: 'local'};</script>\n",
              "        <script src=\"https://cdn.plot.ly/plotly-latest.min.js\"></script>    \n",
              "            <div id=\"57e0e8d8-50d8-46d9-8682-a318062fb61b\" class=\"plotly-graph-div\" style=\"height:525px; width:100%;\"></div>\n",
              "            <script type=\"text/javascript\">\n",
              "                \n",
              "                    window.PLOTLYENV=window.PLOTLYENV || {};\n",
              "                    \n",
              "                if (document.getElementById(\"57e0e8d8-50d8-46d9-8682-a318062fb61b\")) {\n",
              "                    Plotly.newPlot(\n",
              "                        '57e0e8d8-50d8-46d9-8682-a318062fb61b',\n",
              "                        [{\"marker\": {\"color\": \"rgb(39,64,139)\"}, \"name\": \"AGOSTO\", \"type\": \"bar\", \"x\": [\"No Optimo\", \"Optimo\"], \"y\": [4, 49]}, {\"marker\": {\"color\": \"rgb(26, 118, 255)\"}, \"name\": \"SEPTIEMBRE\", \"type\": \"bar\", \"x\": [\"No Optimo\", \"Optimo\"], \"y\": [9, 44]}, {\"marker\": {\"color\": \"rgb(108,166,205)\"}, \"name\": \"OCTUBRE\", \"type\": \"bar\", \"x\": [\"No Optimo\", \"Optimo\"], \"y\": [5, 48]}, {\"marker\": {\"color\": \"rgb(99,184,255)\"}, \"name\": \"NOVIEMBRE\", \"type\": \"bar\", \"x\": [\"No Optimo\", \"Optimo\"], \"y\": [5, 48]}, {\"marker\": {\"color\": \"rgb(135,206,255)\"}, \"name\": \"DICIEMBRE\", \"type\": \"bar\", \"x\": [\"No Optimo\", \"Optimo\"], \"y\": [14, 39]}],\n",
              "                        {\"bargap\": 0.15, \"bargroupgap\": 0.1, \"barmode\": \"group\", \"legend\": {\"bgcolor\": \"rgba(255, 255, 255, 0)\", \"bordercolor\": \"rgba(255, 255, 255, 0)\"}, \"template\": {\"data\": {\"bar\": [{\"error_x\": {\"color\": \"#2a3f5f\"}, \"error_y\": {\"color\": \"#2a3f5f\"}, \"marker\": {\"line\": {\"color\": \"#E5ECF6\", \"width\": 0.5}}, \"type\": \"bar\"}], \"barpolar\": [{\"marker\": {\"line\": {\"color\": \"#E5ECF6\", \"width\": 0.5}}, \"type\": \"barpolar\"}], \"carpet\": [{\"aaxis\": {\"endlinecolor\": \"#2a3f5f\", \"gridcolor\": \"white\", \"linecolor\": \"white\", \"minorgridcolor\": \"white\", \"startlinecolor\": \"#2a3f5f\"}, \"baxis\": {\"endlinecolor\": \"#2a3f5f\", \"gridcolor\": \"white\", \"linecolor\": \"white\", \"minorgridcolor\": \"white\", \"startlinecolor\": \"#2a3f5f\"}, \"type\": \"carpet\"}], \"choropleth\": [{\"colorbar\": {\"outlinewidth\": 0, \"ticks\": \"\"}, \"type\": \"choropleth\"}], \"contour\": [{\"colorbar\": {\"outlinewidth\": 0, \"ticks\": \"\"}, \"colorscale\": [[0.0, \"#0d0887\"], [0.1111111111111111, \"#46039f\"], [0.2222222222222222, \"#7201a8\"], [0.3333333333333333, \"#9c179e\"], [0.4444444444444444, \"#bd3786\"], [0.5555555555555556, \"#d8576b\"], [0.6666666666666666, \"#ed7953\"], [0.7777777777777778, \"#fb9f3a\"], [0.8888888888888888, \"#fdca26\"], [1.0, \"#f0f921\"]], \"type\": \"contour\"}], \"contourcarpet\": [{\"colorbar\": {\"outlinewidth\": 0, \"ticks\": \"\"}, \"type\": \"contourcarpet\"}], \"heatmap\": [{\"colorbar\": {\"outlinewidth\": 0, \"ticks\": \"\"}, \"colorscale\": [[0.0, \"#0d0887\"], [0.1111111111111111, \"#46039f\"], [0.2222222222222222, \"#7201a8\"], [0.3333333333333333, \"#9c179e\"], [0.4444444444444444, \"#bd3786\"], [0.5555555555555556, \"#d8576b\"], [0.6666666666666666, \"#ed7953\"], [0.7777777777777778, \"#fb9f3a\"], [0.8888888888888888, \"#fdca26\"], [1.0, \"#f0f921\"]], \"type\": \"heatmap\"}], \"heatmapgl\": [{\"colorbar\": {\"outlinewidth\": 0, \"ticks\": \"\"}, \"colorscale\": [[0.0, \"#0d0887\"], [0.1111111111111111, \"#46039f\"], [0.2222222222222222, \"#7201a8\"], [0.3333333333333333, \"#9c179e\"], [0.4444444444444444, \"#bd3786\"], [0.5555555555555556, \"#d8576b\"], [0.6666666666666666, \"#ed7953\"], [0.7777777777777778, \"#fb9f3a\"], [0.8888888888888888, \"#fdca26\"], [1.0, \"#f0f921\"]], \"type\": \"heatmapgl\"}], \"histogram\": [{\"marker\": {\"colorbar\": {\"outlinewidth\": 0, \"ticks\": \"\"}}, \"type\": \"histogram\"}], \"histogram2d\": [{\"colorbar\": {\"outlinewidth\": 0, \"ticks\": \"\"}, \"colorscale\": [[0.0, \"#0d0887\"], [0.1111111111111111, \"#46039f\"], [0.2222222222222222, \"#7201a8\"], [0.3333333333333333, \"#9c179e\"], [0.4444444444444444, \"#bd3786\"], [0.5555555555555556, \"#d8576b\"], [0.6666666666666666, \"#ed7953\"], [0.7777777777777778, \"#fb9f3a\"], [0.8888888888888888, \"#fdca26\"], [1.0, \"#f0f921\"]], \"type\": \"histogram2d\"}], \"histogram2dcontour\": [{\"colorbar\": {\"outlinewidth\": 0, \"ticks\": \"\"}, \"colorscale\": [[0.0, \"#0d0887\"], [0.1111111111111111, \"#46039f\"], [0.2222222222222222, \"#7201a8\"], [0.3333333333333333, \"#9c179e\"], [0.4444444444444444, \"#bd3786\"], [0.5555555555555556, \"#d8576b\"], [0.6666666666666666, \"#ed7953\"], [0.7777777777777778, \"#fb9f3a\"], [0.8888888888888888, \"#fdca26\"], [1.0, \"#f0f921\"]], \"type\": \"histogram2dcontour\"}], \"mesh3d\": [{\"colorbar\": {\"outlinewidth\": 0, \"ticks\": \"\"}, \"type\": \"mesh3d\"}], \"parcoords\": [{\"line\": {\"colorbar\": {\"outlinewidth\": 0, \"ticks\": \"\"}}, \"type\": \"parcoords\"}], \"pie\": [{\"automargin\": true, \"type\": \"pie\"}], \"scatter\": [{\"marker\": {\"colorbar\": {\"outlinewidth\": 0, \"ticks\": \"\"}}, \"type\": \"scatter\"}], \"scatter3d\": [{\"line\": {\"colorbar\": {\"outlinewidth\": 0, \"ticks\": \"\"}}, \"marker\": {\"colorbar\": {\"outlinewidth\": 0, \"ticks\": \"\"}}, \"type\": \"scatter3d\"}], \"scattercarpet\": [{\"marker\": {\"colorbar\": {\"outlinewidth\": 0, \"ticks\": \"\"}}, \"type\": \"scattercarpet\"}], \"scattergeo\": [{\"marker\": {\"colorbar\": {\"outlinewidth\": 0, \"ticks\": \"\"}}, \"type\": \"scattergeo\"}], \"scattergl\": [{\"marker\": {\"colorbar\": {\"outlinewidth\": 0, \"ticks\": \"\"}}, \"type\": \"scattergl\"}], \"scattermapbox\": [{\"marker\": {\"colorbar\": {\"outlinewidth\": 0, \"ticks\": \"\"}}, \"type\": \"scattermapbox\"}], \"scatterpolar\": [{\"marker\": {\"colorbar\": {\"outlinewidth\": 0, \"ticks\": \"\"}}, \"type\": \"scatterpolar\"}], \"scatterpolargl\": [{\"marker\": {\"colorbar\": {\"outlinewidth\": 0, \"ticks\": \"\"}}, \"type\": \"scatterpolargl\"}], \"scatterternary\": [{\"marker\": {\"colorbar\": {\"outlinewidth\": 0, \"ticks\": \"\"}}, \"type\": \"scatterternary\"}], \"surface\": [{\"colorbar\": {\"outlinewidth\": 0, \"ticks\": \"\"}, \"colorscale\": [[0.0, \"#0d0887\"], [0.1111111111111111, \"#46039f\"], [0.2222222222222222, \"#7201a8\"], [0.3333333333333333, \"#9c179e\"], [0.4444444444444444, \"#bd3786\"], [0.5555555555555556, \"#d8576b\"], [0.6666666666666666, \"#ed7953\"], [0.7777777777777778, \"#fb9f3a\"], [0.8888888888888888, \"#fdca26\"], [1.0, \"#f0f921\"]], \"type\": \"surface\"}], \"table\": [{\"cells\": {\"fill\": {\"color\": \"#EBF0F8\"}, \"line\": {\"color\": \"white\"}}, \"header\": {\"fill\": {\"color\": \"#C8D4E3\"}, \"line\": {\"color\": \"white\"}}, \"type\": \"table\"}]}, \"layout\": {\"annotationdefaults\": {\"arrowcolor\": \"#2a3f5f\", \"arrowhead\": 0, \"arrowwidth\": 1}, \"coloraxis\": {\"colorbar\": {\"outlinewidth\": 0, \"ticks\": \"\"}}, \"colorscale\": {\"diverging\": [[0, \"#8e0152\"], [0.1, \"#c51b7d\"], [0.2, \"#de77ae\"], [0.3, \"#f1b6da\"], [0.4, \"#fde0ef\"], [0.5, \"#f7f7f7\"], [0.6, \"#e6f5d0\"], [0.7, \"#b8e186\"], [0.8, \"#7fbc41\"], [0.9, \"#4d9221\"], [1, \"#276419\"]], \"sequential\": [[0.0, \"#0d0887\"], [0.1111111111111111, \"#46039f\"], [0.2222222222222222, \"#7201a8\"], [0.3333333333333333, \"#9c179e\"], [0.4444444444444444, \"#bd3786\"], [0.5555555555555556, \"#d8576b\"], [0.6666666666666666, \"#ed7953\"], [0.7777777777777778, \"#fb9f3a\"], [0.8888888888888888, \"#fdca26\"], [1.0, \"#f0f921\"]], \"sequentialminus\": [[0.0, \"#0d0887\"], [0.1111111111111111, \"#46039f\"], [0.2222222222222222, \"#7201a8\"], [0.3333333333333333, \"#9c179e\"], [0.4444444444444444, \"#bd3786\"], [0.5555555555555556, \"#d8576b\"], [0.6666666666666666, \"#ed7953\"], [0.7777777777777778, \"#fb9f3a\"], [0.8888888888888888, \"#fdca26\"], [1.0, \"#f0f921\"]]}, \"colorway\": [\"#636efa\", \"#EF553B\", \"#00cc96\", \"#ab63fa\", \"#FFA15A\", \"#19d3f3\", \"#FF6692\", \"#B6E880\", \"#FF97FF\", \"#FECB52\"], \"font\": {\"color\": \"#2a3f5f\"}, \"geo\": {\"bgcolor\": \"white\", \"lakecolor\": \"white\", \"landcolor\": \"#E5ECF6\", \"showlakes\": true, \"showland\": true, \"subunitcolor\": \"white\"}, \"hoverlabel\": {\"align\": \"left\"}, \"hovermode\": \"closest\", \"mapbox\": {\"style\": \"light\"}, \"paper_bgcolor\": \"white\", \"plot_bgcolor\": \"#E5ECF6\", \"polar\": {\"angularaxis\": {\"gridcolor\": \"white\", \"linecolor\": \"white\", \"ticks\": \"\"}, \"bgcolor\": \"#E5ECF6\", \"radialaxis\": {\"gridcolor\": \"white\", \"linecolor\": \"white\", \"ticks\": \"\"}}, \"scene\": {\"xaxis\": {\"backgroundcolor\": \"#E5ECF6\", \"gridcolor\": \"white\", \"gridwidth\": 2, \"linecolor\": \"white\", \"showbackground\": true, \"ticks\": \"\", \"zerolinecolor\": \"white\"}, \"yaxis\": {\"backgroundcolor\": \"#E5ECF6\", \"gridcolor\": \"white\", \"gridwidth\": 2, \"linecolor\": \"white\", \"showbackground\": true, \"ticks\": \"\", \"zerolinecolor\": \"white\"}, \"zaxis\": {\"backgroundcolor\": \"#E5ECF6\", \"gridcolor\": \"white\", \"gridwidth\": 2, \"linecolor\": \"white\", \"showbackground\": true, \"ticks\": \"\", \"zerolinecolor\": \"white\"}}, \"shapedefaults\": {\"line\": {\"color\": \"#2a3f5f\"}}, \"ternary\": {\"aaxis\": {\"gridcolor\": \"white\", \"linecolor\": \"white\", \"ticks\": \"\"}, \"baxis\": {\"gridcolor\": \"white\", \"linecolor\": \"white\", \"ticks\": \"\"}, \"bgcolor\": \"#E5ECF6\", \"caxis\": {\"gridcolor\": \"white\", \"linecolor\": \"white\", \"ticks\": \"\"}}, \"title\": {\"x\": 0.05}, \"xaxis\": {\"automargin\": true, \"gridcolor\": \"white\", \"linecolor\": \"white\", \"ticks\": \"\", \"title\": {\"standoff\": 15}, \"zerolinecolor\": \"white\", \"zerolinewidth\": 2}, \"yaxis\": {\"automargin\": true, \"gridcolor\": \"white\", \"linecolor\": \"white\", \"ticks\": \"\", \"title\": {\"standoff\": 15}, \"zerolinecolor\": \"white\", \"zerolinewidth\": 2}}}, \"title\": {\"text\": \"Comparaci\\u00f3n por Meses\"}, \"xaxis\": {\"tickfont\": {\"size\": 14}}, \"yaxis\": {\"tickfont\": {\"size\": 14}, \"title\": {\"font\": {\"size\": 16}, \"text\": \"Cantidad\"}}},\n",
              "                        {\"responsive\": true}\n",
              "                    ).then(function(){\n",
              "                            \n",
              "var gd = document.getElementById('57e0e8d8-50d8-46d9-8682-a318062fb61b');\n",
              "var x = new MutationObserver(function (mutations, observer) {{\n",
              "        var display = window.getComputedStyle(gd).display;\n",
              "        if (!display || display === 'none') {{\n",
              "            console.log([gd, 'removed!']);\n",
              "            Plotly.purge(gd);\n",
              "            observer.disconnect();\n",
              "        }}\n",
              "}});\n",
              "\n",
              "// Listen for the removal of the full notebook cells\n",
              "var notebookContainer = gd.closest('#notebook-container');\n",
              "if (notebookContainer) {{\n",
              "    x.observe(notebookContainer, {childList: true});\n",
              "}}\n",
              "\n",
              "// Listen for the clearing of the current output cell\n",
              "var outputEl = gd.closest('.output');\n",
              "if (outputEl) {{\n",
              "    x.observe(outputEl, {childList: true});\n",
              "}}\n",
              "\n",
              "                        })\n",
              "                };\n",
              "                \n",
              "            </script>\n",
              "        </div>\n",
              "</body>\n",
              "</html>"
            ]
          },
          "metadata": {
            "tags": []
          }
        }
      ]
    },
    {
      "cell_type": "code",
      "metadata": {
        "id": "r7WMHNM25cIH",
        "colab": {
          "base_uri": "https://localhost:8080/",
          "height": 542
        },
        "outputId": "5d9c29b4-58a1-4e04-e399-ab304ba45709"
      },
      "source": [
        "# Hacemos un histograma de las estaciones de Julio en los demás meses después de aplicar el criterio de mejora\n",
        "fig = go.Figure()\n",
        "fig.add_trace(go.Bar(x=booleano_panda_mej_ago.nuevo_Rendimiento,\n",
        "                y=booleano_panda_mej_ago.Cantidad,\n",
        "                name='AGOSTO',\n",
        "                marker_color='rgb(39,64,139)'\n",
        "                ))\n",
        "fig.add_trace(go.Bar(x=booleano_panda_mej_sep.nuevo_Rendimiento,\n",
        "                y=booleano_panda_mej_sep.Cantidad,\n",
        "                name='SEPTIEMBRE',\n",
        "                marker_color='rgb(26, 118, 255)'\n",
        "                ))\n",
        "fig.add_trace(go.Bar(x=booleano_panda_mej_oct.nuevo_Rendimiento,\n",
        "                y=booleano_panda_mej_oct.Cantidad,\n",
        "                name='OCTUBRE',\n",
        "                marker_color='rgb(108,166,205)'\n",
        "                ))\n",
        "fig.add_trace(go.Bar(x=booleano_panda_mej_nov.nuevo_Rendimiento,\n",
        "                y=booleano_panda_mej_nov.Cantidad,\n",
        "                name='NOVIEMBRE',\n",
        "                marker_color='rgb(99,184,255)'\n",
        "                ))\n",
        "fig.add_trace(go.Bar(x=booleano_panda_mej_dic.nuevo_Rendimiento,\n",
        "                y=booleano_panda_mej_dic.Cantidad,\n",
        "                name='DICIEMBRE',\n",
        "                marker_color='rgb(135,206,255)'\n",
        "                ))\n",
        "fig.update_layout(\n",
        "    title='Comparación por Meses aplicada mejora',\n",
        "    xaxis_tickfont_size=14,\n",
        "    yaxis=dict(\n",
        "        title='Cantidad',\n",
        "        titlefont_size=16,\n",
        "        tickfont_size=14,\n",
        "    ),\n",
        "    legend=dict(\n",
        "        bgcolor='rgba(255, 255, 255, 0)',\n",
        "        bordercolor='rgba(255, 255, 255, 0)'\n",
        "    ),\n",
        "    barmode='group',\n",
        "    bargap=0.15,\n",
        "    bargroupgap=0.1\n",
        ")\n",
        "fig.show()"
      ],
      "execution_count": null,
      "outputs": [
        {
          "output_type": "display_data",
          "data": {
            "text/html": [
              "<html>\n",
              "<head><meta charset=\"utf-8\" /></head>\n",
              "<body>\n",
              "    <div>\n",
              "            <script src=\"https://cdnjs.cloudflare.com/ajax/libs/mathjax/2.7.5/MathJax.js?config=TeX-AMS-MML_SVG\"></script><script type=\"text/javascript\">if (window.MathJax) {MathJax.Hub.Config({SVG: {font: \"STIX-Web\"}});}</script>\n",
              "                <script type=\"text/javascript\">window.PlotlyConfig = {MathJaxConfig: 'local'};</script>\n",
              "        <script src=\"https://cdn.plot.ly/plotly-latest.min.js\"></script>    \n",
              "            <div id=\"c75206b4-b6d4-440d-99c0-aba255e19ff9\" class=\"plotly-graph-div\" style=\"height:525px; width:100%;\"></div>\n",
              "            <script type=\"text/javascript\">\n",
              "                \n",
              "                    window.PLOTLYENV=window.PLOTLYENV || {};\n",
              "                    \n",
              "                if (document.getElementById(\"c75206b4-b6d4-440d-99c0-aba255e19ff9\")) {\n",
              "                    Plotly.newPlot(\n",
              "                        'c75206b4-b6d4-440d-99c0-aba255e19ff9',\n",
              "                        [{\"marker\": {\"color\": \"rgb(39,64,139)\"}, \"name\": \"AGOSTO\", \"type\": \"bar\", \"x\": [null, \"No Optimo\", \"Optimo\"], \"y\": [0, 8, 44]}, {\"marker\": {\"color\": \"rgb(26, 118, 255)\"}, \"name\": \"SEPTIEMBRE\", \"type\": \"bar\", \"x\": [null, \"No Optimo\", \"Optimo\"], \"y\": [0, 15, 32]}, {\"marker\": {\"color\": \"rgb(108,166,205)\"}, \"name\": \"OCTUBRE\", \"type\": \"bar\", \"x\": [null, \"No Optimo\", \"Optimo\"], \"y\": [0, 13, 37]}, {\"marker\": {\"color\": \"rgb(99,184,255)\"}, \"name\": \"NOVIEMBRE\", \"type\": \"bar\", \"x\": [null, \"No Optimo\", \"Optimo\"], \"y\": [0, 11, 39]}, {\"marker\": {\"color\": \"rgb(135,206,255)\"}, \"name\": \"DICIEMBRE\", \"type\": \"bar\", \"x\": [null, \"No Optimo\", \"Optimo\"], \"y\": [0, 15, 35]}],\n",
              "                        {\"bargap\": 0.15, \"bargroupgap\": 0.1, \"barmode\": \"group\", \"legend\": {\"bgcolor\": \"rgba(255, 255, 255, 0)\", \"bordercolor\": \"rgba(255, 255, 255, 0)\"}, \"template\": {\"data\": {\"bar\": [{\"error_x\": {\"color\": \"#2a3f5f\"}, \"error_y\": {\"color\": \"#2a3f5f\"}, \"marker\": {\"line\": {\"color\": \"#E5ECF6\", \"width\": 0.5}}, \"type\": \"bar\"}], \"barpolar\": [{\"marker\": {\"line\": {\"color\": \"#E5ECF6\", \"width\": 0.5}}, \"type\": \"barpolar\"}], \"carpet\": [{\"aaxis\": {\"endlinecolor\": \"#2a3f5f\", \"gridcolor\": \"white\", \"linecolor\": \"white\", \"minorgridcolor\": \"white\", \"startlinecolor\": \"#2a3f5f\"}, \"baxis\": {\"endlinecolor\": \"#2a3f5f\", \"gridcolor\": \"white\", \"linecolor\": \"white\", \"minorgridcolor\": \"white\", \"startlinecolor\": \"#2a3f5f\"}, \"type\": \"carpet\"}], \"choropleth\": [{\"colorbar\": {\"outlinewidth\": 0, \"ticks\": \"\"}, \"type\": \"choropleth\"}], \"contour\": [{\"colorbar\": {\"outlinewidth\": 0, \"ticks\": \"\"}, \"colorscale\": [[0.0, \"#0d0887\"], [0.1111111111111111, \"#46039f\"], [0.2222222222222222, \"#7201a8\"], [0.3333333333333333, \"#9c179e\"], [0.4444444444444444, \"#bd3786\"], [0.5555555555555556, \"#d8576b\"], [0.6666666666666666, \"#ed7953\"], [0.7777777777777778, \"#fb9f3a\"], [0.8888888888888888, \"#fdca26\"], [1.0, \"#f0f921\"]], \"type\": \"contour\"}], \"contourcarpet\": [{\"colorbar\": {\"outlinewidth\": 0, \"ticks\": \"\"}, \"type\": \"contourcarpet\"}], \"heatmap\": [{\"colorbar\": {\"outlinewidth\": 0, \"ticks\": \"\"}, \"colorscale\": [[0.0, \"#0d0887\"], [0.1111111111111111, \"#46039f\"], [0.2222222222222222, \"#7201a8\"], [0.3333333333333333, \"#9c179e\"], [0.4444444444444444, \"#bd3786\"], [0.5555555555555556, \"#d8576b\"], [0.6666666666666666, \"#ed7953\"], [0.7777777777777778, \"#fb9f3a\"], [0.8888888888888888, \"#fdca26\"], [1.0, \"#f0f921\"]], \"type\": \"heatmap\"}], \"heatmapgl\": [{\"colorbar\": {\"outlinewidth\": 0, \"ticks\": \"\"}, \"colorscale\": [[0.0, \"#0d0887\"], [0.1111111111111111, \"#46039f\"], [0.2222222222222222, \"#7201a8\"], [0.3333333333333333, \"#9c179e\"], [0.4444444444444444, \"#bd3786\"], [0.5555555555555556, \"#d8576b\"], [0.6666666666666666, \"#ed7953\"], [0.7777777777777778, \"#fb9f3a\"], [0.8888888888888888, \"#fdca26\"], [1.0, \"#f0f921\"]], \"type\": \"heatmapgl\"}], \"histogram\": [{\"marker\": {\"colorbar\": {\"outlinewidth\": 0, \"ticks\": \"\"}}, \"type\": \"histogram\"}], \"histogram2d\": [{\"colorbar\": {\"outlinewidth\": 0, \"ticks\": \"\"}, \"colorscale\": [[0.0, \"#0d0887\"], [0.1111111111111111, \"#46039f\"], [0.2222222222222222, \"#7201a8\"], [0.3333333333333333, \"#9c179e\"], [0.4444444444444444, \"#bd3786\"], [0.5555555555555556, \"#d8576b\"], [0.6666666666666666, \"#ed7953\"], [0.7777777777777778, \"#fb9f3a\"], [0.8888888888888888, \"#fdca26\"], [1.0, \"#f0f921\"]], \"type\": \"histogram2d\"}], \"histogram2dcontour\": [{\"colorbar\": {\"outlinewidth\": 0, \"ticks\": \"\"}, \"colorscale\": [[0.0, \"#0d0887\"], [0.1111111111111111, \"#46039f\"], [0.2222222222222222, \"#7201a8\"], [0.3333333333333333, \"#9c179e\"], [0.4444444444444444, \"#bd3786\"], [0.5555555555555556, \"#d8576b\"], [0.6666666666666666, \"#ed7953\"], [0.7777777777777778, \"#fb9f3a\"], [0.8888888888888888, \"#fdca26\"], [1.0, \"#f0f921\"]], \"type\": \"histogram2dcontour\"}], \"mesh3d\": [{\"colorbar\": {\"outlinewidth\": 0, \"ticks\": \"\"}, \"type\": \"mesh3d\"}], \"parcoords\": [{\"line\": {\"colorbar\": {\"outlinewidth\": 0, \"ticks\": \"\"}}, \"type\": \"parcoords\"}], \"pie\": [{\"automargin\": true, \"type\": \"pie\"}], \"scatter\": [{\"marker\": {\"colorbar\": {\"outlinewidth\": 0, \"ticks\": \"\"}}, \"type\": \"scatter\"}], \"scatter3d\": [{\"line\": {\"colorbar\": {\"outlinewidth\": 0, \"ticks\": \"\"}}, \"marker\": {\"colorbar\": {\"outlinewidth\": 0, \"ticks\": \"\"}}, \"type\": \"scatter3d\"}], \"scattercarpet\": [{\"marker\": {\"colorbar\": {\"outlinewidth\": 0, \"ticks\": \"\"}}, \"type\": \"scattercarpet\"}], \"scattergeo\": [{\"marker\": {\"colorbar\": {\"outlinewidth\": 0, \"ticks\": \"\"}}, \"type\": \"scattergeo\"}], \"scattergl\": [{\"marker\": {\"colorbar\": {\"outlinewidth\": 0, \"ticks\": \"\"}}, \"type\": \"scattergl\"}], \"scattermapbox\": [{\"marker\": {\"colorbar\": {\"outlinewidth\": 0, \"ticks\": \"\"}}, \"type\": \"scattermapbox\"}], \"scatterpolar\": [{\"marker\": {\"colorbar\": {\"outlinewidth\": 0, \"ticks\": \"\"}}, \"type\": \"scatterpolar\"}], \"scatterpolargl\": [{\"marker\": {\"colorbar\": {\"outlinewidth\": 0, \"ticks\": \"\"}}, \"type\": \"scatterpolargl\"}], \"scatterternary\": [{\"marker\": {\"colorbar\": {\"outlinewidth\": 0, \"ticks\": \"\"}}, \"type\": \"scatterternary\"}], \"surface\": [{\"colorbar\": {\"outlinewidth\": 0, \"ticks\": \"\"}, \"colorscale\": [[0.0, \"#0d0887\"], [0.1111111111111111, \"#46039f\"], [0.2222222222222222, \"#7201a8\"], [0.3333333333333333, \"#9c179e\"], [0.4444444444444444, \"#bd3786\"], [0.5555555555555556, \"#d8576b\"], [0.6666666666666666, \"#ed7953\"], [0.7777777777777778, \"#fb9f3a\"], [0.8888888888888888, \"#fdca26\"], [1.0, \"#f0f921\"]], \"type\": \"surface\"}], \"table\": [{\"cells\": {\"fill\": {\"color\": \"#EBF0F8\"}, \"line\": {\"color\": \"white\"}}, \"header\": {\"fill\": {\"color\": \"#C8D4E3\"}, \"line\": {\"color\": \"white\"}}, \"type\": \"table\"}]}, \"layout\": {\"annotationdefaults\": {\"arrowcolor\": \"#2a3f5f\", \"arrowhead\": 0, \"arrowwidth\": 1}, \"coloraxis\": {\"colorbar\": {\"outlinewidth\": 0, \"ticks\": \"\"}}, \"colorscale\": {\"diverging\": [[0, \"#8e0152\"], [0.1, \"#c51b7d\"], [0.2, \"#de77ae\"], [0.3, \"#f1b6da\"], [0.4, \"#fde0ef\"], [0.5, \"#f7f7f7\"], [0.6, \"#e6f5d0\"], [0.7, \"#b8e186\"], [0.8, \"#7fbc41\"], [0.9, \"#4d9221\"], [1, \"#276419\"]], \"sequential\": [[0.0, \"#0d0887\"], [0.1111111111111111, \"#46039f\"], [0.2222222222222222, \"#7201a8\"], [0.3333333333333333, \"#9c179e\"], [0.4444444444444444, \"#bd3786\"], [0.5555555555555556, \"#d8576b\"], [0.6666666666666666, \"#ed7953\"], [0.7777777777777778, \"#fb9f3a\"], [0.8888888888888888, \"#fdca26\"], [1.0, \"#f0f921\"]], \"sequentialminus\": [[0.0, \"#0d0887\"], [0.1111111111111111, \"#46039f\"], [0.2222222222222222, \"#7201a8\"], [0.3333333333333333, \"#9c179e\"], [0.4444444444444444, \"#bd3786\"], [0.5555555555555556, \"#d8576b\"], [0.6666666666666666, \"#ed7953\"], [0.7777777777777778, \"#fb9f3a\"], [0.8888888888888888, \"#fdca26\"], [1.0, \"#f0f921\"]]}, \"colorway\": [\"#636efa\", \"#EF553B\", \"#00cc96\", \"#ab63fa\", \"#FFA15A\", \"#19d3f3\", \"#FF6692\", \"#B6E880\", \"#FF97FF\", \"#FECB52\"], \"font\": {\"color\": \"#2a3f5f\"}, \"geo\": {\"bgcolor\": \"white\", \"lakecolor\": \"white\", \"landcolor\": \"#E5ECF6\", \"showlakes\": true, \"showland\": true, \"subunitcolor\": \"white\"}, \"hoverlabel\": {\"align\": \"left\"}, \"hovermode\": \"closest\", \"mapbox\": {\"style\": \"light\"}, \"paper_bgcolor\": \"white\", \"plot_bgcolor\": \"#E5ECF6\", \"polar\": {\"angularaxis\": {\"gridcolor\": \"white\", \"linecolor\": \"white\", \"ticks\": \"\"}, \"bgcolor\": \"#E5ECF6\", \"radialaxis\": {\"gridcolor\": \"white\", \"linecolor\": \"white\", \"ticks\": \"\"}}, \"scene\": {\"xaxis\": {\"backgroundcolor\": \"#E5ECF6\", \"gridcolor\": \"white\", \"gridwidth\": 2, \"linecolor\": \"white\", \"showbackground\": true, \"ticks\": \"\", \"zerolinecolor\": \"white\"}, \"yaxis\": {\"backgroundcolor\": \"#E5ECF6\", \"gridcolor\": \"white\", \"gridwidth\": 2, \"linecolor\": \"white\", \"showbackground\": true, \"ticks\": \"\", \"zerolinecolor\": \"white\"}, \"zaxis\": {\"backgroundcolor\": \"#E5ECF6\", \"gridcolor\": \"white\", \"gridwidth\": 2, \"linecolor\": \"white\", \"showbackground\": true, \"ticks\": \"\", \"zerolinecolor\": \"white\"}}, \"shapedefaults\": {\"line\": {\"color\": \"#2a3f5f\"}}, \"ternary\": {\"aaxis\": {\"gridcolor\": \"white\", \"linecolor\": \"white\", \"ticks\": \"\"}, \"baxis\": {\"gridcolor\": \"white\", \"linecolor\": \"white\", \"ticks\": \"\"}, \"bgcolor\": \"#E5ECF6\", \"caxis\": {\"gridcolor\": \"white\", \"linecolor\": \"white\", \"ticks\": \"\"}}, \"title\": {\"x\": 0.05}, \"xaxis\": {\"automargin\": true, \"gridcolor\": \"white\", \"linecolor\": \"white\", \"ticks\": \"\", \"title\": {\"standoff\": 15}, \"zerolinecolor\": \"white\", \"zerolinewidth\": 2}, \"yaxis\": {\"automargin\": true, \"gridcolor\": \"white\", \"linecolor\": \"white\", \"ticks\": \"\", \"title\": {\"standoff\": 15}, \"zerolinecolor\": \"white\", \"zerolinewidth\": 2}}}, \"title\": {\"text\": \"Comparaci\\u00f3n por Meses aplicada mejora\"}, \"xaxis\": {\"tickfont\": {\"size\": 14}}, \"yaxis\": {\"tickfont\": {\"size\": 14}, \"title\": {\"font\": {\"size\": 16}, \"text\": \"Cantidad\"}}},\n",
              "                        {\"responsive\": true}\n",
              "                    ).then(function(){\n",
              "                            \n",
              "var gd = document.getElementById('c75206b4-b6d4-440d-99c0-aba255e19ff9');\n",
              "var x = new MutationObserver(function (mutations, observer) {{\n",
              "        var display = window.getComputedStyle(gd).display;\n",
              "        if (!display || display === 'none') {{\n",
              "            console.log([gd, 'removed!']);\n",
              "            Plotly.purge(gd);\n",
              "            observer.disconnect();\n",
              "        }}\n",
              "}});\n",
              "\n",
              "// Listen for the removal of the full notebook cells\n",
              "var notebookContainer = gd.closest('#notebook-container');\n",
              "if (notebookContainer) {{\n",
              "    x.observe(notebookContainer, {childList: true});\n",
              "}}\n",
              "\n",
              "// Listen for the clearing of the current output cell\n",
              "var outputEl = gd.closest('.output');\n",
              "if (outputEl) {{\n",
              "    x.observe(outputEl, {childList: true});\n",
              "}}\n",
              "\n",
              "                        })\n",
              "                };\n",
              "                \n",
              "            </script>\n",
              "        </div>\n",
              "</body>\n",
              "</html>"
            ]
          },
          "metadata": {
            "tags": []
          }
        }
      ]
    },
    {
      "cell_type": "code",
      "metadata": {
        "id": "h6E66D2VPhKI",
        "colab": {
          "base_uri": "https://localhost:8080/",
          "height": 542
        },
        "outputId": "5fb0efcc-0e6e-4ece-b900-8219baf45ab9"
      },
      "source": [
        "# Hacemos un histograma con las estaciones óptimas y no óptimas de cada mes\n",
        "fig = go.Figure()\n",
        "fig.add_trace(go.Bar(x=booleano_panda_jul_total.Rendimiento,\n",
        "                y=booleano_panda_jul_total.Cantidad,\n",
        "                name='JULIO',\n",
        "                marker_color='rgb(0,0,128)'\n",
        "                ))\n",
        "fig.add_trace(go.Bar(x=booleano_panda_ago_total.Rendimiento,\n",
        "                y=booleano_panda_ago_total.Cantidad,\n",
        "                name='AGOSTO',\n",
        "                marker_color='rgb(39,64,139)'\n",
        "                ))\n",
        "fig.add_trace(go.Bar(x=booleano_panda_sep_total.Rendimiento,\n",
        "                y=booleano_panda_sep_total.Cantidad,\n",
        "                name='SEPTIEMBRE',\n",
        "                marker_color='rgb(26, 118, 255)'\n",
        "                ))\n",
        "fig.add_trace(go.Bar(x=booleano_panda_oct_total.Rendimiento,\n",
        "                y=booleano_panda_oct_total.Cantidad,\n",
        "                name='OCTUBRE',\n",
        "                marker_color='rgb(108,166,205)'\n",
        "                ))\n",
        "fig.add_trace(go.Bar(x=booleano_panda_nov_total.Rendimiento,\n",
        "                y=booleano_panda_nov_total.Cantidad,\n",
        "                name='NOVIEMBRE',\n",
        "                marker_color='rgb(99,184,255)'\n",
        "                ))\n",
        "fig.add_trace(go.Bar(x=booleano_panda_dic_total.Rendimiento,\n",
        "                y=booleano_panda_dic_total.Cantidad,\n",
        "                name='DICIEMBRE',\n",
        "                marker_color='rgb(135,206,255)'\n",
        "                ))\n",
        "fig.update_layout(\n",
        "    title='Rendimiento por meses',\n",
        "    xaxis_tickfont_size=14,\n",
        "    yaxis=dict(\n",
        "        title='Cantidad',\n",
        "        titlefont_size=16,\n",
        "        tickfont_size=14,\n",
        "    ),\n",
        "    legend=dict(\n",
        "        bgcolor='rgba(255, 255, 255, 0)',\n",
        "        bordercolor='rgba(255, 255, 255, 0)'\n",
        "    ),\n",
        "    barmode='group',\n",
        "    bargap=0.15,\n",
        "    bargroupgap=0.1\n",
        ")\n",
        "fig.show()"
      ],
      "execution_count": null,
      "outputs": [
        {
          "output_type": "display_data",
          "data": {
            "text/html": [
              "<html>\n",
              "<head><meta charset=\"utf-8\" /></head>\n",
              "<body>\n",
              "    <div>\n",
              "            <script src=\"https://cdnjs.cloudflare.com/ajax/libs/mathjax/2.7.5/MathJax.js?config=TeX-AMS-MML_SVG\"></script><script type=\"text/javascript\">if (window.MathJax) {MathJax.Hub.Config({SVG: {font: \"STIX-Web\"}});}</script>\n",
              "                <script type=\"text/javascript\">window.PlotlyConfig = {MathJaxConfig: 'local'};</script>\n",
              "        <script src=\"https://cdn.plot.ly/plotly-latest.min.js\"></script>    \n",
              "            <div id=\"3a02ac41-12c6-41d5-b043-e94f33da8699\" class=\"plotly-graph-div\" style=\"height:525px; width:100%;\"></div>\n",
              "            <script type=\"text/javascript\">\n",
              "                \n",
              "                    window.PLOTLYENV=window.PLOTLYENV || {};\n",
              "                    \n",
              "                if (document.getElementById(\"3a02ac41-12c6-41d5-b043-e94f33da8699\")) {\n",
              "                    Plotly.newPlot(\n",
              "                        '3a02ac41-12c6-41d5-b043-e94f33da8699',\n",
              "                        [{\"marker\": {\"color\": \"rgb(0,0,128)\"}, \"name\": \"JULIO\", \"type\": \"bar\", \"x\": [\"No Optimo\", \"Optimo\"], \"y\": [52, 118]}, {\"marker\": {\"color\": \"rgb(39,64,139)\"}, \"name\": \"AGOSTO\", \"type\": \"bar\", \"x\": [\"No Optimo\", \"Optimo\"], \"y\": [22, 147]}, {\"marker\": {\"color\": \"rgb(26, 118, 255)\"}, \"name\": \"SEPTIEMBRE\", \"type\": \"bar\", \"x\": [\"No Optimo\", \"Optimo\"], \"y\": [20, 148]}, {\"marker\": {\"color\": \"rgb(108,166,205)\"}, \"name\": \"OCTUBRE\", \"type\": \"bar\", \"x\": [\"No Optimo\", \"Optimo\"], \"y\": [20, 147]}, {\"marker\": {\"color\": \"rgb(99,184,255)\"}, \"name\": \"NOVIEMBRE\", \"type\": \"bar\", \"x\": [\"No Optimo\", \"Optimo\"], \"y\": [24, 144]}, {\"marker\": {\"color\": \"rgb(135,206,255)\"}, \"name\": \"DICIEMBRE\", \"type\": \"bar\", \"x\": [\"No Optimo\", \"Optimo\"], \"y\": [43, 125]}],\n",
              "                        {\"bargap\": 0.15, \"bargroupgap\": 0.1, \"barmode\": \"group\", \"legend\": {\"bgcolor\": \"rgba(255, 255, 255, 0)\", \"bordercolor\": \"rgba(255, 255, 255, 0)\"}, \"template\": {\"data\": {\"bar\": [{\"error_x\": {\"color\": \"#2a3f5f\"}, \"error_y\": {\"color\": \"#2a3f5f\"}, \"marker\": {\"line\": {\"color\": \"#E5ECF6\", \"width\": 0.5}}, \"type\": \"bar\"}], \"barpolar\": [{\"marker\": {\"line\": {\"color\": \"#E5ECF6\", \"width\": 0.5}}, \"type\": \"barpolar\"}], \"carpet\": [{\"aaxis\": {\"endlinecolor\": \"#2a3f5f\", \"gridcolor\": \"white\", \"linecolor\": \"white\", \"minorgridcolor\": \"white\", \"startlinecolor\": \"#2a3f5f\"}, \"baxis\": {\"endlinecolor\": \"#2a3f5f\", \"gridcolor\": \"white\", \"linecolor\": \"white\", \"minorgridcolor\": \"white\", \"startlinecolor\": \"#2a3f5f\"}, \"type\": \"carpet\"}], \"choropleth\": [{\"colorbar\": {\"outlinewidth\": 0, \"ticks\": \"\"}, \"type\": \"choropleth\"}], \"contour\": [{\"colorbar\": {\"outlinewidth\": 0, \"ticks\": \"\"}, \"colorscale\": [[0.0, \"#0d0887\"], [0.1111111111111111, \"#46039f\"], [0.2222222222222222, \"#7201a8\"], [0.3333333333333333, \"#9c179e\"], [0.4444444444444444, \"#bd3786\"], [0.5555555555555556, \"#d8576b\"], [0.6666666666666666, \"#ed7953\"], [0.7777777777777778, \"#fb9f3a\"], [0.8888888888888888, \"#fdca26\"], [1.0, \"#f0f921\"]], \"type\": \"contour\"}], \"contourcarpet\": [{\"colorbar\": {\"outlinewidth\": 0, \"ticks\": \"\"}, \"type\": \"contourcarpet\"}], \"heatmap\": [{\"colorbar\": {\"outlinewidth\": 0, \"ticks\": \"\"}, \"colorscale\": [[0.0, \"#0d0887\"], [0.1111111111111111, \"#46039f\"], [0.2222222222222222, \"#7201a8\"], [0.3333333333333333, \"#9c179e\"], [0.4444444444444444, \"#bd3786\"], [0.5555555555555556, \"#d8576b\"], [0.6666666666666666, \"#ed7953\"], [0.7777777777777778, \"#fb9f3a\"], [0.8888888888888888, \"#fdca26\"], [1.0, \"#f0f921\"]], \"type\": \"heatmap\"}], \"heatmapgl\": [{\"colorbar\": {\"outlinewidth\": 0, \"ticks\": \"\"}, \"colorscale\": [[0.0, \"#0d0887\"], [0.1111111111111111, \"#46039f\"], [0.2222222222222222, \"#7201a8\"], [0.3333333333333333, \"#9c179e\"], [0.4444444444444444, \"#bd3786\"], [0.5555555555555556, \"#d8576b\"], [0.6666666666666666, \"#ed7953\"], [0.7777777777777778, \"#fb9f3a\"], [0.8888888888888888, \"#fdca26\"], [1.0, \"#f0f921\"]], \"type\": \"heatmapgl\"}], \"histogram\": [{\"marker\": {\"colorbar\": {\"outlinewidth\": 0, \"ticks\": \"\"}}, \"type\": \"histogram\"}], \"histogram2d\": [{\"colorbar\": {\"outlinewidth\": 0, \"ticks\": \"\"}, \"colorscale\": [[0.0, \"#0d0887\"], [0.1111111111111111, \"#46039f\"], [0.2222222222222222, \"#7201a8\"], [0.3333333333333333, \"#9c179e\"], [0.4444444444444444, \"#bd3786\"], [0.5555555555555556, \"#d8576b\"], [0.6666666666666666, \"#ed7953\"], [0.7777777777777778, \"#fb9f3a\"], [0.8888888888888888, \"#fdca26\"], [1.0, \"#f0f921\"]], \"type\": \"histogram2d\"}], \"histogram2dcontour\": [{\"colorbar\": {\"outlinewidth\": 0, \"ticks\": \"\"}, \"colorscale\": [[0.0, \"#0d0887\"], [0.1111111111111111, \"#46039f\"], [0.2222222222222222, \"#7201a8\"], [0.3333333333333333, \"#9c179e\"], [0.4444444444444444, \"#bd3786\"], [0.5555555555555556, \"#d8576b\"], [0.6666666666666666, \"#ed7953\"], [0.7777777777777778, \"#fb9f3a\"], [0.8888888888888888, \"#fdca26\"], [1.0, \"#f0f921\"]], \"type\": \"histogram2dcontour\"}], \"mesh3d\": [{\"colorbar\": {\"outlinewidth\": 0, \"ticks\": \"\"}, \"type\": \"mesh3d\"}], \"parcoords\": [{\"line\": {\"colorbar\": {\"outlinewidth\": 0, \"ticks\": \"\"}}, \"type\": \"parcoords\"}], \"pie\": [{\"automargin\": true, \"type\": \"pie\"}], \"scatter\": [{\"marker\": {\"colorbar\": {\"outlinewidth\": 0, \"ticks\": \"\"}}, \"type\": \"scatter\"}], \"scatter3d\": [{\"line\": {\"colorbar\": {\"outlinewidth\": 0, \"ticks\": \"\"}}, \"marker\": {\"colorbar\": {\"outlinewidth\": 0, \"ticks\": \"\"}}, \"type\": \"scatter3d\"}], \"scattercarpet\": [{\"marker\": {\"colorbar\": {\"outlinewidth\": 0, \"ticks\": \"\"}}, \"type\": \"scattercarpet\"}], \"scattergeo\": [{\"marker\": {\"colorbar\": {\"outlinewidth\": 0, \"ticks\": \"\"}}, \"type\": \"scattergeo\"}], \"scattergl\": [{\"marker\": {\"colorbar\": {\"outlinewidth\": 0, \"ticks\": \"\"}}, \"type\": \"scattergl\"}], \"scattermapbox\": [{\"marker\": {\"colorbar\": {\"outlinewidth\": 0, \"ticks\": \"\"}}, \"type\": \"scattermapbox\"}], \"scatterpolar\": [{\"marker\": {\"colorbar\": {\"outlinewidth\": 0, \"ticks\": \"\"}}, \"type\": \"scatterpolar\"}], \"scatterpolargl\": [{\"marker\": {\"colorbar\": {\"outlinewidth\": 0, \"ticks\": \"\"}}, \"type\": \"scatterpolargl\"}], \"scatterternary\": [{\"marker\": {\"colorbar\": {\"outlinewidth\": 0, \"ticks\": \"\"}}, \"type\": \"scatterternary\"}], \"surface\": [{\"colorbar\": {\"outlinewidth\": 0, \"ticks\": \"\"}, \"colorscale\": [[0.0, \"#0d0887\"], [0.1111111111111111, \"#46039f\"], [0.2222222222222222, \"#7201a8\"], [0.3333333333333333, \"#9c179e\"], [0.4444444444444444, \"#bd3786\"], [0.5555555555555556, \"#d8576b\"], [0.6666666666666666, \"#ed7953\"], [0.7777777777777778, \"#fb9f3a\"], [0.8888888888888888, \"#fdca26\"], [1.0, \"#f0f921\"]], \"type\": \"surface\"}], \"table\": [{\"cells\": {\"fill\": {\"color\": \"#EBF0F8\"}, \"line\": {\"color\": \"white\"}}, \"header\": {\"fill\": {\"color\": \"#C8D4E3\"}, \"line\": {\"color\": \"white\"}}, \"type\": \"table\"}]}, \"layout\": {\"annotationdefaults\": {\"arrowcolor\": \"#2a3f5f\", \"arrowhead\": 0, \"arrowwidth\": 1}, \"coloraxis\": {\"colorbar\": {\"outlinewidth\": 0, \"ticks\": \"\"}}, \"colorscale\": {\"diverging\": [[0, \"#8e0152\"], [0.1, \"#c51b7d\"], [0.2, \"#de77ae\"], [0.3, \"#f1b6da\"], [0.4, \"#fde0ef\"], [0.5, \"#f7f7f7\"], [0.6, \"#e6f5d0\"], [0.7, \"#b8e186\"], [0.8, \"#7fbc41\"], [0.9, \"#4d9221\"], [1, \"#276419\"]], \"sequential\": [[0.0, \"#0d0887\"], [0.1111111111111111, \"#46039f\"], [0.2222222222222222, \"#7201a8\"], [0.3333333333333333, \"#9c179e\"], [0.4444444444444444, \"#bd3786\"], [0.5555555555555556, \"#d8576b\"], [0.6666666666666666, \"#ed7953\"], [0.7777777777777778, \"#fb9f3a\"], [0.8888888888888888, \"#fdca26\"], [1.0, \"#f0f921\"]], \"sequentialminus\": [[0.0, \"#0d0887\"], [0.1111111111111111, \"#46039f\"], [0.2222222222222222, \"#7201a8\"], [0.3333333333333333, \"#9c179e\"], [0.4444444444444444, \"#bd3786\"], [0.5555555555555556, \"#d8576b\"], [0.6666666666666666, \"#ed7953\"], [0.7777777777777778, \"#fb9f3a\"], [0.8888888888888888, \"#fdca26\"], [1.0, \"#f0f921\"]]}, \"colorway\": [\"#636efa\", \"#EF553B\", \"#00cc96\", \"#ab63fa\", \"#FFA15A\", \"#19d3f3\", \"#FF6692\", \"#B6E880\", \"#FF97FF\", \"#FECB52\"], \"font\": {\"color\": \"#2a3f5f\"}, \"geo\": {\"bgcolor\": \"white\", \"lakecolor\": \"white\", \"landcolor\": \"#E5ECF6\", \"showlakes\": true, \"showland\": true, \"subunitcolor\": \"white\"}, \"hoverlabel\": {\"align\": \"left\"}, \"hovermode\": \"closest\", \"mapbox\": {\"style\": \"light\"}, \"paper_bgcolor\": \"white\", \"plot_bgcolor\": \"#E5ECF6\", \"polar\": {\"angularaxis\": {\"gridcolor\": \"white\", \"linecolor\": \"white\", \"ticks\": \"\"}, \"bgcolor\": \"#E5ECF6\", \"radialaxis\": {\"gridcolor\": \"white\", \"linecolor\": \"white\", \"ticks\": \"\"}}, \"scene\": {\"xaxis\": {\"backgroundcolor\": \"#E5ECF6\", \"gridcolor\": \"white\", \"gridwidth\": 2, \"linecolor\": \"white\", \"showbackground\": true, \"ticks\": \"\", \"zerolinecolor\": \"white\"}, \"yaxis\": {\"backgroundcolor\": \"#E5ECF6\", \"gridcolor\": \"white\", \"gridwidth\": 2, \"linecolor\": \"white\", \"showbackground\": true, \"ticks\": \"\", \"zerolinecolor\": \"white\"}, \"zaxis\": {\"backgroundcolor\": \"#E5ECF6\", \"gridcolor\": \"white\", \"gridwidth\": 2, \"linecolor\": \"white\", \"showbackground\": true, \"ticks\": \"\", \"zerolinecolor\": \"white\"}}, \"shapedefaults\": {\"line\": {\"color\": \"#2a3f5f\"}}, \"ternary\": {\"aaxis\": {\"gridcolor\": \"white\", \"linecolor\": \"white\", \"ticks\": \"\"}, \"baxis\": {\"gridcolor\": \"white\", \"linecolor\": \"white\", \"ticks\": \"\"}, \"bgcolor\": \"#E5ECF6\", \"caxis\": {\"gridcolor\": \"white\", \"linecolor\": \"white\", \"ticks\": \"\"}}, \"title\": {\"x\": 0.05}, \"xaxis\": {\"automargin\": true, \"gridcolor\": \"white\", \"linecolor\": \"white\", \"ticks\": \"\", \"title\": {\"standoff\": 15}, \"zerolinecolor\": \"white\", \"zerolinewidth\": 2}, \"yaxis\": {\"automargin\": true, \"gridcolor\": \"white\", \"linecolor\": \"white\", \"ticks\": \"\", \"title\": {\"standoff\": 15}, \"zerolinecolor\": \"white\", \"zerolinewidth\": 2}}}, \"title\": {\"text\": \"Rendimiento por meses\"}, \"xaxis\": {\"tickfont\": {\"size\": 14}}, \"yaxis\": {\"tickfont\": {\"size\": 14}, \"title\": {\"font\": {\"size\": 16}, \"text\": \"Cantidad\"}}},\n",
              "                        {\"responsive\": true}\n",
              "                    ).then(function(){\n",
              "                            \n",
              "var gd = document.getElementById('3a02ac41-12c6-41d5-b043-e94f33da8699');\n",
              "var x = new MutationObserver(function (mutations, observer) {{\n",
              "        var display = window.getComputedStyle(gd).display;\n",
              "        if (!display || display === 'none') {{\n",
              "            console.log([gd, 'removed!']);\n",
              "            Plotly.purge(gd);\n",
              "            observer.disconnect();\n",
              "        }}\n",
              "}});\n",
              "\n",
              "// Listen for the removal of the full notebook cells\n",
              "var notebookContainer = gd.closest('#notebook-container');\n",
              "if (notebookContainer) {{\n",
              "    x.observe(notebookContainer, {childList: true});\n",
              "}}\n",
              "\n",
              "// Listen for the clearing of the current output cell\n",
              "var outputEl = gd.closest('.output');\n",
              "if (outputEl) {{\n",
              "    x.observe(outputEl, {childList: true});\n",
              "}}\n",
              "\n",
              "                        })\n",
              "                };\n",
              "                \n",
              "            </script>\n",
              "        </div>\n",
              "</body>\n",
              "</html>"
            ]
          },
          "metadata": {
            "tags": []
          }
        }
      ]
    }
  ]
}
